{
 "cells": [
  {
   "cell_type": "markdown",
   "metadata": {},
   "source": [
    "# Millenials and Investment: an Ongoing Exploration\n",
    "\n",
    "In case you haven't heard, [millenials are killing everything](http://www.businessinsider.com/millennials-are-killing-list-2017-8/#diamonds-12) from diamonds to department stores to designer crap to grocery chains.\n",
    "\n",
    "Why? Sure, the recession had an impact. But also, millenials pay more attention to ethics than many multinational corporations bargain for. They cite the blood diamond trade as a major reason to spring for non-traditional engagement rings. They opt for grocery providers that can tell them where their food is coming from and under what conditions it was produced. They're ditching the fast fashion industry for higher-priced items purchased secondhand on sites like Poshmark and ThreadUp. \n",
    "\n",
    "And as millenials reach the age where they might accrue some savings, it makes sense that they would care about where that is going, too. In addition to millenial attendance at the NoDAPL protests, we saw thousands of millenials divest from Western Union, Bank of America, and other banks that loaned money to the project. Maybe megacorps won't change their tunes because a few thousand people stood in a field to get mowed down by water cannons, but they're more likely to sit up and listen when those same people take their hard-earned doll hairs to another playhouse.\n",
    "\n",
    "So we see that millenials are surveying their options to spend and save according to their values. What about investing? Any personal finance 101 that isn't taught by a financial advisor will recommend a low cost index as the place to stick extra money so it can grow with the market. Most index funds, including the most recommended one (Vanguard), decide their investments via index-matching: matching their holdings to the S&P500 by market cap, with no other variables. Thing is, plenty of investors are expressing interest in taking ethical considerations into account. Some portfolios do this by blanket blocking investments in certain industries like tobacco or porn. Other more advanced optsions, like Betterment's AutoSRI portfolio, use actual ESG data to determine where they invest the money. There isn't (yet) a fully customizable option to allow folks to automatically invest their funds based on a checklist of their individual values. For a while, I've thought about building a toy version of what that might look like. \n",
    "\n",
    "When I talk about the idea with friends and relatives, I get the following objection: 'What about the returns?' Touche. Nobody wants to lose out on their potential earnings. At first, I figured I'd build a tolerance into the system that allowed investors to say 'These are my values, but please don't invest in a way that will trail general market performance by more than x percent.' The algorithm would then predict stock performance for each company, somehow blend that with ESG rating, and come up with a combined weight for divvying up investment money.\n",
    "\n",
    "Before I build that, though, I need to test the assumption that high ESG ratings *do* correlate negatively with returns. If they don't, there's no need for the tolerance measure in the first place.\n",
    "\n",
    "I'm not the first person to run correlations along these lines. Dorfleitner, Utz, and Wimmer published a paper on this just last year. [Their analysis](http://www.tandfonline.com/doi/full/10.1080/20430795.2017.1403272?scroll=top&needAccess=true) suggests that higher corporate social responsibility ratings *increase* returns over a long period of time (\"long\" being a 12 year period from 2002-2014). They even identify three specific areas that correlate with higher than average returns: emission and resource reduction, workforce, and society. So in my exploration, I'll dig into some specific CSR breakdowns with the data I have on S&P 500 companies. "
   ]
  },
  {
   "cell_type": "code",
   "execution_count": 1,
   "metadata": {
    "collapsed": true
   },
   "outputs": [],
   "source": [
    "import pandas as pd"
   ]
  },
  {
   "cell_type": "markdown",
   "metadata": {},
   "source": [
    "## Correlating KLD ESG Ratings to Stock Performance, 1991-1999\n",
    "\n",
    "Let's determine whether we notice any correlation between companies' environmental, social, and governmental ratings and their stock performance during the 1990s. \n",
    "\n",
    "### First, we pull in the ESG data. \n",
    "\n",
    "These come from KLD and are now distributed by MSGI. I pulled them from an academic database. Don't rerun this notebook because I didn't push the actual data to Github. "
   ]
  },
  {
   "cell_type": "code",
   "execution_count": 2,
   "metadata": {
    "collapsed": false
   },
   "outputs": [],
   "source": [
    "y91 = pd.read_excel('../stockproject/12231046.1990-1999.stats/1991 HistoricalSpreadsheet_STATS.xls')\n",
    "y92 = pd.read_excel('../stockproject/12231046.1990-1999.stats/1992 HistoricalSpreadsheet_STATS.xls')\n",
    "y93 = pd.read_excel('../stockproject/12231046.1990-1999.stats/1993 HistoricalSpreadsheet_STATS.xls')\n",
    "y94 = pd.read_excel('../stockproject/12231046.1990-1999.stats/1994 HistoricalSpreadsheet_STATS.xls')\n",
    "y95 = pd.read_excel('../stockproject/12231046.1990-1999.stats/1995 HistoricalSpreadsheet_STATS.xls')\n",
    "y96 = pd.read_excel('../stockproject/12231046.1990-1999.stats/1996 HistoricalSpreadsheet_STATS.xls')\n",
    "y97 = pd.read_excel('../stockproject/12231046.1990-1999.stats/1997 HistoricalSpreadsheet_STATS.xls')\n",
    "y98 = pd.read_excel('../stockproject/12231046.1990-1999.stats/1998 HistoricalSpreadsheet_STATS.xls')\n",
    "y99 = pd.read_excel('../stockproject/12231046.1990-1999.stats/1999 HistoricalSpreadsheet_STATS.xls')\n",
    "nineties = [y91, y92, y93, y94, y95, y96, y97, y98, y99]"
   ]
  },
  {
   "cell_type": "code",
   "execution_count": 3,
   "metadata": {
    "collapsed": false
   },
   "outputs": [
    {
     "data": {
      "text/html": [
       "<div>\n",
       "<table border=\"1\" class=\"dataframe\">\n",
       "  <thead>\n",
       "    <tr style=\"text-align: right;\">\n",
       "      <th></th>\n",
       "      <th>Ticker</th>\n",
       "      <th>num_yrs_min_CEO</th>\n",
       "    </tr>\n",
       "  </thead>\n",
       "  <tbody>\n",
       "    <tr>\n",
       "      <th>291</th>\n",
       "      <td>GDW</td>\n",
       "      <td>9</td>\n",
       "    </tr>\n",
       "    <tr>\n",
       "      <th>119</th>\n",
       "      <td>CA</td>\n",
       "      <td>7</td>\n",
       "    </tr>\n",
       "    <tr>\n",
       "      <th>381</th>\n",
       "      <td>KO</td>\n",
       "      <td>4</td>\n",
       "    </tr>\n",
       "    <tr>\n",
       "      <th>6</th>\n",
       "      <td>ACAD</td>\n",
       "      <td>4</td>\n",
       "    </tr>\n",
       "    <tr>\n",
       "      <th>417</th>\n",
       "      <td>MAT</td>\n",
       "      <td>4</td>\n",
       "    </tr>\n",
       "  </tbody>\n",
       "</table>\n",
       "</div>"
      ],
      "text/plain": [
       "    Ticker  num_yrs_min_CEO\n",
       "291    GDW                9\n",
       "119     CA                7\n",
       "381     KO                4\n",
       "6     ACAD                4\n",
       "417    MAT                4"
      ]
     },
     "execution_count": 3,
     "metadata": {},
     "output_type": "execute_result"
    }
   ],
   "source": [
    "def filter_500(df):\n",
    "    return df[df['SP500'] == True]\n",
    "\n",
    "sp500_90s = []    \n",
    "for data in nineties:\n",
    "  sp500_90s.append(filter_500(data))\n",
    "\n",
    "grouping = pd.concat(sp500_90s).groupby('Ticker')['DIV-str-A'].sum()\n",
    "num_years_minority_CEO = pd.DataFrame({'num_yrs_min_CEO' : grouping}).reset_index()\n",
    "num_years_minority_CEO.sort_values(by=['num_yrs_min_CEO'], ascending=False).head()"
   ]
  },
  {
   "cell_type": "markdown",
   "metadata": {},
   "source": [
    "### Second, we pull in stock performance data.\n",
    "\n",
    "This data contains stock returns by quarter for S&P500 companies dating back to 1979. We'll pull the columns for the '90s for now."
   ]
  },
  {
   "cell_type": "code",
   "execution_count": 4,
   "metadata": {
    "collapsed": true
   },
   "outputs": [],
   "source": [
    "price_data = pd.read_excel('../stockproject/Cleaned_Researcher_Dataset.xlsx')"
   ]
  },
  {
   "cell_type": "code",
   "execution_count": 5,
   "metadata": {
    "collapsed": false
   },
   "outputs": [
    {
     "data": {
      "text/html": [
       "<div>\n",
       "<table border=\"1\" class=\"dataframe\">\n",
       "  <thead>\n",
       "    <tr style=\"text-align: right;\">\n",
       "      <th></th>\n",
       "      <th>Ticker</th>\n",
       "      <th>Company Name</th>\n",
       "      <th>1989-12-31 00:00:00</th>\n",
       "      <th>1990-03-31 00:00:00</th>\n",
       "      <th>1990-06-30 00:00:00</th>\n",
       "      <th>1990-09-30 00:00:00</th>\n",
       "      <th>1990-12-31 00:00:00</th>\n",
       "      <th>1991-03-31 00:00:00</th>\n",
       "      <th>1991-06-30 00:00:00</th>\n",
       "      <th>1991-09-30 00:00:00</th>\n",
       "      <th>...</th>\n",
       "      <th>1999-03-31 00:00:00</th>\n",
       "      <th>1999-06-30 00:00:00</th>\n",
       "      <th>1999-09-30 00:00:00</th>\n",
       "      <th>1999-12-31 00:00:00</th>\n",
       "      <th>2000-03-31 00:00:00</th>\n",
       "      <th>2000-06-30 00:00:00</th>\n",
       "      <th>2000-09-30 00:00:00</th>\n",
       "      <th>2000-12-31 00:00:00</th>\n",
       "      <th>2001-03-31 00:00:00</th>\n",
       "      <th>2001-06-30 00:00:00</th>\n",
       "    </tr>\n",
       "  </thead>\n",
       "  <tbody>\n",
       "    <tr>\n",
       "      <th>1</th>\n",
       "      <td>A</td>\n",
       "      <td>Agilent Technologies Inc.</td>\n",
       "      <td>NaN</td>\n",
       "      <td>NaN</td>\n",
       "      <td>NaN</td>\n",
       "      <td>NaN</td>\n",
       "      <td>NaN</td>\n",
       "      <td>NaN</td>\n",
       "      <td>NaN</td>\n",
       "      <td>NaN</td>\n",
       "      <td>...</td>\n",
       "      <td>NaN</td>\n",
       "      <td>NaN</td>\n",
       "      <td>NaN</td>\n",
       "      <td>NaN</td>\n",
       "      <td>NaN</td>\n",
       "      <td>73.75</td>\n",
       "      <td>48.94</td>\n",
       "      <td>54.75</td>\n",
       "      <td>30.73</td>\n",
       "      <td>32.5</td>\n",
       "    </tr>\n",
       "    <tr>\n",
       "      <th>2</th>\n",
       "      <td>AA</td>\n",
       "      <td>Alcoa Inc</td>\n",
       "      <td>75</td>\n",
       "      <td>64.75</td>\n",
       "      <td>63.75</td>\n",
       "      <td>62.63</td>\n",
       "      <td>57.63</td>\n",
       "      <td>65.5</td>\n",
       "      <td>67.5</td>\n",
       "      <td>63.88</td>\n",
       "      <td>...</td>\n",
       "      <td>41.19</td>\n",
       "      <td>61.88</td>\n",
       "      <td>62.06</td>\n",
       "      <td>83</td>\n",
       "      <td>70.25</td>\n",
       "      <td>29</td>\n",
       "      <td>25.31</td>\n",
       "      <td>33.5</td>\n",
       "      <td>35.95</td>\n",
       "      <td>39.4</td>\n",
       "    </tr>\n",
       "    <tr>\n",
       "      <th>3</th>\n",
       "      <td>AAL</td>\n",
       "      <td>American Airlines Group</td>\n",
       "      <td>NaN</td>\n",
       "      <td>NaN</td>\n",
       "      <td>NaN</td>\n",
       "      <td>NaN</td>\n",
       "      <td>NaN</td>\n",
       "      <td>NaN</td>\n",
       "      <td>NaN</td>\n",
       "      <td>NaN</td>\n",
       "      <td>...</td>\n",
       "      <td>NaN</td>\n",
       "      <td>NaN</td>\n",
       "      <td>NaN</td>\n",
       "      <td>NaN</td>\n",
       "      <td>NaN</td>\n",
       "      <td>NaN</td>\n",
       "      <td>NaN</td>\n",
       "      <td>NaN</td>\n",
       "      <td>NaN</td>\n",
       "      <td>NaN</td>\n",
       "    </tr>\n",
       "    <tr>\n",
       "      <th>4</th>\n",
       "      <td>AAL (Alex)</td>\n",
       "      <td>Alexander &amp; Alexander</td>\n",
       "      <td>30.63</td>\n",
       "      <td>26.75</td>\n",
       "      <td>24.38</td>\n",
       "      <td>17.88</td>\n",
       "      <td>23.13</td>\n",
       "      <td>26.25</td>\n",
       "      <td>22.5</td>\n",
       "      <td>20.88</td>\n",
       "      <td>...</td>\n",
       "      <td>NaN</td>\n",
       "      <td>NaN</td>\n",
       "      <td>NaN</td>\n",
       "      <td>NaN</td>\n",
       "      <td>NaN</td>\n",
       "      <td>NaN</td>\n",
       "      <td>NaN</td>\n",
       "      <td>NaN</td>\n",
       "      <td>NaN</td>\n",
       "      <td>NaN</td>\n",
       "    </tr>\n",
       "    <tr>\n",
       "      <th>5</th>\n",
       "      <td>AAP</td>\n",
       "      <td>Advance Auto Parts Inc</td>\n",
       "      <td>NaN</td>\n",
       "      <td>NaN</td>\n",
       "      <td>NaN</td>\n",
       "      <td>NaN</td>\n",
       "      <td>NaN</td>\n",
       "      <td>NaN</td>\n",
       "      <td>NaN</td>\n",
       "      <td>NaN</td>\n",
       "      <td>...</td>\n",
       "      <td>NaN</td>\n",
       "      <td>NaN</td>\n",
       "      <td>NaN</td>\n",
       "      <td>NaN</td>\n",
       "      <td>NaN</td>\n",
       "      <td>NaN</td>\n",
       "      <td>NaN</td>\n",
       "      <td>NaN</td>\n",
       "      <td>NaN</td>\n",
       "      <td>NaN</td>\n",
       "    </tr>\n",
       "  </tbody>\n",
       "</table>\n",
       "<p>5 rows × 49 columns</p>\n",
       "</div>"
      ],
      "text/plain": [
       "       Ticker               Company Name 1989-12-31 00:00:00  \\\n",
       "1           A  Agilent Technologies Inc.                 NaN   \n",
       "2          AA                  Alcoa Inc                  75   \n",
       "3         AAL    American Airlines Group                 NaN   \n",
       "4  AAL (Alex)      Alexander & Alexander               30.63   \n",
       "5         AAP     Advance Auto Parts Inc                 NaN   \n",
       "\n",
       "  1990-03-31 00:00:00 1990-06-30 00:00:00 1990-09-30 00:00:00  \\\n",
       "1                 NaN                 NaN                 NaN   \n",
       "2               64.75               63.75               62.63   \n",
       "3                 NaN                 NaN                 NaN   \n",
       "4               26.75               24.38               17.88   \n",
       "5                 NaN                 NaN                 NaN   \n",
       "\n",
       "  1990-12-31 00:00:00 1991-03-31 00:00:00 1991-06-30 00:00:00  \\\n",
       "1                 NaN                 NaN                 NaN   \n",
       "2               57.63                65.5                67.5   \n",
       "3                 NaN                 NaN                 NaN   \n",
       "4               23.13               26.25                22.5   \n",
       "5                 NaN                 NaN                 NaN   \n",
       "\n",
       "  1991-09-30 00:00:00         ...         1999-03-31 00:00:00  \\\n",
       "1                 NaN         ...                         NaN   \n",
       "2               63.88         ...                       41.19   \n",
       "3                 NaN         ...                         NaN   \n",
       "4               20.88         ...                         NaN   \n",
       "5                 NaN         ...                         NaN   \n",
       "\n",
       "  1999-06-30 00:00:00 1999-09-30 00:00:00 1999-12-31 00:00:00  \\\n",
       "1                 NaN                 NaN                 NaN   \n",
       "2               61.88               62.06                  83   \n",
       "3                 NaN                 NaN                 NaN   \n",
       "4                 NaN                 NaN                 NaN   \n",
       "5                 NaN                 NaN                 NaN   \n",
       "\n",
       "  2000-03-31 00:00:00 2000-06-30 00:00:00 2000-09-30 00:00:00  \\\n",
       "1                 NaN               73.75               48.94   \n",
       "2               70.25                  29               25.31   \n",
       "3                 NaN                 NaN                 NaN   \n",
       "4                 NaN                 NaN                 NaN   \n",
       "5                 NaN                 NaN                 NaN   \n",
       "\n",
       "  2000-12-31 00:00:00 2001-03-31 00:00:00 2001-06-30 00:00:00  \n",
       "1               54.75               30.73                32.5  \n",
       "2                33.5               35.95                39.4  \n",
       "3                 NaN                 NaN                 NaN  \n",
       "4                 NaN                 NaN                 NaN  \n",
       "5                 NaN                 NaN                 NaN  \n",
       "\n",
       "[5 rows x 49 columns]"
      ]
     },
     "execution_count": 5,
     "metadata": {},
     "output_type": "execute_result"
    }
   ],
   "source": [
    "new_header = price_data.iloc[0] #grab the first row for the header\n",
    "content = price_data[1:] #take the data less the header row\n",
    "content.columns = new_header #set the header row as the df header\n",
    "content.head()\n",
    "\n",
    "tickers = content.iloc[:,0:2]\n",
    "tickers.columns = list(new_header)[0:2]\n",
    "\n",
    "dates = content.iloc[:,45:92]\n",
    "dates.columns = list(new_header)[45:92]\n",
    "\n",
    "result = pd.concat([tickers, dates], axis=1)\n",
    "result.head()"
   ]
  },
  {
   "cell_type": "markdown",
   "metadata": {},
   "source": [
    "### Third, we combine the data into one dataframe.\n",
    "\n",
    "We find all the companies for which we have both stock price data and ESG data, and we put the information together."
   ]
  },
  {
   "cell_type": "code",
   "execution_count": 6,
   "metadata": {
    "collapsed": false
   },
   "outputs": [
    {
     "data": {
      "text/plain": [
       "(595, 49)"
      ]
     },
     "execution_count": 6,
     "metadata": {},
     "output_type": "execute_result"
    }
   ],
   "source": [
    "tickers = list(num_years_minority_CEO[\"Ticker\"]) #get all the company tickers for which we have esg data\n",
    "prices_for_esg_companies = result[result[\"Ticker\"].isin(tickers)] #get the stock data from companies in that list\n",
    "prices_for_esg_companies.shape"
   ]
  },
  {
   "cell_type": "markdown",
   "metadata": {},
   "source": [
    "Hm, we have 399 of them. 100 are missing. Why?"
   ]
  },
  {
   "cell_type": "code",
   "execution_count": 7,
   "metadata": {
    "collapsed": false
   },
   "outputs": [
    {
     "ename": "NameError",
     "evalue": "name 'min_CEO_data' is not defined",
     "output_type": "error",
     "traceback": [
      "\u001b[0;31m---------------------------------------------------------------------------\u001b[0m",
      "\u001b[0;31mNameError\u001b[0m                                 Traceback (most recent call last)",
      "\u001b[0;32m<ipython-input-7-b1dc4cde80d6>\u001b[0m in \u001b[0;36m<module>\u001b[0;34m()\u001b[0m\n\u001b[0;32m----> 1\u001b[0;31m \u001b[0mrelevant_esgs\u001b[0m \u001b[0;34m=\u001b[0m \u001b[0mmin_CEO_data\u001b[0m\u001b[0;34m[\u001b[0m\u001b[0mmin_CEO_data\u001b[0m\u001b[0;34m[\u001b[0m\u001b[0;34m\"Ticker\"\u001b[0m\u001b[0;34m]\u001b[0m\u001b[0;34m.\u001b[0m\u001b[0misin\u001b[0m\u001b[0;34m(\u001b[0m\u001b[0mlist\u001b[0m\u001b[0;34m(\u001b[0m\u001b[0mprices_for_esg_companies\u001b[0m\u001b[0;34m[\u001b[0m\u001b[0;34m\"Ticker\"\u001b[0m\u001b[0;34m]\u001b[0m\u001b[0;34m)\u001b[0m\u001b[0;34m)\u001b[0m\u001b[0;34m]\u001b[0m\u001b[0;34m\u001b[0m\u001b[0m\n\u001b[0m",
      "\u001b[0;31mNameError\u001b[0m: name 'min_CEO_data' is not defined"
     ]
    }
   ],
   "source": [
    "relevant_esgs = min_CEO_data[min_CEO_data[\"Ticker\"].isin(list(prices_for_esg_companies[\"Ticker\"]))]"
   ]
  },
  {
   "cell_type": "code",
   "execution_count": null,
   "metadata": {
    "collapsed": false
   },
   "outputs": [],
   "source": [
    "all_data = pd.concat([relevant_esgs, prices_for_esg_companies], axis = 1) #put the esg and stock data in one dataframe\n",
    "all_data[\"num_yrs_min_CEO\"].unique()"
   ]
  },
  {
   "cell_type": "code",
   "execution_count": null,
   "metadata": {
    "collapsed": false
   },
   "outputs": [],
   "source": [
    "#let's do some cleanup so we only have the columns we need.\n",
    "clean_data = all_data.drop(['CUSIP', 'SP500', 'DS400', 'Russell1000', 'LCS', 'Russell2000', 'BMS'], axis = 1)\n",
    "clean_data.head()"
   ]
  },
  {
   "cell_type": "code",
   "execution_count": null,
   "metadata": {
    "collapsed": false
   },
   "outputs": [],
   "source": [
    "#Now let's strip this down so we can calculate returns over the course of the ten year period.\n",
    "len(clean_data.columns.values)"
   ]
  },
  {
   "cell_type": "code",
   "execution_count": null,
   "metadata": {
    "collapsed": false
   },
   "outputs": [],
   "source": [
    "esg_columns = clean_data.iloc[:,1:4]\n",
    "esg_columns.columns.values"
   ]
  },
  {
   "cell_type": "code",
   "execution_count": null,
   "metadata": {
    "collapsed": false
   },
   "outputs": [],
   "source": [
    "start_stock_columns = clean_data.iloc[:,4:5]\n",
    "\n",
    "string_header = ['start_stock_prices'] #grab the first row for the header\n",
    "start_stock_columns = start_stock_columns[1:] #take the data less the header row\n",
    "start_stock_columns.columns = string_header #set the header row as the df header\n",
    "\n",
    "start_stock_columns.columns.values"
   ]
  },
  {
   "cell_type": "code",
   "execution_count": null,
   "metadata": {
    "collapsed": false
   },
   "outputs": [],
   "source": [
    "end_stock_columns = clean_data.iloc[:,48:49]\n",
    "\n",
    "string_header = ['end_stock_prices'] #grab the first row for the header\n",
    "end_stock_columns = end_stock_columns[1:] #take the data less the header row\n",
    "end_stock_columns.columns = string_header #set the header row as the df header\n",
    "\n",
    "end_stock_columns.columns.values"
   ]
  },
  {
   "cell_type": "code",
   "execution_count": null,
   "metadata": {
    "collapsed": false
   },
   "outputs": [],
   "source": [
    "minimum_data = pd.concat([esg_columns, start_stock_columns, end_stock_columns], axis=1)\n",
    "minimum_data.shape\n",
    "minimum_data.head()"
   ]
  },
  {
   "cell_type": "code",
   "execution_count": null,
   "metadata": {
    "collapsed": false
   },
   "outputs": [],
   "source": [
    "#Let's filter this down to only those companies for which we have\n",
    "# a starting and ending stock price over this period. \n",
    "yes_start_date = minimum_data[minimum_data['start_stock_prices'].notnull()]\n",
    "yes_end_date = yes_start_date[yes_start_date['end_stock_prices'].notnull()]\n",
    "yes_end_date.head()"
   ]
  },
  {
   "cell_type": "markdown",
   "metadata": {},
   "source": [
    "Let's pick a category to start with. Why CEO (DIV-str-A)? \n",
    "\n",
    "According to the KLD documentation, this category indicates if The company's chief executive officer is a woman or a member of a minority group."
   ]
  },
  {
   "cell_type": "code",
   "execution_count": null,
   "metadata": {
    "collapsed": false
   },
   "outputs": [],
   "source": [
    "yes_end_date['returns'] = yes_end_date['end_stock_prices'] / yes_end_date['start_stock_prices']\n",
    "yes_end_date = yes_end_date.fillna(0) #any company without num_yrs_min_CEO gets 0\n",
    "yes_end_date.sort_values('num_yrs_min_CEO', ascending=False).head()\n"
   ]
  },
  {
   "cell_type": "markdown",
   "metadata": {},
   "source": [
    "I'll comment briefly on a trend in this data. In 1991, when recordings begin, there is only one S&P500 company (out of 500)with a not-white-dude CEO. By 1999, we're up to a still-abysmal-but-better number at 20. "
   ]
  },
  {
   "cell_type": "code",
   "execution_count": null,
   "metadata": {
    "collapsed": false
   },
   "outputs": [],
   "source": [
    "import matplotlib.pyplot as plt\n",
    "import random\n",
    "%matplotlib inline  \n",
    "\n",
    "# for title, group in div_str_a.groupby('DIV-str-A'):\n",
    "#     my_randoms = random.sample(range(100), len(group))\n",
    "#     returns = list(group['returns'])\n",
    "#     plt.scatter(x=my_randoms, y=returns)\n",
    "\n",
    "num_yrs = yes_end_date['num_yrs_min_CEO']\n",
    "returns = yes_end_date[\"returns\"]\n",
    "plt.scatter(x=num_yrs, y=returns)"
   ]
  },
  {
   "cell_type": "markdown",
   "metadata": {},
   "source": [
    "In orange, we have companies with minority CEOs in 1999. In blue, companies with non-minority CEOs in 1999. The height of each dot represents returns on that company's stock price over the '90s. This isn't a ton of data from which to extrapolate anything, and we won't extrapolate from this. We randomly chose DIV-str-A as a way to get our general analytical tools in place. Now we can try running this on some other ESG metrics with more data rigor and see what we find."
   ]
  },
  {
   "cell_type": "code",
   "execution_count": null,
   "metadata": {
    "collapsed": true
   },
   "outputs": [],
   "source": []
  }
 ],
 "metadata": {
  "kernelspec": {
   "display_name": "Python 3",
   "language": "python",
   "name": "python3"
  },
  "language_info": {
   "codemirror_mode": {
    "name": "ipython",
    "version": 3
   },
   "file_extension": ".py",
   "mimetype": "text/x-python",
   "name": "python",
   "nbconvert_exporter": "python",
   "pygments_lexer": "ipython3",
   "version": "3.6.1"
  }
 },
 "nbformat": 4,
 "nbformat_minor": 2
}
