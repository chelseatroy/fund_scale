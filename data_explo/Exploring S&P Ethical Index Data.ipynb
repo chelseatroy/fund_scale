{
 "cells": [
  {
   "cell_type": "markdown",
   "metadata": {},
   "source": [
    "# Millenials and Investment: an Ongoing Exploration\n",
    "\n",
    "In case you haven't heard, [millenials are killing everything](http://www.businessinsider.com/millennials-are-killing-list-2017-8/#diamonds-12) from diamonds to department stores to designer crap to grocery chains.\n",
    "\n",
    "Why? Sure, the recession had an impact. But also, millenials pay more attention to ethics than many multinational corporations bargain for. They cite the blood diamond trade as a major reason to spring for non-traditional engagement rings. They opt for grocery providers that can tell them where their food is coming from and under what conditions it was produced. They're ditching the fast fashion industry for higher-priced items purchased secondhand on sites like Poshmark and ThreadUp. \n",
    "\n",
    "And as millenials reach the age where they might accrue some savings, it makes sense that they would care about where that is going, too. In addition to millenial attendance at the NoDAPL protests, we saw thousands of millenials divest from Western Union, Bank of America, and other banks that loaned money to the project. Maybe megacorps won't change their tunes because a few thousand people stood in a field to get mowed down by water cannons, but they're more likely to sit up and listen when those same people take their hard-earned doll hairs to another playhouse.\n",
    "\n",
    "So we see that millenials are surveying their options to spend and save according to their values. What about investing? Any personal finance 101 that isn't taught by a financial advisor will recommend a low cost index as the place to stick extra money so it can grow with the market. Most index funds, including the most recommended one (Vanguard), decide their investments via index-matching: matching their holdings to the S&P500 by market cap, with no other variables. Thing is, plenty of investors are expressing interest in taking ethical considerations into account. Some portfolios do this by blanket blocking investments in certain industries like tobacco or porn. Other more advanced optsions, like Betterment's AutoSRI portfolio, use actual ESG data to determine where they invest the money. There isn't (yet) a fully customizable option to allow folks to automatically invest their funds based on a checklist of their individual values. For a while, I've thought about building a toy version of what that might look like. \n",
    "\n",
    "When I talk about the idea with friends and relatives, I get the following objection: 'What about the returns?' Touche. Nobody wants to lose out on their potential earnings. At first, I figured I'd build a tolerance into the system that allowed investors to say 'These are my values, but please don't invest in a way that will trail general market performance by more than x percent.' The algorithm would then predict stock performance for each company, somehow blend that with ESG rating, and come up with a combined weight for divvying up investment money.\n",
    "\n",
    "Before I build that, though, I need to test the assumption that high ESG ratings *do* correlate negatively with returns. If they don't, there's no need for the tolerance measure in the first place.\n",
    "\n",
    "I'm not the first person to run correlations along these lines. Dorfleitner, Utz, and Wimmer published a paper on this just last year. [Their analysis](http://www.tandfonline.com/doi/full/10.1080/20430795.2017.1403272?scroll=top&needAccess=true) suggests that higher corporate social responsibility ratings *increase* returns over a long period of time (\"long\" being a 12 year period from 2002-2014). They even identify three specific areas that correlate with higher than average returns: emission and resource reduction, workforce, and society. So in my exploration, I'll dig into some specific CSR breakdowns with the data I have on S&P 500 companies. "
   ]
  },
  {
   "cell_type": "code",
   "execution_count": 1,
   "metadata": {
    "collapsed": true
   },
   "outputs": [],
   "source": [
    "import pandas as pd"
   ]
  },
  {
   "cell_type": "markdown",
   "metadata": {},
   "source": [
    "## Correlating KLD ESG Ratings to Stock Performance, 1991-1999\n",
    "\n",
    "Let's determine whether we notice any correlation between companies' environmental, social, and governmental ratings and their stock performance during the 1990s. \n",
    "\n",
    "### First, we pull in the ESG data. \n",
    "\n",
    "These come from KLD and are now distributed by MSGI. I pulled them from an academic database. Don't rerun this notebook because I didn't push the actual data to Github. "
   ]
  },
  {
   "cell_type": "code",
   "execution_count": 2,
   "metadata": {
    "collapsed": true
   },
   "outputs": [],
   "source": [
    "y91 = pd.read_excel('../stockproject/12231046.1990-1999.stats/1991 HistoricalSpreadsheet_STATS.xls')\n",
    "y92 = pd.read_excel('../stockproject/12231046.1990-1999.stats/1992 HistoricalSpreadsheet_STATS.xls')\n",
    "y93 = pd.read_excel('../stockproject/12231046.1990-1999.stats/1993 HistoricalSpreadsheet_STATS.xls')\n",
    "y94 = pd.read_excel('../stockproject/12231046.1990-1999.stats/1994 HistoricalSpreadsheet_STATS.xls')\n",
    "y95 = pd.read_excel('../stockproject/12231046.1990-1999.stats/1995 HistoricalSpreadsheet_STATS.xls')\n",
    "y96 = pd.read_excel('../stockproject/12231046.1990-1999.stats/1996 HistoricalSpreadsheet_STATS.xls')\n",
    "y97 = pd.read_excel('../stockproject/12231046.1990-1999.stats/1997 HistoricalSpreadsheet_STATS.xls')\n",
    "y98 = pd.read_excel('../stockproject/12231046.1990-1999.stats/1998 HistoricalSpreadsheet_STATS.xls')\n",
    "y99 = pd.read_excel('../stockproject/12231046.1990-1999.stats/1999 HistoricalSpreadsheet_STATS.xls')\n",
    "\n",
    "nineties = [y91, y92, y93, y94, y95, y96, y97, y98, y99]"
   ]
  },
  {
   "cell_type": "code",
   "execution_count": 3,
   "metadata": {
    "collapsed": false
   },
   "outputs": [],
   "source": [
    "y00 = pd.read_excel('../stockproject/12231046.2000-2009.stats/2000 HistoricalSpreadsheet_STATS.xls')\n",
    "y01 = pd.read_excel('../stockproject/12231046.2000-2009.stats/2001 HistoricalSpreadsheet_STATS.xls')\n",
    "y02 = pd.read_excel('../stockproject/12231046.2000-2009.stats/2002 HistoricalSpreadsheet_STATS.xls')\n",
    "y03 = pd.read_excel('../stockproject/12231046.2000-2009.stats/2003 HistoricalSpreadsheet_STATS.xls')\n",
    "y04 = pd.read_excel('../stockproject/12231046.2000-2009.stats/2004 HistoricalSpreadsheet_STATS.xls')\n",
    "y05 = pd.read_excel('../stockproject/12231046.2000-2009.stats/2005 Historical Spreadsheet_STATS.xls') #wth KLD\n",
    "y06 = pd.read_excel('../stockproject/12231046.2000-2009.stats/2006 Historical Spreadsheet_STATS.xls')\n",
    "y07 = pd.read_excel('../stockproject/12231046.2000-2009.stats/2007 HistoricalSpreadsheet_STATS.xls')\n",
    "y08 = pd.read_excel('../stockproject/12231046.2000-2009.stats/2008 HistoricalSpreadsheet_STATS.xls')\n",
    "y09 = pd.read_excel('../stockproject/12231046.2000-2009.stats/2009 HistoricalSpreadsheet_STATS.xls')\n",
    "\n",
    "\n",
    "two_thousands = [y00, y01, y02, y03, y04]\n",
    "#might not have the sp500 column. Need to check"
   ]
  },
  {
   "cell_type": "code",
   "execution_count": 4,
   "metadata": {
    "collapsed": false
   },
   "outputs": [
    {
     "data": {
      "text/html": [
       "<div>\n",
       "<table border=\"1\" class=\"dataframe\">\n",
       "  <thead>\n",
       "    <tr style=\"text-align: right;\">\n",
       "      <th></th>\n",
       "      <th>ALC-con-#</th>\n",
       "      <th>ALC-con-A</th>\n",
       "      <th>ALC-con-X</th>\n",
       "      <th>BMS</th>\n",
       "      <th>CGOV-con-#</th>\n",
       "      <th>CGOV-con-B</th>\n",
       "      <th>CGOV-con-F</th>\n",
       "      <th>CGOV-con-G</th>\n",
       "      <th>CGOV-con-H</th>\n",
       "      <th>CGOV-con-I</th>\n",
       "      <th>...</th>\n",
       "      <th>Russell2000</th>\n",
       "      <th>SP500</th>\n",
       "      <th>TOB-con-#</th>\n",
       "      <th>TOB-con-A</th>\n",
       "      <th>TOB-con-X</th>\n",
       "      <th>Ticker</th>\n",
       "      <th>EMP-str-sum</th>\n",
       "      <th>EMP-con-sum</th>\n",
       "      <th>ENV-str-sum</th>\n",
       "      <th>ENV-con-sum</th>\n",
       "    </tr>\n",
       "  </thead>\n",
       "  <tbody>\n",
       "    <tr>\n",
       "      <th>0</th>\n",
       "      <td>0</td>\n",
       "      <td>0</td>\n",
       "      <td>NR</td>\n",
       "      <td>NaN</td>\n",
       "      <td>0</td>\n",
       "      <td>0</td>\n",
       "      <td>0</td>\n",
       "      <td>NR</td>\n",
       "      <td>NR</td>\n",
       "      <td>NR</td>\n",
       "      <td>...</td>\n",
       "      <td>NaN</td>\n",
       "      <td>True</td>\n",
       "      <td>0</td>\n",
       "      <td>0</td>\n",
       "      <td>NR</td>\n",
       "      <td>ABT</td>\n",
       "      <td>0</td>\n",
       "      <td>0</td>\n",
       "      <td>0</td>\n",
       "      <td>1</td>\n",
       "    </tr>\n",
       "    <tr>\n",
       "      <th>1</th>\n",
       "      <td>0</td>\n",
       "      <td>0</td>\n",
       "      <td>NR</td>\n",
       "      <td>NaN</td>\n",
       "      <td>0</td>\n",
       "      <td>0</td>\n",
       "      <td>0</td>\n",
       "      <td>NR</td>\n",
       "      <td>NR</td>\n",
       "      <td>NR</td>\n",
       "      <td>...</td>\n",
       "      <td>NaN</td>\n",
       "      <td>True</td>\n",
       "      <td>0</td>\n",
       "      <td>0</td>\n",
       "      <td>NR</td>\n",
       "      <td>AMT</td>\n",
       "      <td>0</td>\n",
       "      <td>0</td>\n",
       "      <td>0</td>\n",
       "      <td>0</td>\n",
       "    </tr>\n",
       "    <tr>\n",
       "      <th>3</th>\n",
       "      <td>0</td>\n",
       "      <td>0</td>\n",
       "      <td>NR</td>\n",
       "      <td>NaN</td>\n",
       "      <td>0</td>\n",
       "      <td>0</td>\n",
       "      <td>0</td>\n",
       "      <td>NR</td>\n",
       "      <td>NR</td>\n",
       "      <td>NR</td>\n",
       "      <td>...</td>\n",
       "      <td>NaN</td>\n",
       "      <td>True</td>\n",
       "      <td>0</td>\n",
       "      <td>0</td>\n",
       "      <td>NR</td>\n",
       "      <td>AMD</td>\n",
       "      <td>1</td>\n",
       "      <td>0</td>\n",
       "      <td>0</td>\n",
       "      <td>1</td>\n",
       "    </tr>\n",
       "    <tr>\n",
       "      <th>4</th>\n",
       "      <td>0</td>\n",
       "      <td>0</td>\n",
       "      <td>NR</td>\n",
       "      <td>NaN</td>\n",
       "      <td>0</td>\n",
       "      <td>0</td>\n",
       "      <td>0</td>\n",
       "      <td>NR</td>\n",
       "      <td>NR</td>\n",
       "      <td>NR</td>\n",
       "      <td>...</td>\n",
       "      <td>NaN</td>\n",
       "      <td>True</td>\n",
       "      <td>0</td>\n",
       "      <td>0</td>\n",
       "      <td>NR</td>\n",
       "      <td>AET</td>\n",
       "      <td>1</td>\n",
       "      <td>0</td>\n",
       "      <td>0</td>\n",
       "      <td>0</td>\n",
       "    </tr>\n",
       "    <tr>\n",
       "      <th>6</th>\n",
       "      <td>0</td>\n",
       "      <td>0</td>\n",
       "      <td>NR</td>\n",
       "      <td>NaN</td>\n",
       "      <td>0</td>\n",
       "      <td>0</td>\n",
       "      <td>0</td>\n",
       "      <td>NR</td>\n",
       "      <td>NR</td>\n",
       "      <td>NR</td>\n",
       "      <td>...</td>\n",
       "      <td>NaN</td>\n",
       "      <td>True</td>\n",
       "      <td>0</td>\n",
       "      <td>0</td>\n",
       "      <td>NR</td>\n",
       "      <td>AHM</td>\n",
       "      <td>0</td>\n",
       "      <td>0</td>\n",
       "      <td>0</td>\n",
       "      <td>0</td>\n",
       "    </tr>\n",
       "  </tbody>\n",
       "</table>\n",
       "<p>5 rows × 127 columns</p>\n",
       "</div>"
      ],
      "text/plain": [
       "   ALC-con-#  ALC-con-A ALC-con-X  BMS  CGOV-con-# CGOV-con-B CGOV-con-F  \\\n",
       "0          0          0        NR  NaN           0          0          0   \n",
       "1          0          0        NR  NaN           0          0          0   \n",
       "3          0          0        NR  NaN           0          0          0   \n",
       "4          0          0        NR  NaN           0          0          0   \n",
       "6          0          0        NR  NaN           0          0          0   \n",
       "\n",
       "  CGOV-con-G CGOV-con-H CGOV-con-I     ...      Russell2000  SP500  TOB-con-#  \\\n",
       "0         NR         NR         NR     ...              NaN   True          0   \n",
       "1         NR         NR         NR     ...              NaN   True          0   \n",
       "3         NR         NR         NR     ...              NaN   True          0   \n",
       "4         NR         NR         NR     ...              NaN   True          0   \n",
       "6         NR         NR         NR     ...              NaN   True          0   \n",
       "\n",
       "   TOB-con-A TOB-con-X Ticker EMP-str-sum  EMP-con-sum ENV-str-sum  \\\n",
       "0          0        NR    ABT           0            0           0   \n",
       "1          0        NR    AMT           0            0           0   \n",
       "3          0        NR    AMD           1            0           0   \n",
       "4          0        NR    AET           1            0           0   \n",
       "6          0        NR    AHM           0            0           0   \n",
       "\n",
       "   ENV-con-sum  \n",
       "0            1  \n",
       "1            0  \n",
       "3            1  \n",
       "4            0  \n",
       "6            0  \n",
       "\n",
       "[5 rows x 127 columns]"
      ]
     },
     "execution_count": 4,
     "metadata": {},
     "output_type": "execute_result"
    }
   ],
   "source": [
    "twenty_years = nineties + two_thousands\n",
    "\n",
    "def filter_500(df):\n",
    "    return df[df['SP500'] == True]\n",
    "\n",
    "sp500_90s = []    \n",
    "for data in twenty_years:\n",
    "  sp500_90s.append(filter_500(data))\n",
    "\n",
    "aggregate_data = pd.concat(sp500_90s)\n",
    "aggregate_data['EMP-str-sum'] = aggregate_data[['EMP-str-A','EMP-str-B','EMP-str-C','EMP-str-D','EMP-str-F','EMP-str-G']].sum(axis=1)\n",
    "aggregate_data['EMP-con-sum'] = aggregate_data[['EMP-con-A','EMP-con-B','EMP-con-C','EMP-con-D']].sum(axis=1)\n",
    "aggregate_data['ENV-str-sum'] = aggregate_data[['ENV-str-A','ENV-str-B','ENV-str-C','ENV-str-D','ENV-str-F','ENV-str-G']].sum(axis=1)\n",
    "aggregate_data['ENV-con-sum'] = aggregate_data[['ENV-con-A','ENV-con-B','ENV-con-C','ENV-con-D','ENV-con-E','ENV-con-F']].sum(axis=1)\n",
    "aggregate_data.head()"
   ]
  },
  {
   "cell_type": "code",
   "execution_count": 5,
   "metadata": {
    "collapsed": false
   },
   "outputs": [],
   "source": [
    "def sum_scores_for(dataframe, esg_marker):\n",
    "    grouping = dataframe.groupby(['Ticker'])[esg_marker].sum()\n",
    "    return pd.DataFrame({esg_marker : grouping}).reset_index()"
   ]
  },
  {
   "cell_type": "code",
   "execution_count": 6,
   "metadata": {
    "collapsed": false
   },
   "outputs": [
    {
     "data": {
      "text/html": [
       "<div>\n",
       "<table border=\"1\" class=\"dataframe\">\n",
       "  <thead>\n",
       "    <tr style=\"text-align: right;\">\n",
       "      <th></th>\n",
       "      <th>Ticker</th>\n",
       "      <th>EMP-str-sum</th>\n",
       "    </tr>\n",
       "  </thead>\n",
       "  <tbody>\n",
       "    <tr>\n",
       "      <th>0</th>\n",
       "      <td>A</td>\n",
       "      <td>6</td>\n",
       "    </tr>\n",
       "    <tr>\n",
       "      <th>1</th>\n",
       "      <td>AA</td>\n",
       "      <td>19</td>\n",
       "    </tr>\n",
       "    <tr>\n",
       "      <th>2</th>\n",
       "      <td>AAL</td>\n",
       "      <td>1</td>\n",
       "    </tr>\n",
       "    <tr>\n",
       "      <th>3</th>\n",
       "      <td>AAPL</td>\n",
       "      <td>7</td>\n",
       "    </tr>\n",
       "    <tr>\n",
       "      <th>4</th>\n",
       "      <td>ABC</td>\n",
       "      <td>0</td>\n",
       "    </tr>\n",
       "  </tbody>\n",
       "</table>\n",
       "</div>"
      ],
      "text/plain": [
       "  Ticker  EMP-str-sum\n",
       "0      A            6\n",
       "1     AA           19\n",
       "2    AAL            1\n",
       "3   AAPL            7\n",
       "4    ABC            0"
      ]
     },
     "execution_count": 6,
     "metadata": {},
     "output_type": "execute_result"
    }
   ],
   "source": [
    "esg_marker_data = sum_scores_for(aggregate_data, 'EMP-str-sum')\n",
    "esg_marker_data.head()"
   ]
  },
  {
   "cell_type": "code",
   "execution_count": 7,
   "metadata": {
    "collapsed": false
   },
   "outputs": [],
   "source": [
    "esg_marker_data['EMP-con-sum'] = sum_scores_for(aggregate_data, 'EMP-con-sum')['EMP-con-sum']\n",
    "esg_marker_data['ENV-str-sum'] = sum_scores_for(aggregate_data, 'ENV-str-sum')['ENV-str-sum']\n",
    "esg_marker_data['ENV-con-sum'] = sum_scores_for(aggregate_data, 'ENV-con-sum')['ENV-con-sum']"
   ]
  },
  {
   "cell_type": "code",
   "execution_count": 8,
   "metadata": {
    "collapsed": false
   },
   "outputs": [
    {
     "data": {
      "text/html": [
       "<div>\n",
       "<table border=\"1\" class=\"dataframe\">\n",
       "  <thead>\n",
       "    <tr style=\"text-align: right;\">\n",
       "      <th></th>\n",
       "      <th>Ticker</th>\n",
       "      <th>EMP-str-sum</th>\n",
       "      <th>EMP-con-sum</th>\n",
       "      <th>ENV-str-sum</th>\n",
       "      <th>ENV-con-sum</th>\n",
       "    </tr>\n",
       "  </thead>\n",
       "  <tbody>\n",
       "    <tr>\n",
       "      <th>150</th>\n",
       "      <td>CAT</td>\n",
       "      <td>16</td>\n",
       "      <td>23</td>\n",
       "      <td>1</td>\n",
       "      <td>10</td>\n",
       "    </tr>\n",
       "    <tr>\n",
       "      <th>847</th>\n",
       "      <td>UNP</td>\n",
       "      <td>4</td>\n",
       "      <td>18</td>\n",
       "      <td>2</td>\n",
       "      <td>28</td>\n",
       "    </tr>\n",
       "    <tr>\n",
       "      <th>649</th>\n",
       "      <td>PD</td>\n",
       "      <td>0</td>\n",
       "      <td>17</td>\n",
       "      <td>0</td>\n",
       "      <td>26</td>\n",
       "    </tr>\n",
       "    <tr>\n",
       "      <th>501</th>\n",
       "      <td>LPX</td>\n",
       "      <td>1</td>\n",
       "      <td>17</td>\n",
       "      <td>3</td>\n",
       "      <td>17</td>\n",
       "    </tr>\n",
       "    <tr>\n",
       "      <th>443</th>\n",
       "      <td>IP</td>\n",
       "      <td>0</td>\n",
       "      <td>16</td>\n",
       "      <td>15</td>\n",
       "      <td>36</td>\n",
       "    </tr>\n",
       "  </tbody>\n",
       "</table>\n",
       "</div>"
      ],
      "text/plain": [
       "    Ticker  EMP-str-sum  EMP-con-sum  ENV-str-sum  ENV-con-sum\n",
       "150    CAT           16           23            1           10\n",
       "847    UNP            4           18            2           28\n",
       "649     PD            0           17            0           26\n",
       "501    LPX            1           17            3           17\n",
       "443     IP            0           16           15           36"
      ]
     },
     "execution_count": 8,
     "metadata": {},
     "output_type": "execute_result"
    }
   ],
   "source": [
    "esg_marker_data.sort_values(by=['EMP-con-sum'], ascending=False).head()"
   ]
  },
  {
   "cell_type": "markdown",
   "metadata": {},
   "source": [
    "### Second, we pull in stock performance data.\n",
    "\n",
    "This data contains stock returns by quarter for S&P500 companies dating back to 1979. We'll pull the columns for the '90s for now."
   ]
  },
  {
   "cell_type": "code",
   "execution_count": 9,
   "metadata": {
    "collapsed": true
   },
   "outputs": [],
   "source": [
    "price_data = pd.read_excel('../stockproject/Cleaned_Researcher_Dataset.xlsx')"
   ]
  },
  {
   "cell_type": "code",
   "execution_count": 10,
   "metadata": {
    "collapsed": false
   },
   "outputs": [
    {
     "data": {
      "text/html": [
       "<div>\n",
       "<table border=\"1\" class=\"dataframe\">\n",
       "  <thead>\n",
       "    <tr style=\"text-align: right;\">\n",
       "      <th></th>\n",
       "      <th>Ticker</th>\n",
       "      <th>Company Name</th>\n",
       "      <th>1989-12-31 00:00:00</th>\n",
       "      <th>1990-03-31 00:00:00</th>\n",
       "      <th>1990-06-30 00:00:00</th>\n",
       "      <th>1990-09-30 00:00:00</th>\n",
       "      <th>1990-12-31 00:00:00</th>\n",
       "      <th>1991-03-31 00:00:00</th>\n",
       "      <th>1991-06-30 00:00:00</th>\n",
       "      <th>1991-09-30 00:00:00</th>\n",
       "      <th>...</th>\n",
       "      <th>1999-03-31 00:00:00</th>\n",
       "      <th>1999-06-30 00:00:00</th>\n",
       "      <th>1999-09-30 00:00:00</th>\n",
       "      <th>1999-12-31 00:00:00</th>\n",
       "      <th>2000-03-31 00:00:00</th>\n",
       "      <th>2000-06-30 00:00:00</th>\n",
       "      <th>2000-09-30 00:00:00</th>\n",
       "      <th>2000-12-31 00:00:00</th>\n",
       "      <th>2001-03-31 00:00:00</th>\n",
       "      <th>2001-06-30 00:00:00</th>\n",
       "    </tr>\n",
       "  </thead>\n",
       "  <tbody>\n",
       "    <tr>\n",
       "      <th>1</th>\n",
       "      <td>A</td>\n",
       "      <td>Agilent Technologies Inc.</td>\n",
       "      <td>NaN</td>\n",
       "      <td>NaN</td>\n",
       "      <td>NaN</td>\n",
       "      <td>NaN</td>\n",
       "      <td>NaN</td>\n",
       "      <td>NaN</td>\n",
       "      <td>NaN</td>\n",
       "      <td>NaN</td>\n",
       "      <td>...</td>\n",
       "      <td>NaN</td>\n",
       "      <td>NaN</td>\n",
       "      <td>NaN</td>\n",
       "      <td>NaN</td>\n",
       "      <td>NaN</td>\n",
       "      <td>73.75</td>\n",
       "      <td>48.94</td>\n",
       "      <td>54.75</td>\n",
       "      <td>30.73</td>\n",
       "      <td>32.5</td>\n",
       "    </tr>\n",
       "    <tr>\n",
       "      <th>2</th>\n",
       "      <td>AA</td>\n",
       "      <td>Alcoa Inc</td>\n",
       "      <td>75</td>\n",
       "      <td>64.75</td>\n",
       "      <td>63.75</td>\n",
       "      <td>62.63</td>\n",
       "      <td>57.63</td>\n",
       "      <td>65.5</td>\n",
       "      <td>67.5</td>\n",
       "      <td>63.88</td>\n",
       "      <td>...</td>\n",
       "      <td>41.19</td>\n",
       "      <td>61.88</td>\n",
       "      <td>62.06</td>\n",
       "      <td>83</td>\n",
       "      <td>70.25</td>\n",
       "      <td>29</td>\n",
       "      <td>25.31</td>\n",
       "      <td>33.5</td>\n",
       "      <td>35.95</td>\n",
       "      <td>39.4</td>\n",
       "    </tr>\n",
       "    <tr>\n",
       "      <th>3</th>\n",
       "      <td>AAL</td>\n",
       "      <td>American Airlines Group</td>\n",
       "      <td>NaN</td>\n",
       "      <td>NaN</td>\n",
       "      <td>NaN</td>\n",
       "      <td>NaN</td>\n",
       "      <td>NaN</td>\n",
       "      <td>NaN</td>\n",
       "      <td>NaN</td>\n",
       "      <td>NaN</td>\n",
       "      <td>...</td>\n",
       "      <td>NaN</td>\n",
       "      <td>NaN</td>\n",
       "      <td>NaN</td>\n",
       "      <td>NaN</td>\n",
       "      <td>NaN</td>\n",
       "      <td>NaN</td>\n",
       "      <td>NaN</td>\n",
       "      <td>NaN</td>\n",
       "      <td>NaN</td>\n",
       "      <td>NaN</td>\n",
       "    </tr>\n",
       "    <tr>\n",
       "      <th>4</th>\n",
       "      <td>AAL (Alex)</td>\n",
       "      <td>Alexander &amp; Alexander</td>\n",
       "      <td>30.63</td>\n",
       "      <td>26.75</td>\n",
       "      <td>24.38</td>\n",
       "      <td>17.88</td>\n",
       "      <td>23.13</td>\n",
       "      <td>26.25</td>\n",
       "      <td>22.5</td>\n",
       "      <td>20.88</td>\n",
       "      <td>...</td>\n",
       "      <td>NaN</td>\n",
       "      <td>NaN</td>\n",
       "      <td>NaN</td>\n",
       "      <td>NaN</td>\n",
       "      <td>NaN</td>\n",
       "      <td>NaN</td>\n",
       "      <td>NaN</td>\n",
       "      <td>NaN</td>\n",
       "      <td>NaN</td>\n",
       "      <td>NaN</td>\n",
       "    </tr>\n",
       "    <tr>\n",
       "      <th>5</th>\n",
       "      <td>AAP</td>\n",
       "      <td>Advance Auto Parts Inc</td>\n",
       "      <td>NaN</td>\n",
       "      <td>NaN</td>\n",
       "      <td>NaN</td>\n",
       "      <td>NaN</td>\n",
       "      <td>NaN</td>\n",
       "      <td>NaN</td>\n",
       "      <td>NaN</td>\n",
       "      <td>NaN</td>\n",
       "      <td>...</td>\n",
       "      <td>NaN</td>\n",
       "      <td>NaN</td>\n",
       "      <td>NaN</td>\n",
       "      <td>NaN</td>\n",
       "      <td>NaN</td>\n",
       "      <td>NaN</td>\n",
       "      <td>NaN</td>\n",
       "      <td>NaN</td>\n",
       "      <td>NaN</td>\n",
       "      <td>NaN</td>\n",
       "    </tr>\n",
       "  </tbody>\n",
       "</table>\n",
       "<p>5 rows × 49 columns</p>\n",
       "</div>"
      ],
      "text/plain": [
       "       Ticker               Company Name 1989-12-31 00:00:00  \\\n",
       "1           A  Agilent Technologies Inc.                 NaN   \n",
       "2          AA                  Alcoa Inc                  75   \n",
       "3         AAL    American Airlines Group                 NaN   \n",
       "4  AAL (Alex)      Alexander & Alexander               30.63   \n",
       "5         AAP     Advance Auto Parts Inc                 NaN   \n",
       "\n",
       "  1990-03-31 00:00:00 1990-06-30 00:00:00 1990-09-30 00:00:00  \\\n",
       "1                 NaN                 NaN                 NaN   \n",
       "2               64.75               63.75               62.63   \n",
       "3                 NaN                 NaN                 NaN   \n",
       "4               26.75               24.38               17.88   \n",
       "5                 NaN                 NaN                 NaN   \n",
       "\n",
       "  1990-12-31 00:00:00 1991-03-31 00:00:00 1991-06-30 00:00:00  \\\n",
       "1                 NaN                 NaN                 NaN   \n",
       "2               57.63                65.5                67.5   \n",
       "3                 NaN                 NaN                 NaN   \n",
       "4               23.13               26.25                22.5   \n",
       "5                 NaN                 NaN                 NaN   \n",
       "\n",
       "  1991-09-30 00:00:00         ...         1999-03-31 00:00:00  \\\n",
       "1                 NaN         ...                         NaN   \n",
       "2               63.88         ...                       41.19   \n",
       "3                 NaN         ...                         NaN   \n",
       "4               20.88         ...                         NaN   \n",
       "5                 NaN         ...                         NaN   \n",
       "\n",
       "  1999-06-30 00:00:00 1999-09-30 00:00:00 1999-12-31 00:00:00  \\\n",
       "1                 NaN                 NaN                 NaN   \n",
       "2               61.88               62.06                  83   \n",
       "3                 NaN                 NaN                 NaN   \n",
       "4                 NaN                 NaN                 NaN   \n",
       "5                 NaN                 NaN                 NaN   \n",
       "\n",
       "  2000-03-31 00:00:00 2000-06-30 00:00:00 2000-09-30 00:00:00  \\\n",
       "1                 NaN               73.75               48.94   \n",
       "2               70.25                  29               25.31   \n",
       "3                 NaN                 NaN                 NaN   \n",
       "4                 NaN                 NaN                 NaN   \n",
       "5                 NaN                 NaN                 NaN   \n",
       "\n",
       "  2000-12-31 00:00:00 2001-03-31 00:00:00 2001-06-30 00:00:00  \n",
       "1               54.75               30.73                32.5  \n",
       "2                33.5               35.95                39.4  \n",
       "3                 NaN                 NaN                 NaN  \n",
       "4                 NaN                 NaN                 NaN  \n",
       "5                 NaN                 NaN                 NaN  \n",
       "\n",
       "[5 rows x 49 columns]"
      ]
     },
     "execution_count": 10,
     "metadata": {},
     "output_type": "execute_result"
    }
   ],
   "source": [
    "new_header = price_data.iloc[0] #grab the first row for the header\n",
    "content = price_data[1:] #take the data less the header row\n",
    "content.columns = new_header #set the header row as the df header\n",
    "content.head()\n",
    "\n",
    "tickers = content.iloc[:,0:2]\n",
    "tickers.columns = list(new_header)[0:2]\n",
    "\n",
    "dates = content.iloc[:,45:92]\n",
    "dates.columns = list(new_header)[45:92]\n",
    "\n",
    "result = pd.concat([tickers, dates], axis=1)\n",
    "result.head()"
   ]
  },
  {
   "cell_type": "markdown",
   "metadata": {},
   "source": [
    "### Third, we combine the data into one dataframe.\n",
    "\n",
    "We find all the companies for which we have both stock price data and ESG data, and we put the information together."
   ]
  },
  {
   "cell_type": "code",
   "execution_count": 11,
   "metadata": {
    "collapsed": false
   },
   "outputs": [
    {
     "data": {
      "text/plain": [
       "(751, 49)"
      ]
     },
     "execution_count": 11,
     "metadata": {},
     "output_type": "execute_result"
    }
   ],
   "source": [
    "tickers = list(esg_marker_data[\"Ticker\"]) #get all the company tickers for which we have esg data\n",
    "prices_for_esg_companies = result[result[\"Ticker\"].isin(tickers)] #get the stock data from companies in that list\n",
    "prices_for_esg_companies.shape"
   ]
  },
  {
   "cell_type": "markdown",
   "metadata": {},
   "source": [
    "Hm, we have 399 of them. 100 are missing. Why?"
   ]
  },
  {
   "cell_type": "code",
   "execution_count": 12,
   "metadata": {
    "collapsed": false
   },
   "outputs": [],
   "source": [
    "relevant_esgs = esg_marker_data[esg_marker_data[\"Ticker\"].isin(list(prices_for_esg_companies[\"Ticker\"]))]"
   ]
  },
  {
   "cell_type": "code",
   "execution_count": 14,
   "metadata": {
    "collapsed": false
   },
   "outputs": [],
   "source": [
    "all_data = pd.concat([relevant_esgs, prices_for_esg_companies], axis = 1) #put the esg and stock data in one dataframe"
   ]
  },
  {
   "cell_type": "code",
   "execution_count": 15,
   "metadata": {
    "collapsed": false
   },
   "outputs": [
    {
     "data": {
      "text/html": [
       "<div>\n",
       "<table border=\"1\" class=\"dataframe\">\n",
       "  <thead>\n",
       "    <tr style=\"text-align: right;\">\n",
       "      <th></th>\n",
       "      <th>Ticker</th>\n",
       "      <th>EMP-str-sum</th>\n",
       "      <th>EMP-con-sum</th>\n",
       "      <th>ENV-str-sum</th>\n",
       "      <th>ENV-con-sum</th>\n",
       "      <th>Ticker</th>\n",
       "      <th>Company Name</th>\n",
       "      <th>1989-12-31 00:00:00</th>\n",
       "      <th>1990-03-31 00:00:00</th>\n",
       "      <th>1990-06-30 00:00:00</th>\n",
       "      <th>...</th>\n",
       "      <th>1999-03-31 00:00:00</th>\n",
       "      <th>1999-06-30 00:00:00</th>\n",
       "      <th>1999-09-30 00:00:00</th>\n",
       "      <th>1999-12-31 00:00:00</th>\n",
       "      <th>2000-03-31 00:00:00</th>\n",
       "      <th>2000-06-30 00:00:00</th>\n",
       "      <th>2000-09-30 00:00:00</th>\n",
       "      <th>2000-12-31 00:00:00</th>\n",
       "      <th>2001-03-31 00:00:00</th>\n",
       "      <th>2001-06-30 00:00:00</th>\n",
       "    </tr>\n",
       "  </thead>\n",
       "  <tbody>\n",
       "    <tr>\n",
       "      <th>0</th>\n",
       "      <td>A</td>\n",
       "      <td>6.0</td>\n",
       "      <td>4.0</td>\n",
       "      <td>0.0</td>\n",
       "      <td>0.0</td>\n",
       "      <td>NaN</td>\n",
       "      <td>NaN</td>\n",
       "      <td>NaN</td>\n",
       "      <td>NaN</td>\n",
       "      <td>NaN</td>\n",
       "      <td>...</td>\n",
       "      <td>NaN</td>\n",
       "      <td>NaN</td>\n",
       "      <td>NaN</td>\n",
       "      <td>NaN</td>\n",
       "      <td>NaN</td>\n",
       "      <td>NaN</td>\n",
       "      <td>NaN</td>\n",
       "      <td>NaN</td>\n",
       "      <td>NaN</td>\n",
       "      <td>NaN</td>\n",
       "    </tr>\n",
       "    <tr>\n",
       "      <th>1</th>\n",
       "      <td>AA</td>\n",
       "      <td>19.0</td>\n",
       "      <td>0.0</td>\n",
       "      <td>15.0</td>\n",
       "      <td>37.0</td>\n",
       "      <td>A</td>\n",
       "      <td>Agilent Technologies Inc.</td>\n",
       "      <td>NaN</td>\n",
       "      <td>NaN</td>\n",
       "      <td>NaN</td>\n",
       "      <td>...</td>\n",
       "      <td>NaN</td>\n",
       "      <td>NaN</td>\n",
       "      <td>NaN</td>\n",
       "      <td>NaN</td>\n",
       "      <td>NaN</td>\n",
       "      <td>73.75</td>\n",
       "      <td>48.94</td>\n",
       "      <td>54.75</td>\n",
       "      <td>30.73</td>\n",
       "      <td>32.5</td>\n",
       "    </tr>\n",
       "    <tr>\n",
       "      <th>2</th>\n",
       "      <td>AAL</td>\n",
       "      <td>1.0</td>\n",
       "      <td>0.0</td>\n",
       "      <td>0.0</td>\n",
       "      <td>0.0</td>\n",
       "      <td>AA</td>\n",
       "      <td>Alcoa Inc</td>\n",
       "      <td>75</td>\n",
       "      <td>64.75</td>\n",
       "      <td>63.75</td>\n",
       "      <td>...</td>\n",
       "      <td>41.19</td>\n",
       "      <td>61.88</td>\n",
       "      <td>62.06</td>\n",
       "      <td>83</td>\n",
       "      <td>70.25</td>\n",
       "      <td>29</td>\n",
       "      <td>25.31</td>\n",
       "      <td>33.5</td>\n",
       "      <td>35.95</td>\n",
       "      <td>39.4</td>\n",
       "    </tr>\n",
       "    <tr>\n",
       "      <th>3</th>\n",
       "      <td>AAPL</td>\n",
       "      <td>7.0</td>\n",
       "      <td>7.0</td>\n",
       "      <td>2.0</td>\n",
       "      <td>0.0</td>\n",
       "      <td>AAL</td>\n",
       "      <td>American Airlines Group</td>\n",
       "      <td>NaN</td>\n",
       "      <td>NaN</td>\n",
       "      <td>NaN</td>\n",
       "      <td>...</td>\n",
       "      <td>NaN</td>\n",
       "      <td>NaN</td>\n",
       "      <td>NaN</td>\n",
       "      <td>NaN</td>\n",
       "      <td>NaN</td>\n",
       "      <td>NaN</td>\n",
       "      <td>NaN</td>\n",
       "      <td>NaN</td>\n",
       "      <td>NaN</td>\n",
       "      <td>NaN</td>\n",
       "    </tr>\n",
       "    <tr>\n",
       "      <th>4</th>\n",
       "      <td>ABC</td>\n",
       "      <td>0.0</td>\n",
       "      <td>0.0</td>\n",
       "      <td>0.0</td>\n",
       "      <td>0.0</td>\n",
       "      <td>NaN</td>\n",
       "      <td>NaN</td>\n",
       "      <td>NaN</td>\n",
       "      <td>NaN</td>\n",
       "      <td>NaN</td>\n",
       "      <td>...</td>\n",
       "      <td>NaN</td>\n",
       "      <td>NaN</td>\n",
       "      <td>NaN</td>\n",
       "      <td>NaN</td>\n",
       "      <td>NaN</td>\n",
       "      <td>NaN</td>\n",
       "      <td>NaN</td>\n",
       "      <td>NaN</td>\n",
       "      <td>NaN</td>\n",
       "      <td>NaN</td>\n",
       "    </tr>\n",
       "  </tbody>\n",
       "</table>\n",
       "<p>5 rows × 54 columns</p>\n",
       "</div>"
      ],
      "text/plain": [
       "  Ticker  EMP-str-sum  EMP-con-sum  ENV-str-sum  ENV-con-sum Ticker  \\\n",
       "0      A          6.0          4.0          0.0          0.0    NaN   \n",
       "1     AA         19.0          0.0         15.0         37.0      A   \n",
       "2    AAL          1.0          0.0          0.0          0.0     AA   \n",
       "3   AAPL          7.0          7.0          2.0          0.0    AAL   \n",
       "4    ABC          0.0          0.0          0.0          0.0    NaN   \n",
       "\n",
       "                Company Name 1989-12-31 00:00:00 1990-03-31 00:00:00  \\\n",
       "0                        NaN                 NaN                 NaN   \n",
       "1  Agilent Technologies Inc.                 NaN                 NaN   \n",
       "2                  Alcoa Inc                  75               64.75   \n",
       "3    American Airlines Group                 NaN                 NaN   \n",
       "4                        NaN                 NaN                 NaN   \n",
       "\n",
       "  1990-06-30 00:00:00         ...         1999-03-31 00:00:00  \\\n",
       "0                 NaN         ...                         NaN   \n",
       "1                 NaN         ...                         NaN   \n",
       "2               63.75         ...                       41.19   \n",
       "3                 NaN         ...                         NaN   \n",
       "4                 NaN         ...                         NaN   \n",
       "\n",
       "  1999-06-30 00:00:00 1999-09-30 00:00:00 1999-12-31 00:00:00  \\\n",
       "0                 NaN                 NaN                 NaN   \n",
       "1                 NaN                 NaN                 NaN   \n",
       "2               61.88               62.06                  83   \n",
       "3                 NaN                 NaN                 NaN   \n",
       "4                 NaN                 NaN                 NaN   \n",
       "\n",
       "  2000-03-31 00:00:00 2000-06-30 00:00:00 2000-09-30 00:00:00  \\\n",
       "0                 NaN                 NaN                 NaN   \n",
       "1                 NaN               73.75               48.94   \n",
       "2               70.25                  29               25.31   \n",
       "3                 NaN                 NaN                 NaN   \n",
       "4                 NaN                 NaN                 NaN   \n",
       "\n",
       "  2000-12-31 00:00:00 2001-03-31 00:00:00 2001-06-30 00:00:00  \n",
       "0                 NaN                 NaN                 NaN  \n",
       "1               54.75               30.73                32.5  \n",
       "2                33.5               35.95                39.4  \n",
       "3                 NaN                 NaN                 NaN  \n",
       "4                 NaN                 NaN                 NaN  \n",
       "\n",
       "[5 rows x 54 columns]"
      ]
     },
     "execution_count": 15,
     "metadata": {},
     "output_type": "execute_result"
    }
   ],
   "source": [
    "#let's do some cleanup so we only have the columns we need.\n",
    "clean_data = all_data.drop(['CUSIP', 'SP500', 'DS400', 'Russell1000', 'LCS', 'Russell2000', 'BMS'], axis = 1)\n",
    "clean_data.head()"
   ]
  },
  {
   "cell_type": "code",
   "execution_count": 16,
   "metadata": {
    "collapsed": false
   },
   "outputs": [
    {
     "data": {
      "text/plain": [
       "54"
      ]
     },
     "execution_count": 16,
     "metadata": {},
     "output_type": "execute_result"
    }
   ],
   "source": [
    "#Now let's strip this down so we can calculate returns over the course of the ten year period.\n",
    "len(clean_data.columns.values)"
   ]
  },
  {
   "cell_type": "code",
   "execution_count": 29,
   "metadata": {
    "collapsed": false
   },
   "outputs": [
    {
     "data": {
      "text/plain": [
       "array(['EMP-str-sum', 'EMP-con-sum', 'ENV-str-sum', 'ENV-con-sum'], dtype=object)"
      ]
     },
     "execution_count": 29,
     "metadata": {},
     "output_type": "execute_result"
    }
   ],
   "source": [
    "esg_columns = clean_data.iloc[:,1:5]\n",
    "esg_columns.columns.values"
   ]
  },
  {
   "cell_type": "code",
   "execution_count": 30,
   "metadata": {
    "collapsed": false
   },
   "outputs": [
    {
     "data": {
      "text/plain": [
       "array(['start_stock_prices'], dtype=object)"
      ]
     },
     "execution_count": 30,
     "metadata": {},
     "output_type": "execute_result"
    }
   ],
   "source": [
    "start_stock_columns = clean_data.iloc[:,4:5]\n",
    "\n",
    "string_header = ['start_stock_prices'] #grab the first row for the header\n",
    "start_stock_columns = start_stock_columns[1:] #take the data less the header row\n",
    "start_stock_columns.columns = string_header #set the header row as the df header\n",
    "\n",
    "start_stock_columns.columns.values"
   ]
  },
  {
   "cell_type": "code",
   "execution_count": 31,
   "metadata": {
    "collapsed": false
   },
   "outputs": [
    {
     "data": {
      "text/plain": [
       "array(['end_stock_prices'], dtype=object)"
      ]
     },
     "execution_count": 31,
     "metadata": {},
     "output_type": "execute_result"
    }
   ],
   "source": [
    "end_stock_columns = clean_data.iloc[:,48:49]\n",
    "\n",
    "string_header = ['end_stock_prices'] #grab the first row for the header\n",
    "end_stock_columns = end_stock_columns[1:] #take the data less the header row\n",
    "end_stock_columns.columns = string_header #set the header row as the df header\n",
    "\n",
    "end_stock_columns.columns.values"
   ]
  },
  {
   "cell_type": "code",
   "execution_count": 32,
   "metadata": {
    "collapsed": false
   },
   "outputs": [
    {
     "data": {
      "text/html": [
       "<div>\n",
       "<table border=\"1\" class=\"dataframe\">\n",
       "  <thead>\n",
       "    <tr style=\"text-align: right;\">\n",
       "      <th></th>\n",
       "      <th>EMP-str-sum</th>\n",
       "      <th>EMP-con-sum</th>\n",
       "      <th>ENV-str-sum</th>\n",
       "      <th>ENV-con-sum</th>\n",
       "      <th>start_stock_prices</th>\n",
       "      <th>end_stock_prices</th>\n",
       "    </tr>\n",
       "  </thead>\n",
       "  <tbody>\n",
       "    <tr>\n",
       "      <th>0</th>\n",
       "      <td>6.0</td>\n",
       "      <td>4.0</td>\n",
       "      <td>0.0</td>\n",
       "      <td>0.0</td>\n",
       "      <td>NaN</td>\n",
       "      <td>NaN</td>\n",
       "    </tr>\n",
       "    <tr>\n",
       "      <th>1</th>\n",
       "      <td>19.0</td>\n",
       "      <td>0.0</td>\n",
       "      <td>15.0</td>\n",
       "      <td>37.0</td>\n",
       "      <td>37.0</td>\n",
       "      <td>NaN</td>\n",
       "    </tr>\n",
       "    <tr>\n",
       "      <th>2</th>\n",
       "      <td>1.0</td>\n",
       "      <td>0.0</td>\n",
       "      <td>0.0</td>\n",
       "      <td>0.0</td>\n",
       "      <td>0.0</td>\n",
       "      <td>70.25</td>\n",
       "    </tr>\n",
       "    <tr>\n",
       "      <th>3</th>\n",
       "      <td>7.0</td>\n",
       "      <td>7.0</td>\n",
       "      <td>2.0</td>\n",
       "      <td>0.0</td>\n",
       "      <td>0.0</td>\n",
       "      <td>NaN</td>\n",
       "    </tr>\n",
       "    <tr>\n",
       "      <th>4</th>\n",
       "      <td>0.0</td>\n",
       "      <td>0.0</td>\n",
       "      <td>0.0</td>\n",
       "      <td>0.0</td>\n",
       "      <td>0.0</td>\n",
       "      <td>NaN</td>\n",
       "    </tr>\n",
       "  </tbody>\n",
       "</table>\n",
       "</div>"
      ],
      "text/plain": [
       "   EMP-str-sum  EMP-con-sum  ENV-str-sum  ENV-con-sum  start_stock_prices  \\\n",
       "0          6.0          4.0          0.0          0.0                 NaN   \n",
       "1         19.0          0.0         15.0         37.0                37.0   \n",
       "2          1.0          0.0          0.0          0.0                 0.0   \n",
       "3          7.0          7.0          2.0          0.0                 0.0   \n",
       "4          0.0          0.0          0.0          0.0                 0.0   \n",
       "\n",
       "  end_stock_prices  \n",
       "0              NaN  \n",
       "1              NaN  \n",
       "2            70.25  \n",
       "3              NaN  \n",
       "4              NaN  "
      ]
     },
     "execution_count": 32,
     "metadata": {},
     "output_type": "execute_result"
    }
   ],
   "source": [
    "minimum_data = pd.concat([esg_columns, start_stock_columns, end_stock_columns], axis=1)\n",
    "minimum_data.shape\n",
    "minimum_data.head()"
   ]
  },
  {
   "cell_type": "code",
   "execution_count": 33,
   "metadata": {
    "collapsed": false
   },
   "outputs": [
    {
     "data": {
      "text/html": [
       "<div>\n",
       "<table border=\"1\" class=\"dataframe\">\n",
       "  <thead>\n",
       "    <tr style=\"text-align: right;\">\n",
       "      <th></th>\n",
       "      <th>EMP-str-sum</th>\n",
       "      <th>EMP-con-sum</th>\n",
       "      <th>ENV-str-sum</th>\n",
       "      <th>ENV-con-sum</th>\n",
       "      <th>start_stock_prices</th>\n",
       "      <th>end_stock_prices</th>\n",
       "    </tr>\n",
       "  </thead>\n",
       "  <tbody>\n",
       "    <tr>\n",
       "      <th>2</th>\n",
       "      <td>1.0</td>\n",
       "      <td>0.0</td>\n",
       "      <td>0.0</td>\n",
       "      <td>0.0</td>\n",
       "      <td>0.0</td>\n",
       "      <td>70.25</td>\n",
       "    </tr>\n",
       "    <tr>\n",
       "      <th>6</th>\n",
       "      <td>6.0</td>\n",
       "      <td>0.0</td>\n",
       "      <td>0.0</td>\n",
       "      <td>0.0</td>\n",
       "      <td>0.0</td>\n",
       "      <td>135.81</td>\n",
       "    </tr>\n",
       "    <tr>\n",
       "      <th>13</th>\n",
       "      <td>8.0</td>\n",
       "      <td>0.0</td>\n",
       "      <td>0.0</td>\n",
       "      <td>0.0</td>\n",
       "      <td>0.0</td>\n",
       "      <td>35.19</td>\n",
       "    </tr>\n",
       "    <tr>\n",
       "      <th>14</th>\n",
       "      <td>0.0</td>\n",
       "      <td>0.0</td>\n",
       "      <td>0.0</td>\n",
       "      <td>0.0</td>\n",
       "      <td>0.0</td>\n",
       "      <td>15.69</td>\n",
       "    </tr>\n",
       "    <tr>\n",
       "      <th>17</th>\n",
       "      <td>14.0</td>\n",
       "      <td>1.0</td>\n",
       "      <td>0.0</td>\n",
       "      <td>0.0</td>\n",
       "      <td>0.0</td>\n",
       "      <td>17.88</td>\n",
       "    </tr>\n",
       "  </tbody>\n",
       "</table>\n",
       "</div>"
      ],
      "text/plain": [
       "    EMP-str-sum  EMP-con-sum  ENV-str-sum  ENV-con-sum  start_stock_prices  \\\n",
       "2           1.0          0.0          0.0          0.0                 0.0   \n",
       "6           6.0          0.0          0.0          0.0                 0.0   \n",
       "13          8.0          0.0          0.0          0.0                 0.0   \n",
       "14          0.0          0.0          0.0          0.0                 0.0   \n",
       "17         14.0          1.0          0.0          0.0                 0.0   \n",
       "\n",
       "   end_stock_prices  \n",
       "2             70.25  \n",
       "6            135.81  \n",
       "13            35.19  \n",
       "14            15.69  \n",
       "17            17.88  "
      ]
     },
     "execution_count": 33,
     "metadata": {},
     "output_type": "execute_result"
    }
   ],
   "source": [
    "#Let's filter this down to only those companies for which we have\n",
    "# a starting and ending stock price over this period. \n",
    "yes_start_date = minimum_data[minimum_data['start_stock_prices'].notnull()]\n",
    "yes_end_date = yes_start_date[yes_start_date['end_stock_prices'].notnull()]\n",
    "yes_end_date.head()"
   ]
  },
  {
   "cell_type": "markdown",
   "metadata": {},
   "source": [
    "Let's pick a category to start with. Why CEO (DIV-str-A)? \n",
    "\n",
    "According to the KLD documentation, this category indicates if The company's chief executive officer is a woman or a member of a minority group."
   ]
  },
  {
   "cell_type": "code",
   "execution_count": 50,
   "metadata": {
    "collapsed": false
   },
   "outputs": [
    {
     "data": {
      "text/html": [
       "<div>\n",
       "<table border=\"1\" class=\"dataframe\">\n",
       "  <thead>\n",
       "    <tr style=\"text-align: right;\">\n",
       "      <th></th>\n",
       "      <th>EMP-str-sum</th>\n",
       "      <th>EMP-con-sum</th>\n",
       "      <th>ENV-str-sum</th>\n",
       "      <th>ENV-con-sum</th>\n",
       "      <th>start_stock_prices</th>\n",
       "      <th>end_stock_prices</th>\n",
       "      <th>returns</th>\n",
       "    </tr>\n",
       "  </thead>\n",
       "  <tbody>\n",
       "    <tr>\n",
       "      <th>861</th>\n",
       "      <td>0.0</td>\n",
       "      <td>2.0</td>\n",
       "      <td>26.0</td>\n",
       "      <td>22.0</td>\n",
       "      <td>22.0</td>\n",
       "      <td>30.06</td>\n",
       "      <td>1.366364</td>\n",
       "    </tr>\n",
       "    <tr>\n",
       "      <th>271</th>\n",
       "      <td>7.0</td>\n",
       "      <td>0.0</td>\n",
       "      <td>16.0</td>\n",
       "      <td>64.0</td>\n",
       "      <td>64.0</td>\n",
       "      <td>41.88</td>\n",
       "      <td>0.654375</td>\n",
       "    </tr>\n",
       "    <tr>\n",
       "      <th>443</th>\n",
       "      <td>0.0</td>\n",
       "      <td>16.0</td>\n",
       "      <td>15.0</td>\n",
       "      <td>36.0</td>\n",
       "      <td>36.0</td>\n",
       "      <td>45.94</td>\n",
       "      <td>1.276111</td>\n",
       "    </tr>\n",
       "    <tr>\n",
       "      <th>64</th>\n",
       "      <td>6.0</td>\n",
       "      <td>0.0</td>\n",
       "      <td>14.0</td>\n",
       "      <td>13.0</td>\n",
       "      <td>13.0</td>\n",
       "      <td>57.06</td>\n",
       "      <td>4.389231</td>\n",
       "    </tr>\n",
       "    <tr>\n",
       "      <th>895</th>\n",
       "      <td>13.0</td>\n",
       "      <td>2.0</td>\n",
       "      <td>13.0</td>\n",
       "      <td>15.0</td>\n",
       "      <td>15.0</td>\n",
       "      <td>82.75</td>\n",
       "      <td>5.516667</td>\n",
       "    </tr>\n",
       "  </tbody>\n",
       "</table>\n",
       "</div>"
      ],
      "text/plain": [
       "     EMP-str-sum  EMP-con-sum  ENV-str-sum  ENV-con-sum  start_stock_prices  \\\n",
       "861          0.0          2.0         26.0         22.0                22.0   \n",
       "271          7.0          0.0         16.0         64.0                64.0   \n",
       "443          0.0         16.0         15.0         36.0                36.0   \n",
       "64           6.0          0.0         14.0         13.0                13.0   \n",
       "895         13.0          2.0         13.0         15.0                15.0   \n",
       "\n",
       "     end_stock_prices   returns  \n",
       "861             30.06  1.366364  \n",
       "271             41.88  0.654375  \n",
       "443             45.94  1.276111  \n",
       "64              57.06  4.389231  \n",
       "895             82.75  5.516667  "
      ]
     },
     "execution_count": 50,
     "metadata": {},
     "output_type": "execute_result"
    }
   ],
   "source": [
    "yes_end_date['returns'] = yes_end_date['end_stock_prices'] / yes_end_date['start_stock_prices']\n",
    "yes_end_date = yes_end_date.fillna(0) #any company without numbers for esg markers gets 0\n",
    "yes_end_date.sort_values('ENV-str-sum', ascending=False).head()"
   ]
  },
  {
   "cell_type": "markdown",
   "metadata": {},
   "source": [
    "I'll comment briefly on a trend in this data. In 1991, when recordings begin, there is only one S&P500 company (out of 500)with a not-white-dude CEO. By 1999, we're up to a still-abysmal-but-better number at 20. "
   ]
  },
  {
   "cell_type": "code",
   "execution_count": 51,
   "metadata": {
    "collapsed": false
   },
   "outputs": [],
   "source": [
    "import matplotlib.pyplot as plt\n",
    "import random\n",
    "%matplotlib inline  "
   ]
  },
  {
   "cell_type": "code",
   "execution_count": 36,
   "metadata": {
    "collapsed": false
   },
   "outputs": [],
   "source": [
    "# aggregate_analysis = yes_end_date.groupby('esg_marker')['returns'].agg(['mean','median','max', 'min','count'])\n",
    "# aggregate_analysis"
   ]
  },
  {
   "cell_type": "markdown",
   "metadata": {},
   "source": [
    "In orange, we have companies with minority CEOs in 1999. In blue, companies with non-minority CEOs in 1999. The height of each dot represents returns on that company's stock price over the '90s. This isn't a ton of data from which to extrapolate anything, and we won't extrapolate from this. We randomly chose DIV-str-A as a way to get our general analytical tools in place. Now we can try running this on some other ESG metrics with more data rigor and see what we find."
   ]
  },
  {
   "cell_type": "code",
   "execution_count": null,
   "metadata": {
    "collapsed": false
   },
   "outputs": [],
   "source": [
    "# plt.scatter(x=aggregate_analysis.index.values, y=aggregate_analysis['mean'])"
   ]
  },
  {
   "cell_type": "code",
   "execution_count": 47,
   "metadata": {
    "collapsed": false
   },
   "outputs": [],
   "source": [
    "import holoviews as hv\n",
    "import seaborn as sns"
   ]
  },
  {
   "cell_type": "code",
   "execution_count": 52,
   "metadata": {
    "collapsed": false
   },
   "outputs": [
    {
     "data": {
      "text/plain": [
       "<matplotlib.collections.PathCollection at 0x11e605048>"
      ]
     },
     "execution_count": 52,
     "metadata": {},
     "output_type": "execute_result"
    },
    {
     "data": {
      "image/png": "[encoded data removed]",
      "text/plain": [
       "<matplotlib.figure.Figure at 0x11eabac18>"
      ]
     },
     "metadata": {},
     "output_type": "display_data"
    }
   ],
   "source": [
    "[\"EMP-str-sum\", \"EMP-con-sum\", \"ENV-str-sum\", \"ENV-con-sum\"]\n",
    " \n",
    "plt.scatter(x=yes_end_date['EMP-str-sum'], y=yes_end_date['returns'])"
   ]
  },
  {
   "cell_type": "code",
   "execution_count": null,
   "metadata": {
    "collapsed": true
   },
   "outputs": [],
   "source": []
  }
 ],
 "metadata": {
  "kernelspec": {
   "display_name": "Python 3",
   "language": "python",
   "name": "python3"
  },
  "language_info": {
   "codemirror_mode": {
    "name": "ipython",
    "version": 3
   },
   "file_extension": ".py",
   "mimetype": "text/x-python",
   "name": "python",
   "nbconvert_exporter": "python",
   "pygments_lexer": "ipython3",
   "version": "3.6.1"
  }
 },
 "nbformat": 4,
 "nbformat_minor": 2
}
