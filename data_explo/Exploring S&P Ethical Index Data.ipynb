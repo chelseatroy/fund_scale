{
 "cells": [
  {
   "cell_type": "markdown",
   "metadata": {},
   "source": [
    "# Millenials and Investment: an Ongoing Exploration\n",
    "\n",
    "In case you haven't heard, [millenials are killing everything](http://www.businessinsider.com/millennials-are-killing-list-2017-8/#diamonds-12) from diamonds to department stores to designer crap to grocery chains.\n",
    "\n",
    "Why? Sure, the recession had an impact. But also, millenials pay more attention to ethics than many multinational corporations bargain for. They cite the blood diamond trade as a major reason to spring for non-traditional engagement rings. They opt for grocery providers that can tell them where their food is coming from and under what conditions it was produced. They're ditching the fast fashion industry for higher-priced items purchased secondhand on sites like Poshmark and ThreadUp. \n",
    "\n",
    "And as millenials reach the age where they might accrue some savings, it makes sense that they would care about where that is going, too. In addition to millenial attendance at the NoDAPL protests, we saw thousands of millenials divest from Western Union, Bank of America, and other banks that loaned money to the project. Maybe megacorps won't change their tunes because a few thousand people stood in a field to get mowed down by water cannons, but they're more likely to sit up and listen when those same people take their hard-earned doll hairs to another playhouse.\n",
    "\n",
    "So we see that millenials are surveying their options to spend and save according to their values. What about investing? Any personal finance 101 that isn't taught by a financial advisor will recommend a low cost index as the place to stick extra money so it can grow with the market. Most index funds, including the most recommended one (Vanguard), decide their investments via index-matching: matching their holdings to the S&P500 by market cap, with no other variables. Thing is, plenty of investors are expressing interest in taking ethical considerations into account. Some portfolios do this by blanket blocking investments in certain industries like tobacco or porn. Other more advanced optsions, like Betterment's AutoSRI portfolio, use actual ESG data to determine where they invest the money. There isn't (yet) a fully customizable option to allow folks to automatically invest their funds based on a checklist of their individual values. For a while, I've thought about building a toy version of what that might look like. \n",
    "\n",
    "When I talk about the idea with friends and relatives, I get the following objection: 'What about the returns?' Touche. Nobody wants to lose out on their potential earnings. At first, I figured I'd build a tolerance into the system that allowed investors to say 'These are my values, but please don't invest in a way that will trail general market performance by more than x percent.' The algorithm would then predict stock performance for each company, somehow blend that with ESG rating, and come up with a combined weight for divvying up investment money.\n",
    "\n",
    "Before I build that, though, I need to test the assumption that high ESG ratings *do* correlate negatively with returns. If they don't, there's no need for the tolerance measure in the first place.\n",
    "\n",
    "I'm not the first person to run correlations along these lines. Dorfleitner, Utz, and Wimmer published a paper on this just last year. [Their analysis](http://www.tandfonline.com/doi/full/10.1080/20430795.2017.1403272?scroll=top&needAccess=true) suggests that higher corporate social responsibility ratings *increase* returns over a long period of time (\"long\" being a 12 year period from 2002-2014). They even identify three specific areas that correlate with higher than average returns: emission and resource reduction, workforce, and society. So in my exploration, I'll dig into some specific CSR breakdowns with the data I have on S&P 500 companies. "
   ]
  },
  {
   "cell_type": "code",
   "execution_count": 1,
   "metadata": {
    "collapsed": true
   },
   "outputs": [],
   "source": [
    "import pandas as pd"
   ]
  },
  {
   "cell_type": "markdown",
   "metadata": {},
   "source": [
    "## Correlating KLD ESG Ratings to Stock Performance, 1990-2005\n",
    "\n",
    "Let's determine whether we notice any correlation between companies' environmental, social, and governmental ratings and their stock performance. \n",
    "\n",
    "### First, we pull in the ESG data. \n",
    "\n",
    "These come from KLD and are now distributed by MSGI. I pulled them from an academic database. Don't rerun this notebook because I didn't push the actual data to Github, on account of it is large and on account of both data providers ask corporations to pay for the data. So I'm not going to undermine that."
   ]
  },
  {
   "cell_type": "code",
   "execution_count": 2,
   "metadata": {
    "collapsed": true
   },
   "outputs": [],
   "source": [
    "y91 = pd.read_excel('../stockproject/12231046.1990-1999.stats/1991 HistoricalSpreadsheet_STATS.xls')\n",
    "y92 = pd.read_excel('../stockproject/12231046.1990-1999.stats/1992 HistoricalSpreadsheet_STATS.xls')\n",
    "y93 = pd.read_excel('../stockproject/12231046.1990-1999.stats/1993 HistoricalSpreadsheet_STATS.xls')\n",
    "y94 = pd.read_excel('../stockproject/12231046.1990-1999.stats/1994 HistoricalSpreadsheet_STATS.xls')\n",
    "y95 = pd.read_excel('../stockproject/12231046.1990-1999.stats/1995 HistoricalSpreadsheet_STATS.xls')\n",
    "y96 = pd.read_excel('../stockproject/12231046.1990-1999.stats/1996 HistoricalSpreadsheet_STATS.xls')\n",
    "y97 = pd.read_excel('../stockproject/12231046.1990-1999.stats/1997 HistoricalSpreadsheet_STATS.xls')\n",
    "y98 = pd.read_excel('../stockproject/12231046.1990-1999.stats/1998 HistoricalSpreadsheet_STATS.xls')\n",
    "y99 = pd.read_excel('../stockproject/12231046.1990-1999.stats/1999 HistoricalSpreadsheet_STATS.xls')\n",
    "\n",
    "nineties = [y91, y92, y93, y94, y95, y96, y97, y98, y99]"
   ]
  },
  {
   "cell_type": "code",
   "execution_count": 3,
   "metadata": {
    "collapsed": false
   },
   "outputs": [],
   "source": [
    "y00 = pd.read_excel('../stockproject/12231046.2000-2009.stats/2000 HistoricalSpreadsheet_STATS.xls')\n",
    "y01 = pd.read_excel('../stockproject/12231046.2000-2009.stats/2001 HistoricalSpreadsheet_STATS.xls')\n",
    "y02 = pd.read_excel('../stockproject/12231046.2000-2009.stats/2002 HistoricalSpreadsheet_STATS.xls')\n",
    "y03 = pd.read_excel('../stockproject/12231046.2000-2009.stats/2003 HistoricalSpreadsheet_STATS.xls')\n",
    "y04 = pd.read_excel('../stockproject/12231046.2000-2009.stats/2004 HistoricalSpreadsheet_STATS.xls')\n",
    "y05 = pd.read_excel('../stockproject/12231046.2000-2009.stats/2005 Historical Spreadsheet_STATS.xls') #wth KLD\n",
    "y06 = pd.read_excel('../stockproject/12231046.2000-2009.stats/2006 Historical Spreadsheet_STATS.xls')\n",
    "y07 = pd.read_excel('../stockproject/12231046.2000-2009.stats/2007 HistoricalSpreadsheet_STATS.xls')\n",
    "y08 = pd.read_excel('../stockproject/12231046.2000-2009.stats/2008 HistoricalSpreadsheet_STATS.xls')\n",
    "y09 = pd.read_excel('../stockproject/12231046.2000-2009.stats/2009 HistoricalSpreadsheet_STATS.xls')\n",
    "\n",
    "\n",
    "two_thousands = [y00, y01, y02, y03, y04]"
   ]
  },
  {
   "cell_type": "markdown",
   "metadata": {},
   "source": [
    "I wanted to run 1990-2009, but evidently starting in 2005 these spreadsheets no longer represent whether a company was in the S&P500 in the same way. That's okay: we can do this for a fifteen-year period wrangle in more data later if we would like to see a longer period of time.\n",
    "\n",
    "Now let's pull out the companies that belong to the S&P 500. We'll begin by examining their ESG scores on four metrics: employment policy strengths, employment policy concerns, environmental impact strengths, and environmental impact concerns. These companies get a score of zero (0) or one (1) each year on each of several sub-metrics. For example, employment policy strengths include specific scores for workplace safety, compensation, union management, et cetera. \n",
    "\n",
    "We're going to sum up all of the sub-metrics for each metric per company, and then we're going to sum that company's total scores in that metric across our fifteen year time span. We'll end up with a company score of cumulative strengths and concerns in employment and environmental practices over the course of the fifteen years. "
   ]
  },
  {
   "cell_type": "code",
   "execution_count": 4,
   "metadata": {
    "collapsed": false
   },
   "outputs": [
    {
     "data": {
      "text/html": [
       "<div>\n",
       "<table border=\"1\" class=\"dataframe\">\n",
       "  <thead>\n",
       "    <tr style=\"text-align: right;\">\n",
       "      <th></th>\n",
       "      <th>ALC-con-#</th>\n",
       "      <th>ALC-con-A</th>\n",
       "      <th>ALC-con-X</th>\n",
       "      <th>BMS</th>\n",
       "      <th>CGOV-con-#</th>\n",
       "      <th>CGOV-con-B</th>\n",
       "      <th>CGOV-con-F</th>\n",
       "      <th>CGOV-con-G</th>\n",
       "      <th>CGOV-con-H</th>\n",
       "      <th>CGOV-con-I</th>\n",
       "      <th>...</th>\n",
       "      <th>Russell2000</th>\n",
       "      <th>SP500</th>\n",
       "      <th>TOB-con-#</th>\n",
       "      <th>TOB-con-A</th>\n",
       "      <th>TOB-con-X</th>\n",
       "      <th>Ticker</th>\n",
       "      <th>EMP-str-sum</th>\n",
       "      <th>EMP-con-sum</th>\n",
       "      <th>ENV-str-sum</th>\n",
       "      <th>ENV-con-sum</th>\n",
       "    </tr>\n",
       "  </thead>\n",
       "  <tbody>\n",
       "    <tr>\n",
       "      <th>0</th>\n",
       "      <td>0</td>\n",
       "      <td>0</td>\n",
       "      <td>NR</td>\n",
       "      <td>NaN</td>\n",
       "      <td>0</td>\n",
       "      <td>0</td>\n",
       "      <td>0</td>\n",
       "      <td>NR</td>\n",
       "      <td>NR</td>\n",
       "      <td>NR</td>\n",
       "      <td>...</td>\n",
       "      <td>NaN</td>\n",
       "      <td>True</td>\n",
       "      <td>0</td>\n",
       "      <td>0</td>\n",
       "      <td>NR</td>\n",
       "      <td>ABT</td>\n",
       "      <td>0</td>\n",
       "      <td>0</td>\n",
       "      <td>0</td>\n",
       "      <td>1</td>\n",
       "    </tr>\n",
       "    <tr>\n",
       "      <th>1</th>\n",
       "      <td>0</td>\n",
       "      <td>0</td>\n",
       "      <td>NR</td>\n",
       "      <td>NaN</td>\n",
       "      <td>0</td>\n",
       "      <td>0</td>\n",
       "      <td>0</td>\n",
       "      <td>NR</td>\n",
       "      <td>NR</td>\n",
       "      <td>NR</td>\n",
       "      <td>...</td>\n",
       "      <td>NaN</td>\n",
       "      <td>True</td>\n",
       "      <td>0</td>\n",
       "      <td>0</td>\n",
       "      <td>NR</td>\n",
       "      <td>AMT</td>\n",
       "      <td>0</td>\n",
       "      <td>0</td>\n",
       "      <td>0</td>\n",
       "      <td>0</td>\n",
       "    </tr>\n",
       "    <tr>\n",
       "      <th>3</th>\n",
       "      <td>0</td>\n",
       "      <td>0</td>\n",
       "      <td>NR</td>\n",
       "      <td>NaN</td>\n",
       "      <td>0</td>\n",
       "      <td>0</td>\n",
       "      <td>0</td>\n",
       "      <td>NR</td>\n",
       "      <td>NR</td>\n",
       "      <td>NR</td>\n",
       "      <td>...</td>\n",
       "      <td>NaN</td>\n",
       "      <td>True</td>\n",
       "      <td>0</td>\n",
       "      <td>0</td>\n",
       "      <td>NR</td>\n",
       "      <td>AMD</td>\n",
       "      <td>1</td>\n",
       "      <td>0</td>\n",
       "      <td>0</td>\n",
       "      <td>1</td>\n",
       "    </tr>\n",
       "    <tr>\n",
       "      <th>4</th>\n",
       "      <td>0</td>\n",
       "      <td>0</td>\n",
       "      <td>NR</td>\n",
       "      <td>NaN</td>\n",
       "      <td>0</td>\n",
       "      <td>0</td>\n",
       "      <td>0</td>\n",
       "      <td>NR</td>\n",
       "      <td>NR</td>\n",
       "      <td>NR</td>\n",
       "      <td>...</td>\n",
       "      <td>NaN</td>\n",
       "      <td>True</td>\n",
       "      <td>0</td>\n",
       "      <td>0</td>\n",
       "      <td>NR</td>\n",
       "      <td>AET</td>\n",
       "      <td>1</td>\n",
       "      <td>0</td>\n",
       "      <td>0</td>\n",
       "      <td>0</td>\n",
       "    </tr>\n",
       "    <tr>\n",
       "      <th>6</th>\n",
       "      <td>0</td>\n",
       "      <td>0</td>\n",
       "      <td>NR</td>\n",
       "      <td>NaN</td>\n",
       "      <td>0</td>\n",
       "      <td>0</td>\n",
       "      <td>0</td>\n",
       "      <td>NR</td>\n",
       "      <td>NR</td>\n",
       "      <td>NR</td>\n",
       "      <td>...</td>\n",
       "      <td>NaN</td>\n",
       "      <td>True</td>\n",
       "      <td>0</td>\n",
       "      <td>0</td>\n",
       "      <td>NR</td>\n",
       "      <td>AHM</td>\n",
       "      <td>0</td>\n",
       "      <td>0</td>\n",
       "      <td>0</td>\n",
       "      <td>0</td>\n",
       "    </tr>\n",
       "  </tbody>\n",
       "</table>\n",
       "<p>5 rows × 127 columns</p>\n",
       "</div>"
      ],
      "text/plain": [
       "   ALC-con-#  ALC-con-A ALC-con-X  BMS  CGOV-con-# CGOV-con-B CGOV-con-F  \\\n",
       "0          0          0        NR  NaN           0          0          0   \n",
       "1          0          0        NR  NaN           0          0          0   \n",
       "3          0          0        NR  NaN           0          0          0   \n",
       "4          0          0        NR  NaN           0          0          0   \n",
       "6          0          0        NR  NaN           0          0          0   \n",
       "\n",
       "  CGOV-con-G CGOV-con-H CGOV-con-I     ...      Russell2000  SP500  TOB-con-#  \\\n",
       "0         NR         NR         NR     ...              NaN   True          0   \n",
       "1         NR         NR         NR     ...              NaN   True          0   \n",
       "3         NR         NR         NR     ...              NaN   True          0   \n",
       "4         NR         NR         NR     ...              NaN   True          0   \n",
       "6         NR         NR         NR     ...              NaN   True          0   \n",
       "\n",
       "   TOB-con-A TOB-con-X Ticker EMP-str-sum  EMP-con-sum ENV-str-sum  \\\n",
       "0          0        NR    ABT           0            0           0   \n",
       "1          0        NR    AMT           0            0           0   \n",
       "3          0        NR    AMD           1            0           0   \n",
       "4          0        NR    AET           1            0           0   \n",
       "6          0        NR    AHM           0            0           0   \n",
       "\n",
       "   ENV-con-sum  \n",
       "0            1  \n",
       "1            0  \n",
       "3            1  \n",
       "4            0  \n",
       "6            0  \n",
       "\n",
       "[5 rows x 127 columns]"
      ]
     },
     "execution_count": 4,
     "metadata": {},
     "output_type": "execute_result"
    }
   ],
   "source": [
    "twenty_years = nineties + two_thousands\n",
    "\n",
    "def filter_500(df):\n",
    "    return df[df['SP500'] == True]\n",
    "\n",
    "sp500_90s = []    \n",
    "for data in twenty_years:\n",
    "  sp500_90s.append(filter_500(data))\n",
    "\n",
    "aggregate_data = pd.concat(sp500_90s)\n",
    "aggregate_data['EMP-str-sum'] = aggregate_data[['EMP-str-A','EMP-str-B','EMP-str-C','EMP-str-D','EMP-str-F','EMP-str-G']].sum(axis=1)\n",
    "aggregate_data['EMP-con-sum'] = aggregate_data[['EMP-con-A','EMP-con-B','EMP-con-C','EMP-con-D']].sum(axis=1)\n",
    "aggregate_data['ENV-str-sum'] = aggregate_data[['ENV-str-A','ENV-str-B','ENV-str-C','ENV-str-D','ENV-str-F','ENV-str-G']].sum(axis=1)\n",
    "aggregate_data['ENV-con-sum'] = aggregate_data[['ENV-con-A','ENV-con-B','ENV-con-C','ENV-con-D','ENV-con-E','ENV-con-F']].sum(axis=1)\n",
    "aggregate_data.head()"
   ]
  },
  {
   "cell_type": "markdown",
   "metadata": {},
   "source": [
    "OK, so here's our data. Let's take a look at this data and make sure we're getting what we want: a sum of the ESG scores on a company-by-company basis."
   ]
  },
  {
   "cell_type": "code",
   "execution_count": 5,
   "metadata": {
    "collapsed": false
   },
   "outputs": [],
   "source": [
    "def sum_scores_for(dataframe, esg_marker):\n",
    "    grouping = dataframe.groupby(['Ticker'])[esg_marker].sum()\n",
    "    return pd.DataFrame({esg_marker : grouping}).reset_index()"
   ]
  },
  {
   "cell_type": "code",
   "execution_count": 6,
   "metadata": {
    "collapsed": false
   },
   "outputs": [
    {
     "data": {
      "text/html": [
       "<div>\n",
       "<table border=\"1\" class=\"dataframe\">\n",
       "  <thead>\n",
       "    <tr style=\"text-align: right;\">\n",
       "      <th></th>\n",
       "      <th>Ticker</th>\n",
       "      <th>EMP-str-sum</th>\n",
       "    </tr>\n",
       "  </thead>\n",
       "  <tbody>\n",
       "    <tr>\n",
       "      <th>0</th>\n",
       "      <td>A</td>\n",
       "      <td>6</td>\n",
       "    </tr>\n",
       "    <tr>\n",
       "      <th>1</th>\n",
       "      <td>AA</td>\n",
       "      <td>19</td>\n",
       "    </tr>\n",
       "    <tr>\n",
       "      <th>2</th>\n",
       "      <td>AAL</td>\n",
       "      <td>1</td>\n",
       "    </tr>\n",
       "    <tr>\n",
       "      <th>3</th>\n",
       "      <td>AAPL</td>\n",
       "      <td>7</td>\n",
       "    </tr>\n",
       "    <tr>\n",
       "      <th>4</th>\n",
       "      <td>ABC</td>\n",
       "      <td>0</td>\n",
       "    </tr>\n",
       "  </tbody>\n",
       "</table>\n",
       "</div>"
      ],
      "text/plain": [
       "  Ticker  EMP-str-sum\n",
       "0      A            6\n",
       "1     AA           19\n",
       "2    AAL            1\n",
       "3   AAPL            7\n",
       "4    ABC            0"
      ]
     },
     "execution_count": 6,
     "metadata": {},
     "output_type": "execute_result"
    }
   ],
   "source": [
    "esg_marker_data = sum_scores_for(aggregate_data, 'EMP-str-sum')\n",
    "esg_marker_data.head()"
   ]
  },
  {
   "cell_type": "markdown",
   "metadata": {},
   "source": [
    "Ah, these sums look like what we would expect to see!"
   ]
  },
  {
   "cell_type": "code",
   "execution_count": 7,
   "metadata": {
    "collapsed": false
   },
   "outputs": [],
   "source": [
    "esg_marker_data['EMP-con-sum'] = sum_scores_for(aggregate_data, 'EMP-con-sum')['EMP-con-sum']\n",
    "esg_marker_data['ENV-str-sum'] = sum_scores_for(aggregate_data, 'ENV-str-sum')['ENV-str-sum']\n",
    "esg_marker_data['ENV-con-sum'] = sum_scores_for(aggregate_data, 'ENV-con-sum')['ENV-con-sum']"
   ]
  },
  {
   "cell_type": "code",
   "execution_count": 8,
   "metadata": {
    "collapsed": false
   },
   "outputs": [
    {
     "data": {
      "text/html": [
       "<div>\n",
       "<table border=\"1\" class=\"dataframe\">\n",
       "  <thead>\n",
       "    <tr style=\"text-align: right;\">\n",
       "      <th></th>\n",
       "      <th>Ticker</th>\n",
       "      <th>EMP-str-sum</th>\n",
       "      <th>EMP-con-sum</th>\n",
       "      <th>ENV-str-sum</th>\n",
       "      <th>ENV-con-sum</th>\n",
       "    </tr>\n",
       "  </thead>\n",
       "  <tbody>\n",
       "    <tr>\n",
       "      <th>150</th>\n",
       "      <td>CAT</td>\n",
       "      <td>16</td>\n",
       "      <td>23</td>\n",
       "      <td>1</td>\n",
       "      <td>10</td>\n",
       "    </tr>\n",
       "    <tr>\n",
       "      <th>847</th>\n",
       "      <td>UNP</td>\n",
       "      <td>4</td>\n",
       "      <td>18</td>\n",
       "      <td>2</td>\n",
       "      <td>28</td>\n",
       "    </tr>\n",
       "    <tr>\n",
       "      <th>649</th>\n",
       "      <td>PD</td>\n",
       "      <td>0</td>\n",
       "      <td>17</td>\n",
       "      <td>0</td>\n",
       "      <td>26</td>\n",
       "    </tr>\n",
       "    <tr>\n",
       "      <th>501</th>\n",
       "      <td>LPX</td>\n",
       "      <td>1</td>\n",
       "      <td>17</td>\n",
       "      <td>3</td>\n",
       "      <td>17</td>\n",
       "    </tr>\n",
       "    <tr>\n",
       "      <th>443</th>\n",
       "      <td>IP</td>\n",
       "      <td>0</td>\n",
       "      <td>16</td>\n",
       "      <td>15</td>\n",
       "      <td>36</td>\n",
       "    </tr>\n",
       "  </tbody>\n",
       "</table>\n",
       "</div>"
      ],
      "text/plain": [
       "    Ticker  EMP-str-sum  EMP-con-sum  ENV-str-sum  ENV-con-sum\n",
       "150    CAT           16           23            1           10\n",
       "847    UNP            4           18            2           28\n",
       "649     PD            0           17            0           26\n",
       "501    LPX            1           17            3           17\n",
       "443     IP            0           16           15           36"
      ]
     },
     "execution_count": 8,
     "metadata": {},
     "output_type": "execute_result"
    }
   ],
   "source": [
    "esg_marker_data.sort_values(by=['EMP-con-sum'], ascending=False).head()"
   ]
  },
  {
   "cell_type": "markdown",
   "metadata": {},
   "source": [
    "### Second, we pull in stock performance data.\n",
    "\n",
    "This data contains stock returns by quarter for S&P500 companies dating back to 1979. We'll pull the columns for the '90s for now."
   ]
  },
  {
   "cell_type": "code",
   "execution_count": 9,
   "metadata": {
    "collapsed": true
   },
   "outputs": [],
   "source": [
    "price_data = pd.read_excel('../stockproject/Cleaned_Researcher_Dataset.xlsx')"
   ]
  },
  {
   "cell_type": "code",
   "execution_count": null,
   "metadata": {
    "collapsed": false
   },
   "outputs": [
    {
     "data": {
      "text/html": [
       "<div>\n",
       "<table border=\"1\" class=\"dataframe\">\n",
       "  <thead>\n",
       "    <tr style=\"text-align: right;\">\n",
       "      <th></th>\n",
       "      <th>Ticker</th>\n",
       "      <th>Company Name</th>\n",
       "      <th>1989-12-31 00:00:00</th>\n",
       "      <th>1990-03-31 00:00:00</th>\n",
       "      <th>1990-06-30 00:00:00</th>\n",
       "      <th>1990-09-30 00:00:00</th>\n",
       "      <th>1990-12-31 00:00:00</th>\n",
       "      <th>1991-03-31 00:00:00</th>\n",
       "      <th>1991-06-30 00:00:00</th>\n",
       "      <th>1991-09-30 00:00:00</th>\n",
       "      <th>...</th>\n",
       "      <th>2002-09-30 00:00:00</th>\n",
       "      <th>2002-12-31 00:00:00</th>\n",
       "      <th>2003-03-31 00:00:00</th>\n",
       "      <th>2003-06-30 00:00:00</th>\n",
       "      <th>2003-09-30 00:00:00</th>\n",
       "      <th>2003-12-31 00:00:00</th>\n",
       "      <th>2004-03-31 00:00:00</th>\n",
       "      <th>2004-06-30 00:00:00</th>\n",
       "      <th>2004-09-30 00:00:00</th>\n",
       "      <th>2004-12-31 00:00:00</th>\n",
       "    </tr>\n",
       "  </thead>\n",
       "  <tbody>\n",
       "    <tr>\n",
       "      <th>1</th>\n",
       "      <td>A</td>\n",
       "      <td>Agilent Technologies Inc.</td>\n",
       "      <td>NaN</td>\n",
       "      <td>NaN</td>\n",
       "      <td>NaN</td>\n",
       "      <td>NaN</td>\n",
       "      <td>NaN</td>\n",
       "      <td>NaN</td>\n",
       "      <td>NaN</td>\n",
       "      <td>NaN</td>\n",
       "      <td>...</td>\n",
       "      <td>13.06</td>\n",
       "      <td>17.96</td>\n",
       "      <td>13.15</td>\n",
       "      <td>19.55</td>\n",
       "      <td>22.11</td>\n",
       "      <td>29.24</td>\n",
       "      <td>31.63</td>\n",
       "      <td>29.28</td>\n",
       "      <td>21.57</td>\n",
       "      <td>24.1</td>\n",
       "    </tr>\n",
       "    <tr>\n",
       "      <th>2</th>\n",
       "      <td>AA</td>\n",
       "      <td>Alcoa Inc</td>\n",
       "      <td>75</td>\n",
       "      <td>64.75</td>\n",
       "      <td>63.75</td>\n",
       "      <td>62.63</td>\n",
       "      <td>57.63</td>\n",
       "      <td>65.5</td>\n",
       "      <td>67.5</td>\n",
       "      <td>63.88</td>\n",
       "      <td>...</td>\n",
       "      <td>19.3</td>\n",
       "      <td>22.78</td>\n",
       "      <td>19.38</td>\n",
       "      <td>25.5</td>\n",
       "      <td>26.16</td>\n",
       "      <td>38</td>\n",
       "      <td>34.69</td>\n",
       "      <td>33.03</td>\n",
       "      <td>33.59</td>\n",
       "      <td>31.42</td>\n",
       "    </tr>\n",
       "    <tr>\n",
       "      <th>3</th>\n",
       "      <td>AAL</td>\n",
       "      <td>American Airlines Group</td>\n",
       "      <td>NaN</td>\n",
       "      <td>NaN</td>\n",
       "      <td>NaN</td>\n",
       "      <td>NaN</td>\n",
       "      <td>NaN</td>\n",
       "      <td>NaN</td>\n",
       "      <td>NaN</td>\n",
       "      <td>NaN</td>\n",
       "      <td>...</td>\n",
       "      <td>NaN</td>\n",
       "      <td>NaN</td>\n",
       "      <td>NaN</td>\n",
       "      <td>NaN</td>\n",
       "      <td>NaN</td>\n",
       "      <td>NaN</td>\n",
       "      <td>NaN</td>\n",
       "      <td>NaN</td>\n",
       "      <td>NaN</td>\n",
       "      <td>NaN</td>\n",
       "    </tr>\n",
       "    <tr>\n",
       "      <th>4</th>\n",
       "      <td>AAL (Alex)</td>\n",
       "      <td>Alexander &amp; Alexander</td>\n",
       "      <td>30.63</td>\n",
       "      <td>26.75</td>\n",
       "      <td>24.38</td>\n",
       "      <td>17.88</td>\n",
       "      <td>23.13</td>\n",
       "      <td>26.25</td>\n",
       "      <td>22.5</td>\n",
       "      <td>20.88</td>\n",
       "      <td>...</td>\n",
       "      <td>NaN</td>\n",
       "      <td>NaN</td>\n",
       "      <td>NaN</td>\n",
       "      <td>NaN</td>\n",
       "      <td>NaN</td>\n",
       "      <td>NaN</td>\n",
       "      <td>NaN</td>\n",
       "      <td>NaN</td>\n",
       "      <td>NaN</td>\n",
       "      <td>NaN</td>\n",
       "    </tr>\n",
       "    <tr>\n",
       "      <th>5</th>\n",
       "      <td>AAP</td>\n",
       "      <td>Advance Auto Parts Inc</td>\n",
       "      <td>NaN</td>\n",
       "      <td>NaN</td>\n",
       "      <td>NaN</td>\n",
       "      <td>NaN</td>\n",
       "      <td>NaN</td>\n",
       "      <td>NaN</td>\n",
       "      <td>NaN</td>\n",
       "      <td>NaN</td>\n",
       "      <td>...</td>\n",
       "      <td>NaN</td>\n",
       "      <td>NaN</td>\n",
       "      <td>NaN</td>\n",
       "      <td>NaN</td>\n",
       "      <td>NaN</td>\n",
       "      <td>NaN</td>\n",
       "      <td>NaN</td>\n",
       "      <td>NaN</td>\n",
       "      <td>NaN</td>\n",
       "      <td>NaN</td>\n",
       "    </tr>\n",
       "  </tbody>\n",
       "</table>\n",
       "<p>5 rows × 63 columns</p>\n",
       "</div>"
      ],
      "text/plain": [
       "       Ticker               Company Name 1989-12-31 00:00:00  \\\n",
       "1           A  Agilent Technologies Inc.                 NaN   \n",
       "2          AA                  Alcoa Inc                  75   \n",
       "3         AAL    American Airlines Group                 NaN   \n",
       "4  AAL (Alex)      Alexander & Alexander               30.63   \n",
       "5         AAP     Advance Auto Parts Inc                 NaN   \n",
       "\n",
       "  1990-03-31 00:00:00 1990-06-30 00:00:00 1990-09-30 00:00:00  \\\n",
       "1                 NaN                 NaN                 NaN   \n",
       "2               64.75               63.75               62.63   \n",
       "3                 NaN                 NaN                 NaN   \n",
       "4               26.75               24.38               17.88   \n",
       "5                 NaN                 NaN                 NaN   \n",
       "\n",
       "  1990-12-31 00:00:00 1991-03-31 00:00:00 1991-06-30 00:00:00  \\\n",
       "1                 NaN                 NaN                 NaN   \n",
       "2               57.63                65.5                67.5   \n",
       "3                 NaN                 NaN                 NaN   \n",
       "4               23.13               26.25                22.5   \n",
       "5                 NaN                 NaN                 NaN   \n",
       "\n",
       "  1991-09-30 00:00:00         ...         2002-09-30 00:00:00  \\\n",
       "1                 NaN         ...                       13.06   \n",
       "2               63.88         ...                        19.3   \n",
       "3                 NaN         ...                         NaN   \n",
       "4               20.88         ...                         NaN   \n",
       "5                 NaN         ...                         NaN   \n",
       "\n",
       "  2002-12-31 00:00:00 2003-03-31 00:00:00 2003-06-30 00:00:00  \\\n",
       "1               17.96               13.15               19.55   \n",
       "2               22.78               19.38                25.5   \n",
       "3                 NaN                 NaN                 NaN   \n",
       "4                 NaN                 NaN                 NaN   \n",
       "5                 NaN                 NaN                 NaN   \n",
       "\n",
       "  2003-09-30 00:00:00 2003-12-31 00:00:00 2004-03-31 00:00:00  \\\n",
       "1               22.11               29.24               31.63   \n",
       "2               26.16                  38               34.69   \n",
       "3                 NaN                 NaN                 NaN   \n",
       "4                 NaN                 NaN                 NaN   \n",
       "5                 NaN                 NaN                 NaN   \n",
       "\n",
       "  2004-06-30 00:00:00 2004-09-30 00:00:00 2004-12-31 00:00:00  \n",
       "1               29.28               21.57                24.1  \n",
       "2               33.03               33.59               31.42  \n",
       "3                 NaN                 NaN                 NaN  \n",
       "4                 NaN                 NaN                 NaN  \n",
       "5                 NaN                 NaN                 NaN  \n",
       "\n",
       "[5 rows x 63 columns]"
      ]
     },
     "execution_count": 10,
     "metadata": {},
     "output_type": "execute_result"
    }
   ],
   "source": [
    "new_header = price_data.iloc[0] #grab the first row for the header\n",
    "content = price_data[1:] #take the data less the header row\n",
    "content.columns = new_header #set the header row as the df header\n",
    "content.head()\n",
    "\n",
    "tickers = content.iloc[:,0:2]\n",
    "tickers.columns = list(new_header)[0:2]\n",
    "\n",
    "dates = content.iloc[:,45:106]\n",
    "dates.columns = list(new_header)[45:106]\n",
    "\n",
    "result = pd.concat([tickers, dates], axis=1)\n",
    "result.head()"
   ]
  },
  {
   "cell_type": "markdown",
   "metadata": {},
   "source": [
    "### Third, we translate these stock prices into returns.\n",
    "\n",
    "I want a metric that I can use to compare all the companies that a) belonged to the S&P 500 and b) earned some kind of KLD scores during the 1990-2005 period. Some companies only belong to the S&P500 for a subset of the years in question. We want a metric that will not penalize companies based on having spent less time in the S&P500, so a cumulative score won't work for us. I decided to calculate quarterly returns based on the stock prices. This fairly compares each company's stock performance during the period that an index-matching ETF would have held it, however long or short that was.\n",
    "\n",
    "This is also nice because our mean function will only consider, for each company, those cells that have a number. So we don't have to do as much data skullduggery to get the equation functions to spit out something meaningful."
   ]
  },
  {
   "cell_type": "code",
   "execution_count": null,
   "metadata": {
    "collapsed": false
   },
   "outputs": [],
   "source": [
    "def quarter_return(start, end):\n",
    "    if start == 0 or end == 0:\n",
    "        return 0\n",
    "    return end / start\n",
    "\n",
    "#WARNING: This has to go column by column because the sequence in time matters.\n",
    "#Such an iterative operation takes longer than async-per-column pandas operations.\n",
    "#Expect this block of code to take several seconds to run.\n",
    "raw_stock_prices = result\n",
    "returns_df = raw_stock_prices[['Ticker', 'Company Name']]\n",
    "\n",
    "#We cannot easily index the columsn by name\n",
    "#because the column names are datetimes rather than strings,\n",
    "#so we use column index instead.\n",
    "for column_name in raw_stock_prices.iloc[:,2:]:\n",
    "    loc = raw_stock_prices.columns.get_loc(column_name)\n",
    "    this_column = raw_stock_prices.iloc[:,loc]\n",
    "    next_col = loc + 1\n",
    "    try:\n",
    "        next_column = raw_stock_prices.iloc[:, next_col]\n",
    "\n",
    "        temp_df = pd.concat([this_column, next_column], axis=1)\n",
    "        temp_df.columns = ['a', 'b']\n",
    "    \n",
    "        returns_df['quarter_starting_' + column_name.strftime('%m/%d/%Y') + '_roi'] = (\n",
    "        temp_df.apply(lambda row: quarter_return(row['a'], row['b']), axis=1))\n",
    "    except:\n",
    "        print('End of dataframe reached')\n",
    "\n",
    "returns_df.head()"
   ]
  },
  {
   "cell_type": "markdown",
   "metadata": {},
   "source": [
    "### Fourth, we combine the data into one dataframe.\n",
    "\n",
    "We find all the companies for which we have both stock price data and ESG data, and we put the information together."
   ]
  },
  {
   "cell_type": "code",
   "execution_count": null,
   "metadata": {
    "collapsed": false
   },
   "outputs": [],
   "source": [
    "tickers = list(esg_marker_data[\"Ticker\"]) #get all the company tickers for which we have esg data\n",
    "prices_for_esg_companies = returns_df[returns_df[\"Ticker\"].isin(tickers)] #get the stock data from companies in that list"
   ]
  },
  {
   "cell_type": "code",
   "execution_count": null,
   "metadata": {
    "collapsed": false
   },
   "outputs": [],
   "source": [
    "relevant_esgs = esg_marker_data[esg_marker_data[\"Ticker\"].isin(list(prices_for_esg_companies[\"Ticker\"]))]\n",
    "relevant_esgs = relevant_esgs.fillna(0.0) #no esg score to zero esg score"
   ]
  },
  {
   "cell_type": "code",
   "execution_count": null,
   "metadata": {
    "collapsed": false
   },
   "outputs": [],
   "source": [
    "all_data = pd.concat([relevant_esgs, prices_for_esg_companies.iloc[:,1:]], axis = 1) #put the esg and stock data in one dataframe"
   ]
  },
  {
   "cell_type": "code",
   "execution_count": null,
   "metadata": {
    "collapsed": false
   },
   "outputs": [],
   "source": [
    "all_data.head()"
   ]
  },
  {
   "cell_type": "markdown",
   "metadata": {},
   "source": [
    "### Fifth, we look at the data."
   ]
  },
  {
   "cell_type": "code",
   "execution_count": null,
   "metadata": {
    "collapsed": false
   },
   "outputs": [],
   "source": [
    "import matplotlib.pyplot as plt\n",
    "import random\n",
    "import seaborn as sns\n",
    "%matplotlib inline  "
   ]
  },
  {
   "cell_type": "markdown",
   "metadata": {},
   "source": [
    "Our research question, recall, is this: do companies with low aggregated ESG scores have better stock performance than companies with high aggregated ESG scores? \n",
    "\n",
    "We have so far calculated the return on investment of every stock, every quarter. We're not ready to use that data, though. If we use each return individually, we'll end up comparing each example (that is, each company) _multiple times_. Multiple comparisons in statistics gives you more opportunities to end up with false positives because it gives you more cracks at hitting that 5% probability lottery (if p-0.05) of your results being a fluke.\n",
    "\n",
    "Instead, we want a way to generalize over all of its quarterly returns for those quarters in which each stock had a return.\n",
    "\n",
    "Easy! Take an average, right? Well, not quite. \n",
    "\n",
    "First of all, an average skews toward big outliers. If most quarters showed an ROI of 1.01 and then one quarter has an ROI of 2, the average will skew much higher than 1.01.\n",
    "\n",
    "Pursuant to that, smaller numbers of measurements skew toward the extremes. So if a company only has three returns, each individual return affects the average a lot. That means, if one of the three is super high, the whole average will be super high. Comparatively, if a company has 200 returns and one of them is an outlier, it won't drag the average nearly as far. In datasets where examples possess a different number of measurements, the highest and lowest values for the target variable often come from samples with few measurements.\n",
    "\n",
    "We are in a prime position to encounter that gotcha, because some of these companies are much more measured (many more quarterly returns) than others. \n",
    "\n",
    "So instead, we're going to do something that might look a little weird.\n",
    "\n",
    "#### Confidence Intervals\n",
    "\n",
    "Instead of going off the _average_ of our set of returns, we'll take the confidence interval for it. A confidence interval attempts to take into account the fact that our data doesn't quite match the real world: it samples the real world such that we can attempt to represent the real world in studies. So the \"true average\" of something might not look like the average of our measurements of it, and the fewer measurements we have the less sure we can be of the discrepancy. A confidence interval takes our average and says 'based on this average, the _true_ average lies between this number and this number with this probability.' \n",
    "\n",
    "So, for our stock return measurements, we'll get the confidence interval for each company. For companies with few measurements, that confidence interval will be wide. For companies with many measurements, it will be more narrow. We'll then sample that _pessimistically_ and compare the _bottoms_ of all the companies' confidence intervals. \n",
    "\n",
    "It's worth noting that this is going to give us a very low number for companies with few returns and _without_ a high outlier. We'll address that as well."
   ]
  },
  {
   "cell_type": "code",
   "execution_count": null,
   "metadata": {
    "collapsed": false
   },
   "outputs": [],
   "source": [
    "# Calculate average roi\n",
    "returns = all_data[all_data.columns.difference(['EMP-str-sum', 'EMP-con-sum','ENV-str-sum','ENV-con-sum','Ticker','Company Name'])]\n",
    "returns.head()"
   ]
  },
  {
   "cell_type": "code",
   "execution_count": null,
   "metadata": {
    "collapsed": true
   },
   "outputs": [],
   "source": [
    "def confidence_interval_for(samples=[], confidence=0.95):\n",
    "    sample_size = len(samples)\n",
    "    degrees_freedom = sample_size - 1\n",
    "    outlier_tails = (1.0 - confidence) / 2.0\n",
    "    t_distribution_number = -1 * t.ppf(outlier_tails, degrees_freedom)\n",
    "\n",
    "    step_1 = np.std(samples)/math.sqrt(sample_size) \n",
    "    step_2 = step_1 * t_distribution_number\n",
    "    \n",
    "    low_end = np.mean(samples) - step_2\n",
    "    high_end = np.mean(samples) + step_2\n",
    "\n",
    "    return low_end, high_end"
   ]
  },
  {
   "cell_type": "code",
   "execution_count": null,
   "metadata": {
    "collapsed": false
   },
   "outputs": [],
   "source": [
    "import math\n",
    "from scipy.stats import t\n",
    "import numpy as np\n",
    "\n",
    "lower_conf_intervals = []\n",
    "upper_conf_intervals = []\n",
    "\n",
    "for (idx, row) in returns.iterrows():\n",
    "    maybe_measurements = row.tolist()\n",
    "    measurements = [float(x) for x in maybe_measurements if (math.isnan(float(x)) == False)]\n",
    "    bottom, top = confidence_interval_for(measurements)\n",
    "    lower_conf_intervals.append(bottom)\n",
    "    upper_conf_intervals.append(top)"
   ]
  },
  {
   "cell_type": "code",
   "execution_count": null,
   "metadata": {
    "collapsed": false
   },
   "outputs": [],
   "source": [
    "all_data['avg_quarterly_roi'] = returns.mean(axis=1, skipna=True)\n",
    "all_data['num_measurements'] = returns.count(axis=1)\n",
    "all_data['lower_conf_interval'] = lower_conf_intervals\n",
    "all_data['upper_conf_interval'] = upper_conf_intervals\n",
    "\n",
    "all_data.head(10)"
   ]
  },
  {
   "cell_type": "markdown",
   "metadata": {},
   "source": [
    "Before we go on, let's talk statistical power.\n",
    "\n",
    "The statistical power of a dataset describes the likelihood that you will be able to _detect_ a meaningful difference with this data given that the difference _is there_. It's an important precursor step to data analysis because it determines your ability to find the effect you're looking for.\n",
    "\n",
    "Calculating statistical power is a little complicated, and it's generally a good idea to get someone who knows what they're doing to help you. I'm not confident in my ability to evaluate statistical power calculation strategies yet, but I figured I'd start with the all-around method and used [this online calculator](https://www.dssresearch.com/KnowledgeCenter/toolkitcalculators/statisticalpowercalculators.aspx).\n",
    "\n",
    "I performed a one-tail statistical power test. I took the mean of the bottom end of confidence intervals on stock returns—0.92. Suppose this were only the mean for companies with favorable ESG scores, and suppose that companies with unfavorable ESG scores had a marginally but meaningfully higher quarterly return of 0.93. So 0.92 is my sample average and 0.93 is my test value.\n",
    "\n",
    "The sample size is how many examples we have: 1087.\n",
    "\n",
    "Our standard deviation for sample is..."
   ]
  },
  {
   "cell_type": "code",
   "execution_count": null,
   "metadata": {
    "collapsed": false
   },
   "outputs": [],
   "source": [
    "all_data['lower_conf_interval'].describe()"
   ]
  },
  {
   "cell_type": "markdown",
   "metadata": {},
   "source": [
    "...0.12. so we plug that in.\n",
    "\n",
    "I left the confidence level at 5% and ran the calculator.\n",
    "\n",
    "My result: 86.5%\n",
    "\n",
    "That's the probability, if there is a 1% difference or more between stock returns for companies with favorable and unfavorable ESG scores, we have an 86.5% chance of detecting it. Statistical power expectations vary, but a rule of thumb (and standard practice at some more rigorous scientific journals) is to expect a statistical power of 80% or higher to take a study seriously. \n"
   ]
  },
  {
   "cell_type": "markdown",
   "metadata": {},
   "source": [
    "OK, time to make some pictures! Let's plot our ESG score sums against average roi and see if we notice any trends."
   ]
  },
  {
   "cell_type": "code",
   "execution_count": null,
   "metadata": {
    "collapsed": false
   },
   "outputs": [],
   "source": [
    "f, ((ax1, ax2), (ax3, ax4)) = plt.subplots(2, 2, sharex='col', sharey='row')\n",
    "f.suptitle('ESG Sums Plotted Against Returns')\n",
    "ax1.scatter(x=all_data['EMP-str-sum'], y=all_data['lower_conf_interval'])\n",
    "ax2.scatter(x=all_data['EMP-con-sum'], y=all_data['lower_conf_interval'])\n",
    "ax3.scatter(x=all_data['ENV-str-sum'], y=all_data['lower_conf_interval'])\n",
    "ax4.scatter(x=all_data['ENV-con-sum'], y=all_data['lower_conf_interval'])\n",
    "all_data.shape"
   ]
  },
  {
   "cell_type": "markdown",
   "metadata": {},
   "source": [
    "We have a couple of really low ones on those charts. Let's look at them:"
   ]
  },
  {
   "cell_type": "code",
   "execution_count": null,
   "metadata": {
    "collapsed": false
   },
   "outputs": [],
   "source": [
    "all_data[['Company Name','lower_conf_interval', 'num_measurements']].sort('lower_conf_interval').head(10)"
   ]
  },
  {
   "cell_type": "markdown",
   "metadata": {},
   "source": [
    "We spoke a little bit earlier about the way our measuring strategy would especially penalize companies with only a few measurements. We're seeing that here. Out of these bottom 10 scores for the lower end of stock return confidence intervals, only one has more than 7 data points. Compare this to the mean number of measurements:"
   ]
  },
  {
   "cell_type": "code",
   "execution_count": null,
   "metadata": {
    "collapsed": false
   },
   "outputs": [],
   "source": [
    "all_data['num_measurements'].mean()"
   ]
  },
  {
   "cell_type": "markdown",
   "metadata": {},
   "source": [
    "But there's another thing to note about this data: five of the values are _negative_. These scores are low, yes, but a negative value for a stock return does not make sense. The value of a stock can drop to zero, but it does not turn into debt to the company owed by the stockholders. The lowest a stock price can drop is to zero. To accurately represent that, we'll clip these values at zero."
   ]
  },
  {
   "cell_type": "code",
   "execution_count": null,
   "metadata": {
    "collapsed": true
   },
   "outputs": [],
   "source": [
    "all_data['lower_conf_interval'] = all_data['lower_conf_interval'].clip_lower(0)"
   ]
  },
  {
   "cell_type": "markdown",
   "metadata": {},
   "source": [
    "Let's check the means too to make sure we don't have negative values in the means:"
   ]
  },
  {
   "cell_type": "code",
   "execution_count": null,
   "metadata": {
    "collapsed": false
   },
   "outputs": [],
   "source": [
    "all_data[['Company Name','avg_quarterly_roi', 'num_measurements']].sort('avg_quarterly_roi').head(10)"
   ]
  },
  {
   "cell_type": "markdown",
   "metadata": {},
   "source": [
    "Cool: we don't. This means that none of the upper ends of the confidence intervals will have negative values either, as the upper end of the confidence interval is always higher than the mean on which it is based."
   ]
  },
  {
   "cell_type": "markdown",
   "metadata": {},
   "source": [
    "Let's check out our plot again with those adjustments:"
   ]
  },
  {
   "cell_type": "code",
   "execution_count": null,
   "metadata": {
    "collapsed": false
   },
   "outputs": [],
   "source": [
    "f, ((ax1, ax2), (ax3, ax4)) = plt.subplots(2, 2, sharex='col', sharey='row')\n",
    "f.suptitle('ESG Sums Plotted Against Returns')\n",
    "ax1.scatter(x=all_data['EMP-str-sum'], y=all_data['lower_conf_interval'])\n",
    "ax2.scatter(x=all_data['EMP-con-sum'], y=all_data['lower_conf_interval'])\n",
    "ax3.scatter(x=all_data['ENV-str-sum'], y=all_data['lower_conf_interval'])\n",
    "ax4.scatter(x=all_data['ENV-con-sum'], y=all_data['lower_conf_interval'])"
   ]
  },
  {
   "cell_type": "markdown",
   "metadata": {},
   "source": [
    "Let's look at the general trends of the returns. They look pretty flat to me: I don't see an upward or downward trend in quarterly ROI based on any of the 4 ESG metrics.\n",
    "\n",
    "Let's dig a little deeper and see if the numbers themselves support that."
   ]
  },
  {
   "cell_type": "code",
   "execution_count": null,
   "metadata": {
    "collapsed": false
   },
   "outputs": [],
   "source": [
    "esg_sum_zero = all_data[all_data['EMP-str-sum'] == 0.0]\n",
    "twenty_examples = esg_sum_zero.sample(20)\n",
    "\n",
    "esg_sum_above_zero = all_data[all_data['EMP-str-sum'] > 0.0]\n",
    "\n",
    "emp_str_sum = pd.concat([esg_sum_above_zero, twenty_examples])"
   ]
  },
  {
   "cell_type": "markdown",
   "metadata": {},
   "source": [
    "The thing about a lot of our data is that it skews heavily toward one side or the other. For example, there are a lot more companies with low employment policy strength scores than high ones. How do we account for this when we do our aggregations? In the code below, I try to separate strata of ESG scores into buckets of similar size. That means a lot of the higher scores get bucketed together, while zero (0) or one(1) get their own buckets.\n",
    "\n",
    "Here's a question though—why do buckets at all? Why not run a linear regressor on the data as-is and call it good?\n",
    "\n",
    "Good question! A regressor can frequently be a preferable option to drawing arbitrary distinctions in continuous data. This isn't exaclty continuous data as the ESG aggregations are all natural numbers, _but_ that is not the reason for the buckets. The reason for the buckets is to have each of our aggregated data points come from roughly the same number of data examples. If we run a regressor, the bottom of the regressor represents a ton of data points, and as we go higher it represents fewer and fewer data points such that the expected value up there means very little. \n",
    "\n",
    "I'd be very concerned to artificially divide this data into only _two_ buckets such that points close to the arbitrary division get lumped in with very different means. So we'll break it into as many buckets as we reasonably can such that each bucket of data points contains data points that are roughly similar to one another in their ESG scores."
   ]
  },
  {
   "cell_type": "code",
   "execution_count": null,
   "metadata": {
    "collapsed": false
   },
   "outputs": [],
   "source": [
    "def buckets(score):\n",
    "    if score == 0.0:\n",
    "        val = '0' \n",
    "    if 0.0 < score < 2.0:\n",
    "        val = '1' \n",
    "    if 1.0 < score < 4.0:\n",
    "        val = '2-3' \n",
    "    if 3.0 < score < 6.0:\n",
    "        val = '4-5' \n",
    "    if 5.0 < score < 8.0:\n",
    "        val = '6-7'\n",
    "    if 7.0 < score < 11.0:\n",
    "        val = '8-10'\n",
    "    if 10.0 < score:\n",
    "        val = 'Above 11' \n",
    "    return val\n",
    "\n",
    "emp_str_sum['emp_str_sum_grouping'] = emp_str_sum['EMP-str-sum'].apply(buckets)\n",
    "emp_str_sum.head()"
   ]
  },
  {
   "cell_type": "markdown",
   "metadata": {},
   "source": [
    "And here are our initial results for employment policy strength scores and quarterly ROIs!"
   ]
  },
  {
   "cell_type": "code",
   "execution_count": null,
   "metadata": {
    "collapsed": false
   },
   "outputs": [],
   "source": [
    "emp_str_sum_groupby = emp_str_sum.groupby(['emp_str_sum_grouping']).agg({'lower_conf_interval': ['count','mean','std']}).reset_index()\n",
    "emp_str_sum_groupby.sort_values('emp_str_sum_grouping')"
   ]
  },
  {
   "cell_type": "markdown",
   "metadata": {},
   "source": [
    "My buckets are not perfectly the same sizes, but the means are not orders of magnitude apart. They're all in the 0.91-0.94 range, whether the company had a very high employment policy strength score or a sorry zero. "
   ]
  },
  {
   "cell_type": "code",
   "execution_count": null,
   "metadata": {
    "collapsed": false
   },
   "outputs": [],
   "source": [
    "emp_str = emp_str_sum_groupby['emp_str_sum_grouping']\n",
    "emp_str_qtrly_roi = emp_str_sum_groupby['lower_conf_interval']['mean']\n",
    "annual_view = pd.concat([emp_str, emp_str_qtrly_roi], axis=1).reset_index()\n",
    "annual_view.columns = ['index','emp_str_sum_grouping', 'low_quarterly_estimate_roi']\n",
    "annual_view"
   ]
  },
  {
   "cell_type": "markdown",
   "metadata": {},
   "source": []
  },
  {
   "cell_type": "markdown",
   "metadata": {},
   "source": [
    "Unfortunately each of the data have distinct distributions of values, which means that it's not trivial to modularize the bucketing strategy. We have to bucket them all differently to get roughly equal buckets. So we're going to be writing similar code several times over here. Were we doing this analysis continuously in, say, an app, we would find a better way to do this."
   ]
  },
  {
   "cell_type": "code",
   "execution_count": null,
   "metadata": {
    "collapsed": false
   },
   "outputs": [],
   "source": [
    "esg_sum_zero = all_data[all_data['EMP-con-sum'] == 0.0]\n",
    "eighteen_examples = esg_sum_zero.sample(18)\n",
    "\n",
    "esg_sum_above_zero = all_data[all_data['EMP-con-sum'] > 0.0]\n",
    "\n",
    "emp_con_sum = pd.concat([esg_sum_above_zero, eighteen_examples])\n",
    "\n",
    "def buckets(score):\n",
    "    if score == 0.0:\n",
    "        val = '0' \n",
    "    if 0.0 < score < 3.0:\n",
    "        val = '1-2' \n",
    "    if 2.0 < score < 5.0:\n",
    "        val = '3-4'\n",
    "    if 4.0 < score:\n",
    "        val = '5 and up'\n",
    "    return val\n",
    "\n",
    "emp_con_sum['emp_con_sum_grouping'] = emp_con_sum['EMP-con-sum'].apply(buckets)\n",
    "emp_con_sum.head()"
   ]
  },
  {
   "cell_type": "code",
   "execution_count": null,
   "metadata": {
    "collapsed": false
   },
   "outputs": [],
   "source": [
    "emp_con_sum_groupby = emp_con_sum.groupby(['emp_con_sum_grouping'])[['lower_conf_interval']].agg(['count', 'mean','std']).reset_index()\n",
    "emp_con_sum_groupby.sort_values('emp_con_sum_grouping')"
   ]
  },
  {
   "cell_type": "code",
   "execution_count": null,
   "metadata": {
    "collapsed": false
   },
   "outputs": [],
   "source": [
    "emp_con = emp_con_sum_groupby['emp_con_sum_grouping']\n",
    "emp_con_qtrly_roi = emp_con_sum_groupby['lower_conf_interval']['mean']\n",
    "annual_view = pd.concat([emp_con, emp_con_qtrly_roi], axis=1).reset_index()\n",
    "annual_view.columns = ['index','emp_con_sum_grouping', 'low_quarterly_estimate_roi']\n",
    "annual_view"
   ]
  },
  {
   "cell_type": "markdown",
   "metadata": {},
   "source": [
    "Especially uneven bucketing here, unfortunately. I could take a random sampling of the larger buckets. Maybe in the next round.\n",
    "\n",
    "Anyway, this is employment concerns (scores for treating workers poorly)."
   ]
  },
  {
   "cell_type": "code",
   "execution_count": null,
   "metadata": {
    "collapsed": false
   },
   "outputs": [],
   "source": [
    "esg_sum_zero = all_data[all_data['ENV-str-sum'] == 0.0]\n",
    "twenty_examples = esg_sum_zero.sample(20)\n",
    "\n",
    "esg_sum_above_zero = all_data[all_data['ENV-str-sum'] > 0.0]\n",
    "\n",
    "env_str_sum = pd.concat([esg_sum_above_zero, twenty_examples])\n",
    "\n",
    "def buckets(score):\n",
    "    if score == 0.0:\n",
    "        val = '0' \n",
    "    if 0.0 < score < 4.0:\n",
    "        val = '1-3' \n",
    "    if 3.0 < score < 10.0:\n",
    "        val = '4-9'\n",
    "    if 9.0 < score:\n",
    "        val = '9 and up'\n",
    "    return val\n",
    "\n",
    "env_str_sum['env_str_sum_grouping'] = env_str_sum['ENV-str-sum'].apply(buckets)\n",
    "env_str_sum.head()"
   ]
  },
  {
   "cell_type": "code",
   "execution_count": null,
   "metadata": {
    "collapsed": false
   },
   "outputs": [],
   "source": [
    "env_str_sum_groupby = env_str_sum.groupby(['env_str_sum_grouping'])[['lower_conf_interval']].agg(['count', 'mean','std']).reset_index()\n",
    "env_str_sum_groupby.sort_values('env_str_sum_grouping')"
   ]
  },
  {
   "cell_type": "code",
   "execution_count": null,
   "metadata": {
    "collapsed": false
   },
   "outputs": [],
   "source": [
    "env_str = env_str_sum_groupby['env_str_sum_grouping']\n",
    "env_str_qtrly_roi = env_str_sum_groupby['lower_conf_interval']['mean']\n",
    "annual_view = pd.concat([env_str, env_str_qtrly_roi], axis=1).reset_index()\n",
    "annual_view.columns = ['index','env_str_sum_grouping', 'low_quarterly_estimate_roi']\n",
    "annual_view"
   ]
  },
  {
   "cell_type": "markdown",
   "metadata": {},
   "source": [
    "Here we have environmental impact strength. I could stratify these buckets more to get a more granular view. "
   ]
  },
  {
   "cell_type": "code",
   "execution_count": null,
   "metadata": {
    "collapsed": false
   },
   "outputs": [],
   "source": [
    "env_con_sum = all_data\n",
    "\n",
    "def buckets(score):\n",
    "    val = score\n",
    "    if score == 0.0:\n",
    "        val = '0' \n",
    "    if score == 1.0:\n",
    "        val = '1' \n",
    "    if score == 2.0:\n",
    "        val = '2' \n",
    "    if 2.0 < score < 5.0:\n",
    "        val = '3-4'\n",
    "    if 4.0 < score < 8.0:\n",
    "        val = '5-7'\n",
    "    if 7.0 < score < 13.0:\n",
    "        val = '8-12'\n",
    "    if 12.0 < score < 22.0:\n",
    "        val = 'Above 12, below 21'\n",
    "    if 21.0 < score:\n",
    "        val = 'Above 21'\n",
    "    return val\n",
    "\n",
    "env_con_sum['env_con_sum_grouping'] = env_con_sum['ENV-con-sum'].apply(buckets)\n",
    "env_con_sum.head()"
   ]
  },
  {
   "cell_type": "code",
   "execution_count": null,
   "metadata": {
    "collapsed": false
   },
   "outputs": [],
   "source": [
    "env_con_sum_groupby = env_con_sum.groupby(['env_con_sum_grouping'])[['lower_conf_interval']].agg(['count', 'mean','std']).reset_index()\n",
    "env_con_sum_groupby.sort_values('env_con_sum_grouping')"
   ]
  },
  {
   "cell_type": "code",
   "execution_count": null,
   "metadata": {
    "collapsed": false
   },
   "outputs": [],
   "source": [
    "env_con = env_con_sum_groupby['env_con_sum_grouping']\n",
    "env_con_qtrly_roi = env_con_sum_groupby['lower_conf_interval']['mean']\n",
    "annual_view = pd.concat([env_con, env_con_qtrly_roi], axis=1).reset_index()\n",
    "annual_view.columns = ['index','env_con_sum_grouping', 'low_quarterly_estimate_roi']\n",
    "annual_view"
   ]
  },
  {
   "cell_type": "markdown",
   "metadata": {},
   "source": [
    "Finally, we have environmental concerns. In this one, the zero category is WAY bigger than the other categories. We could take a sample of this to alleviate that, if we wanted to. "
   ]
  },
  {
   "cell_type": "code",
   "execution_count": null,
   "metadata": {
    "collapsed": false
   },
   "outputs": [],
   "source": [
    "f, ((ax1, ax2), (ax3, ax4)) = plt.subplots(2, 2, sharex='col', sharey='row')\n",
    "f.suptitle('ESG Sums Plotted Against Returns')\n",
    "ax1.plot(emp_str_qtrly_roi)\n",
    "ax2.plot(emp_con_qtrly_roi)\n",
    "ax3.plot(env_str_qtrly_roi)\n",
    "ax4.plot(env_con_qtrly_roi)"
   ]
  },
  {
   "cell_type": "markdown",
   "metadata": {},
   "source": [
    "How fascinating. No clear trend in stock prices on the strengths categories, but higher concern ratings for environmental and employment practices correlate negatively with stock performance."
   ]
  },
  {
   "cell_type": "markdown",
   "metadata": {
    "collapsed": true
   },
   "source": [
    "### Sixth, we determine what our results could mean."
   ]
  },
  {
   "cell_type": "markdown",
   "metadata": {},
   "source": [
    "OK friends, it's time to figure out what our data means, or rather, whether it means anything at all with respect to our question: do companies with higher str ESG scores and lower con ESG scores have lower stock returns than companies that perform more poorly on ESG metrics?"
   ]
  },
  {
   "cell_type": "markdown",
   "metadata": {},
   "source": [
    "First, let's calculate our confidence intervals for stock performance and determine if the stock performances for companies low ESG scores fall outside the confidence intervals for the stock performance of companies with high ESG scores."
   ]
  },
  {
   "cell_type": "code",
   "execution_count": null,
   "metadata": {
    "collapsed": true
   },
   "outputs": [],
   "source": [
    "import math \n",
    "from scipy.stats import t\n",
    "import numpy as np"
   ]
  },
  {
   "cell_type": "code",
   "execution_count": null,
   "metadata": {
    "collapsed": false
   },
   "outputs": [],
   "source": [
    "emp_str_sum_groupby"
   ]
  },
  {
   "cell_type": "code",
   "execution_count": null,
   "metadata": {
    "collapsed": false
   },
   "outputs": [],
   "source": [
    "labels=emp_str_sum_groupby['emp_str_sum_grouping'] \n",
    "sample_size = emp_str_sum_groupby['lower_conf_interval']['count']\n",
    "standard_deviation = emp_str_sum_groupby['lower_conf_interval']['std']\n",
    "mean = mean = emp_str_sum_groupby['lower_conf_interval']['mean']\n",
    "\n",
    "def confidence_interval_for_collection(sample_size=[], standard_deviation=[], mean=[], confidence=0.95):\n",
    "    degrees_freedom = [count - 1 for count in sample_size] \n",
    "    outlier_tails = (1.0 - confidence) / 2.0\n",
    "    confidence_collection = [outlier_tails for _ in sample_size]\n",
    "#     Why the HELL are the T-distribution values given as negative numbers??\n",
    "    t_distribution_number = [-1 * t.ppf(tails, df) for tails, df in zip(confidence_collection, degrees_freedom)]\n",
    "\n",
    "    step_1 = [std/math.sqrt(count) for std, count in zip(standard_deviation, sample_size)]\n",
    "    step_2 = [step * t for step, t in zip(step_1, t_distribution_number)]\n",
    "\n",
    "    low_end = [mean_num - step_num for mean_num, step_num in zip(mean, step_2)]\n",
    "    high_end = [mean_num + step_num for mean_num, step_num in zip(mean, step_2)]\n",
    "\n",
    "    return low_end, high_end\n",
    "                                    \n",
    "low_end, high_end = confidence_interval_for_collection(sample_size, standard_deviation, mean)\n",
    "emp_str_confidence_interval_data = pd.concat([labels, sample_size, standard_deviation, mean], axis=1)\n",
    "emp_str_confidence_interval_data['.95 confidence level min'] = low_end\n",
    "emp_str_confidence_interval_data['.95 confidence level max'] = high_end\n",
    "emp_str_confidence_interval_data"
   ]
  },
  {
   "cell_type": "code",
   "execution_count": null,
   "metadata": {
    "collapsed": false
   },
   "outputs": [],
   "source": [
    "labels=emp_con_sum_groupby['emp_con_sum_grouping'] \n",
    "sample_size = emp_con_sum_groupby['lower_conf_interval']['count']\n",
    "standard_deviation = emp_con_sum_groupby['lower_conf_interval']['std']\n",
    "mean = mean = emp_con_sum_groupby['lower_conf_interval']['mean']\n",
    " \n",
    "low_end, high_end = confidence_interval_for_collection(sample_size, standard_deviation, mean)\n",
    "emp_con_confidence_interval_data = pd.concat([labels, sample_size, standard_deviation, mean], axis=1)\n",
    "emp_con_confidence_interval_data['.95 confidence level min'] = low_end\n",
    "emp_con_confidence_interval_data['.95 confidence level max'] = high_end\n",
    "emp_con_confidence_interval_data"
   ]
  },
  {
   "cell_type": "code",
   "execution_count": null,
   "metadata": {
    "collapsed": false
   },
   "outputs": [],
   "source": [
    "labels=env_str_sum_groupby['env_str_sum_grouping'] \n",
    "sample_size = env_str_sum_groupby['lower_conf_interval']['count']\n",
    "standard_deviation = env_str_sum_groupby['lower_conf_interval']['std']\n",
    "mean = mean = env_str_sum_groupby['lower_conf_interval']['mean']\n",
    " \n",
    "low_end, high_end = confidence_interval_for_collection(sample_size, standard_deviation, mean)\n",
    "env_str_confidence_interval_data = pd.concat([labels, sample_size, standard_deviation, mean], axis=1)\n",
    "env_str_confidence_interval_data['.95 confidence level min'] = low_end\n",
    "env_str_confidence_interval_data['.95 confidence level max'] = high_end\n",
    "env_str_confidence_interval_data"
   ]
  },
  {
   "cell_type": "code",
   "execution_count": null,
   "metadata": {
    "collapsed": false
   },
   "outputs": [],
   "source": [
    "labels=env_con_sum_groupby['env_con_sum_grouping'] \n",
    "sample_size = env_con_sum_groupby['lower_conf_interval']['count']\n",
    "standard_deviation = env_con_sum_groupby['lower_conf_interval']['std']\n",
    "mean = mean = env_con_sum_groupby['lower_conf_interval']['mean']\n",
    " \n",
    "low_end, high_end = confidence_interval_for_collection(sample_size, standard_deviation, mean)\n",
    "env_con_confidence_interval_data = pd.concat([labels, sample_size, standard_deviation, mean], axis=1)\n",
    "env_con_confidence_interval_data['.95 confidence level min'] = low_end\n",
    "env_con_confidence_interval_data['.95 confidence level max'] = high_end\n",
    "env_con_confidence_interval_data"
   ]
  },
  {
   "cell_type": "markdown",
   "metadata": {},
   "source": [
    "In all four cases, there is significant overlap between the confidence intervals for the stock performances of the companies with the lowest and the highest ESG scores. That is, we can't be confident at all that stocks from the high ESG score groups will have higher or lower returns than the stocks from the low ESG score groups."
   ]
  },
  {
   "cell_type": "markdown",
   "metadata": {},
   "source": [
    "But wait! That doesn't necessarily mean that there is no meaningful difference. The confidence intervals can overlap for two series of points whose data _still_ has a meaningful difference. To determine whether it does, we need to perform additional significance testing—in this case, a _t test_. \n",
    "\n",
    "[How to do the independent samples t test](https://www.youtube.com/watch?v=jyoO4i8yUag)"
   ]
  },
  {
   "cell_type": "code",
   "execution_count": null,
   "metadata": {
    "collapsed": true
   },
   "outputs": [],
   "source": [
    "def t_test_for(num_samples_1, standard_deviation_1, mean1, num_samples_2, standard_deviation_2, mean2, confidence=0.95):\n",
    "  alpha = 1 - confidence\n",
    "  total_degrees_freedom = num_samples_1 + num_samples_2 - 2\n",
    "\n",
    "  t_distribution_number = -1 * t.ppf(alpha, total_degrees_freedom)\n",
    "\n",
    "  degrees_freedom_1 = num_samples_1 - 1\n",
    "  degrees_freedom_2 = num_samples_2 - 1\n",
    "  sum_of_squares_1 = (standard_deviation_1 ** 2) * degrees_freedom_1\n",
    "  sum_of_squares_2 = (standard_deviation_2 ** 2) * degrees_freedom_2\n",
    "\n",
    "  combined_variance = (sum_of_squares_1 + sum_of_squares_2) / (degrees_freedom_1 + degrees_freedom_2)\n",
    "  first_dividend_addend = combined_variance/float(num_samples_1)\n",
    "  second_dividend_addend = combined_variance/float(num_samples_2)\n",
    "\n",
    "  denominator = math.sqrt(first_dividend_addend + second_dividend_addend)\n",
    "  numerator = mean1 - mean2\n",
    "  t_value = float(numerator)/float(denominator)\n",
    "\n",
    "  accept_null_hypothesis = abs(t_value) < abs(t_distribution_number) #results are not significant\n",
    "\n",
    "  return accept_null_hypothesis, t_value           "
   ]
  },
  {
   "cell_type": "markdown",
   "metadata": {
    "collapsed": false
   },
   "source": [
    "We have written a method that will tell us, firstly, whether to accept or reject the _null hypothesis_, which assumes no meaningful difference between the two sets of data we want to compare. I have named that output 'accept_null_hypothesis' because I don't love the ubiquitous use of the confounding phrase 'reject the null hypothesis' in scientifi inquiry. It's a double negative (_reject_ the _absence_ of meaningful difference), which adds an unnecessary additional piece of mental acrobatics to the (already frequently herculean) task of determining what, exactly, the scientists are trying to say in their conclusion paragraph.\n",
    "\n",
    "We are going with _accept_ the _absence of_ meaningful difference as the variable name for two reasons. First of all, we remove the double negative this way. Second of all, accepting the null hypothesis is (or should be) the outcome of  the vast majority of scientific inquiry. Scientists, collectively, test a _whole bunch_ of stuff to see what has an effect. Most of the things tried, it turns out, don't have that effect. So our `accept_null_hypothesis` value will usually be true. When it's false, we should sit up and pay attention."
   ]
  },
  {
   "cell_type": "code",
   "execution_count": null,
   "metadata": {
    "collapsed": false
   },
   "outputs": [],
   "source": [
    "n1 = emp_str_confidence_interval_data['count'][0]\n",
    "std1 = emp_str_confidence_interval_data['std'][0]\n",
    "mean1 = emp_str_confidence_interval_data['mean'][0]\n",
    "\n",
    "n2 = emp_str_confidence_interval_data['count'][6]\n",
    "std2 = emp_str_confidence_interval_data['std'][6]\n",
    "mean2 = emp_str_confidence_interval_data['mean'][6]\n",
    "\n",
    "accept_null_hypothesis, t_value = t_test_for(n1, std1, mean1, n2, std2, mean2)\n",
    "print(accept_null_hypothesis)\n",
    "print(t_value)"
   ]
  },
  {
   "cell_type": "code",
   "execution_count": null,
   "metadata": {
    "collapsed": false
   },
   "outputs": [],
   "source": [
    "n1 = emp_con_confidence_interval_data['count'][0]\n",
    "std1 = emp_con_confidence_interval_data['std'][0]\n",
    "mean1 = emp_con_confidence_interval_data['mean'][0]\n",
    "\n",
    "n2 = emp_con_confidence_interval_data['count'][3]\n",
    "std2 = emp_con_confidence_interval_data['std'][3]\n",
    "mean2 = emp_con_confidence_interval_data['mean'][3]\n",
    "\n",
    "accept_null_hypothesis, t_value = t_test_for(n1, std1, mean1, n2, std2, mean2)\n",
    "print(accept_null_hypothesis)\n",
    "print(t_value)"
   ]
  },
  {
   "cell_type": "code",
   "execution_count": null,
   "metadata": {
    "collapsed": false
   },
   "outputs": [],
   "source": [
    "n1 = env_str_confidence_interval_data['count'][0]\n",
    "std1 = env_str_confidence_interval_data['std'][0]\n",
    "mean1 = env_str_confidence_interval_data['mean'][0]\n",
    "\n",
    "n2 = env_str_confidence_interval_data['count'][3]\n",
    "std2 = env_str_confidence_interval_data['std'][3]\n",
    "mean2 = env_str_confidence_interval_data['mean'][3]\n",
    "\n",
    "accept_null_hypothesis, t_value = t_test_for(n1, std1, mean1, n2, std2, mean2)\n",
    "print(accept_null_hypothesis)\n",
    "print(t_value)"
   ]
  },
  {
   "cell_type": "markdown",
   "metadata": {},
   "source": [
    "How about that! So var, accepting the null hypothesis everywhere. It appears that we cannot meaninfgully separate the stock performance of companies on either end of the spectrum for each of these ESG scores."
   ]
  },
  {
   "cell_type": "code",
   "execution_count": null,
   "metadata": {
    "collapsed": false
   },
   "outputs": [],
   "source": [
    "n1 = env_con_confidence_interval_data['count'][0]\n",
    "std1 = env_con_confidence_interval_data['std'][0]\n",
    "mean1 = env_con_confidence_interval_data['mean'][0]\n",
    "\n",
    "n2 = env_con_confidence_interval_data['count'][7]\n",
    "std2 = env_con_confidence_interval_data['std'][7]\n",
    "mean2 = env_con_confidence_interval_data['mean'][7]\n",
    "\n",
    "accept_null_hypothesis, t_value = t_test_for(n1, std1, mean1, n2, std2, mean2)\n",
    "print(accept_null_hypothesis)\n",
    "print(t_value)"
   ]
  },
  {
   "cell_type": "markdown",
   "metadata": {},
   "source": [
    "Ah! But check out this one! It just so happens that companies that raise a lot of environmental concerns, as measured by ESG scores, have _meaningfully worse_ stock performances than companies that do not."
   ]
  },
  {
   "cell_type": "markdown",
   "metadata": {
    "collapsed": true
   },
   "source": [
    "#### Conclusion\n",
    "\n",
    "On this pass, we have taken a much more thorough look at our data with respect to how well it approximates the real world and how certain we are about that approximation. \n",
    "\n",
    "This did not mean tacking on a test for statistical significance at the end: it meant rethinking our analysis from the very beginning, including _what our target variable would be_ (previously extrapolated annual roi, now back to mean quarterly roi) and also _how we would represent it_ (with the bottom end of the confidence interval instead of the mean itself). \n",
    "\n",
    "It also meant checking our results more thoroughly along the way, identifying unrealistic values in the data, understanding why those values were what they were, and replacing them with values that better approximate reality. \n",
    "\n",
    "Finally, it meant conducting a t test rather than eyeballing the results. \n",
    "\n",
    "The result here provides an excellent example of the difference between how data might be interpreted or perceived versus what it really represents. When we use the bottom of the confidence intervals, we're looking at a _lot_ of _losses_ in shareholder value. It's important to note that this isn't really what happened. It is, more accurately, a statistically derived worst-case scenario for a company that did everything that a given example company did, based on the metrics we have about how that company actually did. That is _not useful_ for predicting what the stock returns for the example company will be in the future (fun fact: trying to predict stock returns in general is not that useful, as straight-up index matching outperforms the vast majority of shrewder, prediction-based investment strategies in the long term. I don't miss our loss of predictive value because there wasn't much demonstrated value there to begin with.)\n",
    "\n",
    "At any rate, what it _is_ useful for is accurately representing the fact that there is a lot we do not know and attempting to account for that in a comparison of stock returns relative to ESG ratings. We're not trying to predict returns by company: we're trying to determine if companies with favorable ESG scores, in aggregate, underperform on the stock market relative to companies with unfavorable ESG scores. For this, our data is useful.\n",
    "\n",
    "And, as we've established, we don't see in this analysis a meaningful difference in most cases. In the one case where we do see a meaningful difference, the companies with favorable ESG scores are in fact outperforming the companies with unfavorable ESG scores. All of this bodes well for the _application_ question—can I create a socially conscious investment portfolio without sacrificing returns on my investment?\n",
    "\n",
    "There's more to look at to get a more definitive answer to this question. But so far, what we're seeing points to _yes_. "
   ]
  },
  {
   "cell_type": "markdown",
   "metadata": {},
   "source": [
    "#### Additional Notes\n",
    "\n",
    "While I am much happier with our process in this run of the notebook, I am highly dissatisfied with the state of the code. It's very scripty, parts of it feel repetitive, and it all has to be run in order because I reused variable names. I would call the work up to this point an _exploration phase_. If I were to ship this work for any kind of reuse, I'd like it to look nothing like this. Maybe we'll make that a follow-up post later about this notebook, or maybe we'll focus more on that in our next note book series."
   ]
  },
  {
   "cell_type": "code",
   "execution_count": null,
   "metadata": {
    "collapsed": true
   },
   "outputs": [],
   "source": []
  }
 ],
 "metadata": {
  "kernelspec": {
   "display_name": "Python 3",
   "language": "python",
   "name": "python3"
  },
  "language_info": {
   "codemirror_mode": {
    "name": "ipython",
    "version": 3
   },
   "file_extension": ".py",
   "mimetype": "text/x-python",
   "name": "python",
   "nbconvert_exporter": "python",
   "pygments_lexer": "ipython3",
   "version": "3.6.1"
  }
 },
 "nbformat": 4,
 "nbformat_minor": 2
}
