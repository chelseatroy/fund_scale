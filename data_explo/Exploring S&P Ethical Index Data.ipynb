{
 "cells": [
  {
   "cell_type": "markdown",
   "metadata": {},
   "source": [
    "# Millenials and Investment: an Ongoing Exploration\n",
    "\n",
    "In case you haven't heard, [millenials are killing everything](http://www.businessinsider.com/millennials-are-killing-list-2017-8/#diamonds-12) from diamonds to department stores to designer crap to grocery chains.\n",
    "\n",
    "Why? Sure, the recession had an impact. But also, millenials pay more attention to ethics than many multinational corporations bargain for. They cite the blood diamond trade as a major reason to spring for non-traditional engagement rings. They opt for grocery providers that can tell them where their food is coming from and under what conditions it was produced. They're ditching the fast fashion industry for higher-priced items purchased secondhand on sites like Poshmark and ThreadUp. \n",
    "\n",
    "And as millenials reach the age where they might accrue some savings, it makes sense that they would care about where that is going, too. In addition to millenial attendance at the NoDAPL protests, we saw thousands of millenials divest from Western Union, Bank of America, and other banks that loaned money to the project. Maybe megacorps won't change their tunes because a few thousand people stood in a field to get mowed down by water cannons, but they're more likely to sit up and listen when those same people take their hard-earned doll hairs to another playhouse.\n",
    "\n",
    "So we see that millenials are surveying their options to spend and save according to their values. What about investing? Any personal finance 101 that isn't taught by a financial advisor will recommend a low cost index as the place to stick extra money so it can grow with the market. Most index funds, including the most recommended one (Vanguard), decide their investments via index-matching: matching their holdings to the S&P500 by market cap, with no other variables. Thing is, plenty of investors are expressing interest in taking ethical considerations into account. Some portfolios do this by blanket blocking investments in certain industries like tobacco or porn. Other more advanced optsions, like Betterment's AutoSRI portfolio, use actual ESG data to determine where they invest the money. There isn't (yet) a fully customizable option to allow folks to automatically invest their funds based on a checklist of their individual values. For a while, I've thought about building a toy version of what that might look like. \n",
    "\n",
    "When I talk about the idea with friends and relatives, I get the following objection: 'What about the returns?' Touche. Nobody wants to lose out on their potential earnings. At first, I figured I'd build a tolerance into the system that allowed investors to say 'These are my values, but please don't invest in a way that will trail general market performance by more than x percent.' The algorithm would then predict stock performance for each company, somehow blend that with ESG rating, and come up with a combined weight for divvying up investment money.\n",
    "\n",
    "Before I build that, though, I need to test the assumption that high ESG ratings *do* correlate negatively with returns. If they don't, there's no need for the tolerance measure in the first place.\n",
    "\n",
    "I'm not the first person to run correlations along these lines. Dorfleitner, Utz, and Wimmer published a paper on this just last year. [Their analysis](http://www.tandfonline.com/doi/full/10.1080/20430795.2017.1403272?scroll=top&needAccess=true) suggests that higher corporate social responsibility ratings *increase* returns over a long period of time (\"long\" being a 12 year period from 2002-2014). They even identify three specific areas that correlate with higher than average returns: emission and resource reduction, workforce, and society. So in my exploration, I'll dig into some specific CSR breakdowns with the data I have on S&P 500 companies. "
   ]
  },
  {
   "cell_type": "code",
   "execution_count": 1,
   "metadata": {
    "collapsed": false
   },
   "outputs": [],
   "source": [
    "import pandas as pd\n",
    "import numpy as np"
   ]
  },
  {
   "cell_type": "markdown",
   "metadata": {},
   "source": [
    "## Correlating KLD ESG Ratings to Stock Performance, 1990-2005\n",
    "\n",
    "Let's determine whether we notice any correlation between companies' environmental, social, and governmental ratings and their stock performance. \n",
    "\n",
    "### First, we pull in the ESG data. \n",
    "\n",
    "These come from KLD and are now distributed by MSGI. I pulled them from an academic database. Don't rerun this notebook because I didn't push the actual data to Github, on account of it is large and on account of both data providers ask corporations to pay for the data. So I'm not going to undermine that."
   ]
  },
  {
   "cell_type": "code",
   "execution_count": 2,
   "metadata": {
    "collapsed": true
   },
   "outputs": [],
   "source": [
    "y91 = pd.read_excel('../stockproject/12231046.1990-1999.stats/1991 HistoricalSpreadsheet_STATS.xls')\n",
    "y92 = pd.read_excel('../stockproject/12231046.1990-1999.stats/1992 HistoricalSpreadsheet_STATS.xls')\n",
    "y93 = pd.read_excel('../stockproject/12231046.1990-1999.stats/1993 HistoricalSpreadsheet_STATS.xls')\n",
    "y94 = pd.read_excel('../stockproject/12231046.1990-1999.stats/1994 HistoricalSpreadsheet_STATS.xls')\n",
    "y95 = pd.read_excel('../stockproject/12231046.1990-1999.stats/1995 HistoricalSpreadsheet_STATS.xls')\n",
    "y96 = pd.read_excel('../stockproject/12231046.1990-1999.stats/1996 HistoricalSpreadsheet_STATS.xls')\n",
    "y97 = pd.read_excel('../stockproject/12231046.1990-1999.stats/1997 HistoricalSpreadsheet_STATS.xls')\n",
    "y98 = pd.read_excel('../stockproject/12231046.1990-1999.stats/1998 HistoricalSpreadsheet_STATS.xls')\n",
    "y99 = pd.read_excel('../stockproject/12231046.1990-1999.stats/1999 HistoricalSpreadsheet_STATS.xls')\n",
    "\n",
    "nineties = [y91, y92, y93, y94, y95, y96, y97, y98, y99]"
   ]
  },
  {
   "cell_type": "code",
   "execution_count": 3,
   "metadata": {
    "collapsed": false
   },
   "outputs": [],
   "source": [
    "y00 = pd.read_excel('../stockproject/12231046.2000-2009.stats/2000 HistoricalSpreadsheet_STATS.xls')\n",
    "y01 = pd.read_excel('../stockproject/12231046.2000-2009.stats/2001 HistoricalSpreadsheet_STATS.xls')\n",
    "y02 = pd.read_excel('../stockproject/12231046.2000-2009.stats/2002 HistoricalSpreadsheet_STATS.xls')\n",
    "y03 = pd.read_excel('../stockproject/12231046.2000-2009.stats/2003 HistoricalSpreadsheet_STATS.xls')\n",
    "y04 = pd.read_excel('../stockproject/12231046.2000-2009.stats/2004 HistoricalSpreadsheet_STATS.xls')\n",
    "y05 = pd.read_excel('../stockproject/12231046.2000-2009.stats/2005 Historical Spreadsheet_STATS.xls') #wth KLD\n",
    "y06 = pd.read_excel('../stockproject/12231046.2000-2009.stats/2006 Historical Spreadsheet_STATS.xls')\n",
    "y07 = pd.read_excel('../stockproject/12231046.2000-2009.stats/2007 HistoricalSpreadsheet_STATS.xls')\n",
    "y08 = pd.read_excel('../stockproject/12231046.2000-2009.stats/2008 HistoricalSpreadsheet_STATS.xls')\n",
    "y09 = pd.read_excel('../stockproject/12231046.2000-2009.stats/2009 HistoricalSpreadsheet_STATS.xls')\n",
    "\n",
    "\n",
    "two_thousands = [y00, y01, y02, y03, y04]"
   ]
  },
  {
   "cell_type": "markdown",
   "metadata": {},
   "source": [
    "I wanted to run 1990-2009, but evidently starting in 2005 these spreadsheets no longer represent whether a company was in the S&P500 in the same way. That's okay: we can do this for a fifteen-year period wrangle in more data later if we would like to see a longer period of time.\n",
    "\n",
    "Now let's pull out the companies that belong to the S&P 500. We'll begin by examining their ESG scores on four metrics: employment policy strengths, employment policy concerns, environmental impact strengths, and environmental impact concerns. These companies get a score of zero (0) or one (1) each year on each of several sub-metrics. For example, employment policy strengths include specific scores for workplace safety, compensation, union management, et cetera. \n",
    "\n",
    "We're going to sum up all of the sub-metrics for each metric per company, and then we're going to sum that company's total scores in that metric across our fifteen year time span. We'll end up with a company score of cumulative strengths and concerns in employment and environmental practices over the course of the fifteen years. "
   ]
  },
  {
   "cell_type": "code",
   "execution_count": 4,
   "metadata": {
    "collapsed": false
   },
   "outputs": [
    {
     "data": {
      "text/plain": [
       "array(['ALC-con-#', 'ALC-con-A', 'ALC-con-X', 'BMS', 'CGOV-con-#',\n",
       "       'CGOV-con-B', 'CGOV-con-F', 'CGOV-con-G', 'CGOV-con-H',\n",
       "       'CGOV-con-I', 'CGOV-con-X', 'CGOV-str-#', 'CGOV-str-A',\n",
       "       'CGOV-str-C', 'CGOV-str-D', 'CGOV-str-E', 'CGOV-str-X', 'COM-con-#',\n",
       "       'COM-con-A', 'COM-con-B', 'COM-con-D', 'COM-con-X', 'COM-str-#',\n",
       "       'COM-str-A', 'COM-str-B', 'COM-str-C', 'COM-str-D', 'COM-str-F',\n",
       "       'COM-str-G', 'COM-str-X', 'CUSIP', 'Com-con-A', 'CompanyName',\n",
       "       'DIV-con-#', 'DIV-con-A', 'DIV-con-B', 'DIV-con-X', 'DIV-str-#',\n",
       "       'DIV-str-A', 'DIV-str-B', 'DIV-str-C', 'DIV-str-D', 'DIV-str-E',\n",
       "       'DIV-str-F', 'DIV-str-G', 'DIV-str-X', 'DS400', 'EMP-con-#',\n",
       "       'EMP-con-A', 'EMP-con-B', 'EMP-con-C', 'EMP-con-D', 'EMP-con-X',\n",
       "       'EMP-str-#', 'EMP-str-A', 'EMP-str-B', 'EMP-str-C', 'EMP-str-D',\n",
       "       'EMP-str-F', 'EMP-str-G', 'EMP-str-X', 'ENV-con-#', 'ENV-con-A',\n",
       "       'ENV-con-B', 'ENV-con-C', 'ENV-con-D', 'ENV-con-E', 'ENV-con-F',\n",
       "       'ENV-con-X', 'ENV-str-#', 'ENV-str-A', 'ENV-str-B', 'ENV-str-C',\n",
       "       'ENV-str-D', 'ENV-str-F', 'ENV-str-G', 'ENV-str-X', 'FIR-con-#',\n",
       "       'FIR-con-A', 'GAM-con-#', 'GAM-con-A', 'GAM-con-X', 'HUM-con-#',\n",
       "       'HUM-con-A', 'HUM-con-B', 'HUM-con-C', 'HUM-con-D', 'HUM-con-F',\n",
       "       'HUM-con-G', 'HUM-con-X', 'HUM-str-#', 'HUM-str-A', 'HUM-str-D',\n",
       "       'HUM-str-G', 'HUM-str-X', 'LCS', 'MIL-con-#', 'MIL-con-A',\n",
       "       'MIL-con-B', 'MIL-con-C', 'MIL-con-X', 'NUC-con-#', 'NUC-con-A',\n",
       "       'NUC-con-C', 'NUC-con-D', 'NUC-con-X', 'PRO-con-#', 'PRO-con-A',\n",
       "       'PRO-con-D', 'PRO-con-E', 'PRO-con-X', 'PRO-str-#', 'PRO-str-A',\n",
       "       'PRO-str-B', 'PRO-str-C', 'PRO-str-X', 'Russell1000', 'Russell2000',\n",
       "       'SP500', 'TOB-con-#', 'TOB-con-A', 'TOB-con-X', 'Ticker',\n",
       "       'emp_str_sum', 'emp_con_sum', 'env_str_sum', 'env_con_sum',\n",
       "       'alc_con_sum', 'cgov_str_sum', 'cgov_con_sum', 'com_str_sum',\n",
       "       'com_con_sum', 'div_str_sum', 'div_con_sum'], dtype=object)"
      ]
     },
     "execution_count": 4,
     "metadata": {},
     "output_type": "execute_result"
    }
   ],
   "source": [
    "twenty_years = nineties + two_thousands\n",
    "\n",
    "def filter_500(df):\n",
    "    return df[df['SP500'] == True]\n",
    "\n",
    "sp500_90s = []    \n",
    "for data in twenty_years:\n",
    "  sp500_90s.append(filter_500(data))\n",
    "\n",
    "def aggregate_columns_for(category, dataframe):\n",
    "    relevant_columns = [column_name for column_name in dataframe.columns.values if column_name.startswith(category)]\n",
    "    return dataframe[relevant_columns].sum(axis=1)\n",
    "        \n",
    "\n",
    "aggregate_data = pd.concat(sp500_90s)\n",
    "aggregate_data['emp_str_sum'] = aggregate_columns_for('EMP-str', aggregate_data)\n",
    "aggregate_data['emp_con_sum'] = aggregate_columns_for('EMP-con', aggregate_data)\n",
    "aggregate_data['env_str_sum'] = aggregate_columns_for('ENV-str', aggregate_data)\n",
    "aggregate_data['env_con_sum'] = aggregate_columns_for('ENV-con', aggregate_data)\n",
    "\n",
    "aggregate_data['alc_con_sum'] = aggregate_columns_for('ALC-con', aggregate_data)\n",
    "\n",
    "aggregate_data['cgov_str_sum'] = aggregate_columns_for('CGOV-str', aggregate_data)\n",
    "aggregate_data['cgov_con_sum'] = aggregate_columns_for('CGOV-con', aggregate_data)\n",
    "\n",
    "aggregate_data['com_str_sum'] = aggregate_columns_for('COM-str', aggregate_data)\n",
    "aggregate_data['com_con_sum'] = aggregate_columns_for('COM-con', aggregate_data)\n",
    "\n",
    "aggregate_data['div_str_sum'] = aggregate_columns_for('DIV-str', aggregate_data)\n",
    "aggregate_data['div_con_sum'] = aggregate_columns_for('DIV-con', aggregate_data)\n",
    "\n",
    "\n",
    "aggregate_data.columns.values"
   ]
  },
  {
   "cell_type": "markdown",
   "metadata": {},
   "source": [
    "OK, so here's our data. Let's take a look at this data and make sure we're getting what we want: a sum of the ESG scores on a company-by-company basis."
   ]
  },
  {
   "cell_type": "code",
   "execution_count": 5,
   "metadata": {
    "collapsed": false
   },
   "outputs": [],
   "source": [
    "def sum_scores_for(dataframe, esg_marker):\n",
    "    grouping = dataframe.groupby(['Ticker'])[esg_marker].sum()\n",
    "    return pd.DataFrame({esg_marker : grouping}).reset_index()\n",
    "\n",
    "esg_markers = [\n",
    "    'emp_str_sum', \n",
    "    'emp_con_sum', \n",
    "    'env_str_sum', \n",
    "    'env_con_sum', \n",
    "    'alc_con_sum', \n",
    "    'cgov_str_sum', \n",
    "    'cgov_con_sum', \n",
    "    'com_str_sum',\n",
    "    'com_con_sum',\n",
    "    'div_str_sum',\n",
    "    'div_con_sum'\n",
    "] \n",
    "\n",
    "def aggregate_sums_for(esg_markers):\n",
    "    esg_marker_data = sum_scores_for(aggregate_data, esg_markers[0])\n",
    "\n",
    "    for esg_marker in esg_markers[1::]:\n",
    "        esg_marker_data[esg_marker] = sum_scores_for(aggregate_data, esg_marker)[esg_marker]\n",
    "    \n",
    "    return esg_marker_data\n",
    "        \n",
    "esg_marker_data = aggregate_sums_for(esg_markers)"
   ]
  },
  {
   "cell_type": "markdown",
   "metadata": {},
   "source": [
    "Ah, these sums look like what we would expect to see!"
   ]
  },
  {
   "cell_type": "code",
   "execution_count": 6,
   "metadata": {
    "collapsed": false
   },
   "outputs": [
    {
     "data": {
      "text/html": [
       "<div>\n",
       "<table border=\"1\" class=\"dataframe\">\n",
       "  <thead>\n",
       "    <tr style=\"text-align: right;\">\n",
       "      <th></th>\n",
       "      <th>Ticker</th>\n",
       "      <th>emp_str_sum</th>\n",
       "      <th>emp_con_sum</th>\n",
       "      <th>env_str_sum</th>\n",
       "      <th>env_con_sum</th>\n",
       "      <th>alc_con_sum</th>\n",
       "      <th>cgov_str_sum</th>\n",
       "      <th>cgov_con_sum</th>\n",
       "      <th>com_str_sum</th>\n",
       "      <th>com_con_sum</th>\n",
       "      <th>div_str_sum</th>\n",
       "      <th>div_con_sum</th>\n",
       "    </tr>\n",
       "  </thead>\n",
       "  <tbody>\n",
       "    <tr>\n",
       "      <th>150</th>\n",
       "      <td>CAT</td>\n",
       "      <td>32</td>\n",
       "      <td>50</td>\n",
       "      <td>2</td>\n",
       "      <td>26</td>\n",
       "      <td>0</td>\n",
       "      <td>0</td>\n",
       "      <td>13</td>\n",
       "      <td>0</td>\n",
       "      <td>6</td>\n",
       "      <td>0</td>\n",
       "      <td>4</td>\n",
       "    </tr>\n",
       "    <tr>\n",
       "      <th>847</th>\n",
       "      <td>UNP</td>\n",
       "      <td>8</td>\n",
       "      <td>38</td>\n",
       "      <td>4</td>\n",
       "      <td>56</td>\n",
       "      <td>0</td>\n",
       "      <td>0</td>\n",
       "      <td>12</td>\n",
       "      <td>0</td>\n",
       "      <td>8</td>\n",
       "      <td>14</td>\n",
       "      <td>0</td>\n",
       "    </tr>\n",
       "    <tr>\n",
       "      <th>841</th>\n",
       "      <td>UIS</td>\n",
       "      <td>0</td>\n",
       "      <td>38</td>\n",
       "      <td>8</td>\n",
       "      <td>0</td>\n",
       "      <td>0</td>\n",
       "      <td>0</td>\n",
       "      <td>6</td>\n",
       "      <td>2</td>\n",
       "      <td>18</td>\n",
       "      <td>28</td>\n",
       "      <td>1</td>\n",
       "    </tr>\n",
       "    <tr>\n",
       "      <th>501</th>\n",
       "      <td>LPX</td>\n",
       "      <td>2</td>\n",
       "      <td>38</td>\n",
       "      <td>16</td>\n",
       "      <td>52</td>\n",
       "      <td>0</td>\n",
       "      <td>0</td>\n",
       "      <td>7</td>\n",
       "      <td>0</td>\n",
       "      <td>0</td>\n",
       "      <td>8</td>\n",
       "      <td>0</td>\n",
       "    </tr>\n",
       "    <tr>\n",
       "      <th>649</th>\n",
       "      <td>PD</td>\n",
       "      <td>0</td>\n",
       "      <td>35</td>\n",
       "      <td>0</td>\n",
       "      <td>60</td>\n",
       "      <td>0</td>\n",
       "      <td>0</td>\n",
       "      <td>4</td>\n",
       "      <td>0</td>\n",
       "      <td>16</td>\n",
       "      <td>20</td>\n",
       "      <td>2</td>\n",
       "    </tr>\n",
       "  </tbody>\n",
       "</table>\n",
       "</div>"
      ],
      "text/plain": [
       "    Ticker  emp_str_sum  emp_con_sum  env_str_sum  env_con_sum  alc_con_sum  \\\n",
       "150    CAT           32           50            2           26            0   \n",
       "847    UNP            8           38            4           56            0   \n",
       "841    UIS            0           38            8            0            0   \n",
       "501    LPX            2           38           16           52            0   \n",
       "649     PD            0           35            0           60            0   \n",
       "\n",
       "     cgov_str_sum  cgov_con_sum  com_str_sum  com_con_sum  div_str_sum  \\\n",
       "150             0            13            0            6            0   \n",
       "847             0            12            0            8           14   \n",
       "841             0             6            2           18           28   \n",
       "501             0             7            0            0            8   \n",
       "649             0             4            0           16           20   \n",
       "\n",
       "     div_con_sum  \n",
       "150            4  \n",
       "847            0  \n",
       "841            1  \n",
       "501            0  \n",
       "649            2  "
      ]
     },
     "execution_count": 6,
     "metadata": {},
     "output_type": "execute_result"
    }
   ],
   "source": [
    "esg_marker_data.sort_values(by=['emp_con_sum'], ascending=False).head()"
   ]
  },
  {
   "cell_type": "markdown",
   "metadata": {},
   "source": [
    "### Second, we pull in stock performance data.\n",
    "\n",
    "This data contains stock returns by quarter for S&P500 companies dating back to 1979. We'll pull the columns for the '90s for now."
   ]
  },
  {
   "cell_type": "code",
   "execution_count": 7,
   "metadata": {
    "collapsed": true
   },
   "outputs": [],
   "source": [
    "price_data = pd.read_excel('../stockproject/Cleaned_Researcher_Dataset.xlsx')"
   ]
  },
  {
   "cell_type": "code",
   "execution_count": 8,
   "metadata": {
    "collapsed": false
   },
   "outputs": [
    {
     "data": {
      "text/html": [
       "<div>\n",
       "<table border=\"1\" class=\"dataframe\">\n",
       "  <thead>\n",
       "    <tr style=\"text-align: right;\">\n",
       "      <th></th>\n",
       "      <th>Ticker</th>\n",
       "      <th>Company Name</th>\n",
       "      <th>1989-12-31 00:00:00</th>\n",
       "      <th>1990-03-31 00:00:00</th>\n",
       "      <th>1990-06-30 00:00:00</th>\n",
       "      <th>1990-09-30 00:00:00</th>\n",
       "      <th>1990-12-31 00:00:00</th>\n",
       "      <th>1991-03-31 00:00:00</th>\n",
       "      <th>1991-06-30 00:00:00</th>\n",
       "      <th>1991-09-30 00:00:00</th>\n",
       "      <th>...</th>\n",
       "      <th>2002-09-30 00:00:00</th>\n",
       "      <th>2002-12-31 00:00:00</th>\n",
       "      <th>2003-03-31 00:00:00</th>\n",
       "      <th>2003-06-30 00:00:00</th>\n",
       "      <th>2003-09-30 00:00:00</th>\n",
       "      <th>2003-12-31 00:00:00</th>\n",
       "      <th>2004-03-31 00:00:00</th>\n",
       "      <th>2004-06-30 00:00:00</th>\n",
       "      <th>2004-09-30 00:00:00</th>\n",
       "      <th>2004-12-31 00:00:00</th>\n",
       "    </tr>\n",
       "  </thead>\n",
       "  <tbody>\n",
       "    <tr>\n",
       "      <th>1</th>\n",
       "      <td>A</td>\n",
       "      <td>Agilent Technologies Inc.</td>\n",
       "      <td>NaN</td>\n",
       "      <td>NaN</td>\n",
       "      <td>NaN</td>\n",
       "      <td>NaN</td>\n",
       "      <td>NaN</td>\n",
       "      <td>NaN</td>\n",
       "      <td>NaN</td>\n",
       "      <td>NaN</td>\n",
       "      <td>...</td>\n",
       "      <td>13.06</td>\n",
       "      <td>17.96</td>\n",
       "      <td>13.15</td>\n",
       "      <td>19.55</td>\n",
       "      <td>22.11</td>\n",
       "      <td>29.24</td>\n",
       "      <td>31.63</td>\n",
       "      <td>29.28</td>\n",
       "      <td>21.57</td>\n",
       "      <td>24.1</td>\n",
       "    </tr>\n",
       "    <tr>\n",
       "      <th>2</th>\n",
       "      <td>AA</td>\n",
       "      <td>Alcoa Inc</td>\n",
       "      <td>75</td>\n",
       "      <td>64.75</td>\n",
       "      <td>63.75</td>\n",
       "      <td>62.63</td>\n",
       "      <td>57.63</td>\n",
       "      <td>65.5</td>\n",
       "      <td>67.5</td>\n",
       "      <td>63.88</td>\n",
       "      <td>...</td>\n",
       "      <td>19.3</td>\n",
       "      <td>22.78</td>\n",
       "      <td>19.38</td>\n",
       "      <td>25.5</td>\n",
       "      <td>26.16</td>\n",
       "      <td>38</td>\n",
       "      <td>34.69</td>\n",
       "      <td>33.03</td>\n",
       "      <td>33.59</td>\n",
       "      <td>31.42</td>\n",
       "    </tr>\n",
       "    <tr>\n",
       "      <th>3</th>\n",
       "      <td>AAL</td>\n",
       "      <td>American Airlines Group</td>\n",
       "      <td>NaN</td>\n",
       "      <td>NaN</td>\n",
       "      <td>NaN</td>\n",
       "      <td>NaN</td>\n",
       "      <td>NaN</td>\n",
       "      <td>NaN</td>\n",
       "      <td>NaN</td>\n",
       "      <td>NaN</td>\n",
       "      <td>...</td>\n",
       "      <td>NaN</td>\n",
       "      <td>NaN</td>\n",
       "      <td>NaN</td>\n",
       "      <td>NaN</td>\n",
       "      <td>NaN</td>\n",
       "      <td>NaN</td>\n",
       "      <td>NaN</td>\n",
       "      <td>NaN</td>\n",
       "      <td>NaN</td>\n",
       "      <td>NaN</td>\n",
       "    </tr>\n",
       "    <tr>\n",
       "      <th>4</th>\n",
       "      <td>AAL (Alex)</td>\n",
       "      <td>Alexander &amp; Alexander</td>\n",
       "      <td>30.63</td>\n",
       "      <td>26.75</td>\n",
       "      <td>24.38</td>\n",
       "      <td>17.88</td>\n",
       "      <td>23.13</td>\n",
       "      <td>26.25</td>\n",
       "      <td>22.5</td>\n",
       "      <td>20.88</td>\n",
       "      <td>...</td>\n",
       "      <td>NaN</td>\n",
       "      <td>NaN</td>\n",
       "      <td>NaN</td>\n",
       "      <td>NaN</td>\n",
       "      <td>NaN</td>\n",
       "      <td>NaN</td>\n",
       "      <td>NaN</td>\n",
       "      <td>NaN</td>\n",
       "      <td>NaN</td>\n",
       "      <td>NaN</td>\n",
       "    </tr>\n",
       "    <tr>\n",
       "      <th>5</th>\n",
       "      <td>AAP</td>\n",
       "      <td>Advance Auto Parts Inc</td>\n",
       "      <td>NaN</td>\n",
       "      <td>NaN</td>\n",
       "      <td>NaN</td>\n",
       "      <td>NaN</td>\n",
       "      <td>NaN</td>\n",
       "      <td>NaN</td>\n",
       "      <td>NaN</td>\n",
       "      <td>NaN</td>\n",
       "      <td>...</td>\n",
       "      <td>NaN</td>\n",
       "      <td>NaN</td>\n",
       "      <td>NaN</td>\n",
       "      <td>NaN</td>\n",
       "      <td>NaN</td>\n",
       "      <td>NaN</td>\n",
       "      <td>NaN</td>\n",
       "      <td>NaN</td>\n",
       "      <td>NaN</td>\n",
       "      <td>NaN</td>\n",
       "    </tr>\n",
       "  </tbody>\n",
       "</table>\n",
       "<p>5 rows × 63 columns</p>\n",
       "</div>"
      ],
      "text/plain": [
       "       Ticker               Company Name 1989-12-31 00:00:00  \\\n",
       "1           A  Agilent Technologies Inc.                 NaN   \n",
       "2          AA                  Alcoa Inc                  75   \n",
       "3         AAL    American Airlines Group                 NaN   \n",
       "4  AAL (Alex)      Alexander & Alexander               30.63   \n",
       "5         AAP     Advance Auto Parts Inc                 NaN   \n",
       "\n",
       "  1990-03-31 00:00:00 1990-06-30 00:00:00 1990-09-30 00:00:00  \\\n",
       "1                 NaN                 NaN                 NaN   \n",
       "2               64.75               63.75               62.63   \n",
       "3                 NaN                 NaN                 NaN   \n",
       "4               26.75               24.38               17.88   \n",
       "5                 NaN                 NaN                 NaN   \n",
       "\n",
       "  1990-12-31 00:00:00 1991-03-31 00:00:00 1991-06-30 00:00:00  \\\n",
       "1                 NaN                 NaN                 NaN   \n",
       "2               57.63                65.5                67.5   \n",
       "3                 NaN                 NaN                 NaN   \n",
       "4               23.13               26.25                22.5   \n",
       "5                 NaN                 NaN                 NaN   \n",
       "\n",
       "  1991-09-30 00:00:00         ...         2002-09-30 00:00:00  \\\n",
       "1                 NaN         ...                       13.06   \n",
       "2               63.88         ...                        19.3   \n",
       "3                 NaN         ...                         NaN   \n",
       "4               20.88         ...                         NaN   \n",
       "5                 NaN         ...                         NaN   \n",
       "\n",
       "  2002-12-31 00:00:00 2003-03-31 00:00:00 2003-06-30 00:00:00  \\\n",
       "1               17.96               13.15               19.55   \n",
       "2               22.78               19.38                25.5   \n",
       "3                 NaN                 NaN                 NaN   \n",
       "4                 NaN                 NaN                 NaN   \n",
       "5                 NaN                 NaN                 NaN   \n",
       "\n",
       "  2003-09-30 00:00:00 2003-12-31 00:00:00 2004-03-31 00:00:00  \\\n",
       "1               22.11               29.24               31.63   \n",
       "2               26.16                  38               34.69   \n",
       "3                 NaN                 NaN                 NaN   \n",
       "4                 NaN                 NaN                 NaN   \n",
       "5                 NaN                 NaN                 NaN   \n",
       "\n",
       "  2004-06-30 00:00:00 2004-09-30 00:00:00 2004-12-31 00:00:00  \n",
       "1               29.28               21.57                24.1  \n",
       "2               33.03               33.59               31.42  \n",
       "3                 NaN                 NaN                 NaN  \n",
       "4                 NaN                 NaN                 NaN  \n",
       "5                 NaN                 NaN                 NaN  \n",
       "\n",
       "[5 rows x 63 columns]"
      ]
     },
     "execution_count": 8,
     "metadata": {},
     "output_type": "execute_result"
    }
   ],
   "source": [
    "new_header = price_data.iloc[0] #grab the first row for the header\n",
    "content = price_data[1:] #take the data less the header row\n",
    "content.columns = new_header #set the header row as the df header\n",
    "content.head()\n",
    "\n",
    "tickers = content.iloc[:,0:2]\n",
    "tickers.columns = list(new_header)[0:2]\n",
    "\n",
    "dates = content.iloc[:,45:106]\n",
    "dates.columns = list(new_header)[45:106]\n",
    "\n",
    "result = pd.concat([tickers, dates], axis=1)\n",
    "result.head()"
   ]
  },
  {
   "cell_type": "markdown",
   "metadata": {},
   "source": [
    "### Third, we translate these stock prices into returns.\n",
    "\n",
    "I want a metric that I can use to compare all the companies that a) belonged to the S&P 500 and b) earned some kind of KLD scores during the 1990-2005 period. Some companies only belong to the S&P500 for a subset of the years in question. We want a metric that will not penalize companies based on having spent less time in the S&P500, so a cumulative score won't work for us. I decided to calculate quarterly returns based on the stock prices. This fairly compares each company's stock performance during the period that an index-matching ETF would have held it, however long or short that was.\n",
    "\n",
    "This is also nice because our mean function will only consider, for each company, those cells that have a number. So we don't have to do as much data skullduggery to get the equation functions to spit out something meaningful."
   ]
  },
  {
   "cell_type": "code",
   "execution_count": 9,
   "metadata": {
    "collapsed": false
   },
   "outputs": [
    {
     "name": "stderr",
     "output_type": "stream",
     "text": [
      "//anaconda/lib/python3.6/site-packages/ipykernel/__main__.py:26: SettingWithCopyWarning: \n",
      "A value is trying to be set on a copy of a slice from a DataFrame.\n",
      "Try using .loc[row_indexer,col_indexer] = value instead\n",
      "\n",
      "See the caveats in the documentation: http://pandas.pydata.org/pandas-docs/stable/indexing.html#indexing-view-versus-copy\n"
     ]
    },
    {
     "name": "stdout",
     "output_type": "stream",
     "text": [
      "End of dataframe reached\n"
     ]
    },
    {
     "data": {
      "text/html": [
       "<div>\n",
       "<table border=\"1\" class=\"dataframe\">\n",
       "  <thead>\n",
       "    <tr style=\"text-align: right;\">\n",
       "      <th></th>\n",
       "      <th>Ticker</th>\n",
       "      <th>Company Name</th>\n",
       "      <th>quarter_starting_12/31/1989_roi</th>\n",
       "      <th>quarter_starting_03/31/1990_roi</th>\n",
       "      <th>quarter_starting_06/30/1990_roi</th>\n",
       "      <th>quarter_starting_09/30/1990_roi</th>\n",
       "      <th>quarter_starting_12/31/1990_roi</th>\n",
       "      <th>quarter_starting_03/31/1991_roi</th>\n",
       "      <th>quarter_starting_06/30/1991_roi</th>\n",
       "      <th>quarter_starting_09/30/1991_roi</th>\n",
       "      <th>...</th>\n",
       "      <th>quarter_starting_06/30/2002_roi</th>\n",
       "      <th>quarter_starting_09/30/2002_roi</th>\n",
       "      <th>quarter_starting_12/31/2002_roi</th>\n",
       "      <th>quarter_starting_03/31/2003_roi</th>\n",
       "      <th>quarter_starting_06/30/2003_roi</th>\n",
       "      <th>quarter_starting_09/30/2003_roi</th>\n",
       "      <th>quarter_starting_12/31/2003_roi</th>\n",
       "      <th>quarter_starting_03/31/2004_roi</th>\n",
       "      <th>quarter_starting_06/30/2004_roi</th>\n",
       "      <th>quarter_starting_09/30/2004_roi</th>\n",
       "    </tr>\n",
       "  </thead>\n",
       "  <tbody>\n",
       "    <tr>\n",
       "      <th>1</th>\n",
       "      <td>A</td>\n",
       "      <td>Agilent Technologies Inc.</td>\n",
       "      <td>NaN</td>\n",
       "      <td>NaN</td>\n",
       "      <td>NaN</td>\n",
       "      <td>NaN</td>\n",
       "      <td>NaN</td>\n",
       "      <td>NaN</td>\n",
       "      <td>NaN</td>\n",
       "      <td>NaN</td>\n",
       "      <td>...</td>\n",
       "      <td>0.552220</td>\n",
       "      <td>1.375191</td>\n",
       "      <td>0.732183</td>\n",
       "      <td>1.486692</td>\n",
       "      <td>1.130946</td>\n",
       "      <td>1.322479</td>\n",
       "      <td>1.081737</td>\n",
       "      <td>0.925703</td>\n",
       "      <td>0.736680</td>\n",
       "      <td>1.117293</td>\n",
       "    </tr>\n",
       "    <tr>\n",
       "      <th>2</th>\n",
       "      <td>AA</td>\n",
       "      <td>Alcoa Inc</td>\n",
       "      <td>0.863333</td>\n",
       "      <td>0.984556</td>\n",
       "      <td>0.982431</td>\n",
       "      <td>0.920166</td>\n",
       "      <td>1.136561</td>\n",
       "      <td>1.030534</td>\n",
       "      <td>0.94637</td>\n",
       "      <td>1.007827</td>\n",
       "      <td>...</td>\n",
       "      <td>0.582202</td>\n",
       "      <td>1.180311</td>\n",
       "      <td>0.850746</td>\n",
       "      <td>1.315789</td>\n",
       "      <td>1.025882</td>\n",
       "      <td>1.452599</td>\n",
       "      <td>0.912895</td>\n",
       "      <td>0.952148</td>\n",
       "      <td>1.016954</td>\n",
       "      <td>0.935397</td>\n",
       "    </tr>\n",
       "    <tr>\n",
       "      <th>3</th>\n",
       "      <td>AAL</td>\n",
       "      <td>American Airlines Group</td>\n",
       "      <td>NaN</td>\n",
       "      <td>NaN</td>\n",
       "      <td>NaN</td>\n",
       "      <td>NaN</td>\n",
       "      <td>NaN</td>\n",
       "      <td>NaN</td>\n",
       "      <td>NaN</td>\n",
       "      <td>NaN</td>\n",
       "      <td>...</td>\n",
       "      <td>NaN</td>\n",
       "      <td>NaN</td>\n",
       "      <td>NaN</td>\n",
       "      <td>NaN</td>\n",
       "      <td>NaN</td>\n",
       "      <td>NaN</td>\n",
       "      <td>NaN</td>\n",
       "      <td>NaN</td>\n",
       "      <td>NaN</td>\n",
       "      <td>NaN</td>\n",
       "    </tr>\n",
       "    <tr>\n",
       "      <th>4</th>\n",
       "      <td>AAL (Alex)</td>\n",
       "      <td>Alexander &amp; Alexander</td>\n",
       "      <td>0.873327</td>\n",
       "      <td>0.911402</td>\n",
       "      <td>0.733388</td>\n",
       "      <td>1.293624</td>\n",
       "      <td>1.134890</td>\n",
       "      <td>0.857143</td>\n",
       "      <td>0.92800</td>\n",
       "      <td>0.981801</td>\n",
       "      <td>...</td>\n",
       "      <td>NaN</td>\n",
       "      <td>NaN</td>\n",
       "      <td>NaN</td>\n",
       "      <td>NaN</td>\n",
       "      <td>NaN</td>\n",
       "      <td>NaN</td>\n",
       "      <td>NaN</td>\n",
       "      <td>NaN</td>\n",
       "      <td>NaN</td>\n",
       "      <td>NaN</td>\n",
       "    </tr>\n",
       "    <tr>\n",
       "      <th>5</th>\n",
       "      <td>AAP</td>\n",
       "      <td>Advance Auto Parts Inc</td>\n",
       "      <td>NaN</td>\n",
       "      <td>NaN</td>\n",
       "      <td>NaN</td>\n",
       "      <td>NaN</td>\n",
       "      <td>NaN</td>\n",
       "      <td>NaN</td>\n",
       "      <td>NaN</td>\n",
       "      <td>NaN</td>\n",
       "      <td>...</td>\n",
       "      <td>NaN</td>\n",
       "      <td>NaN</td>\n",
       "      <td>NaN</td>\n",
       "      <td>NaN</td>\n",
       "      <td>NaN</td>\n",
       "      <td>NaN</td>\n",
       "      <td>NaN</td>\n",
       "      <td>NaN</td>\n",
       "      <td>NaN</td>\n",
       "      <td>NaN</td>\n",
       "    </tr>\n",
       "  </tbody>\n",
       "</table>\n",
       "<p>5 rows × 62 columns</p>\n",
       "</div>"
      ],
      "text/plain": [
       "       Ticker               Company Name  quarter_starting_12/31/1989_roi  \\\n",
       "1           A  Agilent Technologies Inc.                              NaN   \n",
       "2          AA                  Alcoa Inc                         0.863333   \n",
       "3         AAL    American Airlines Group                              NaN   \n",
       "4  AAL (Alex)      Alexander & Alexander                         0.873327   \n",
       "5         AAP     Advance Auto Parts Inc                              NaN   \n",
       "\n",
       "   quarter_starting_03/31/1990_roi  quarter_starting_06/30/1990_roi  \\\n",
       "1                              NaN                              NaN   \n",
       "2                         0.984556                         0.982431   \n",
       "3                              NaN                              NaN   \n",
       "4                         0.911402                         0.733388   \n",
       "5                              NaN                              NaN   \n",
       "\n",
       "   quarter_starting_09/30/1990_roi  quarter_starting_12/31/1990_roi  \\\n",
       "1                              NaN                              NaN   \n",
       "2                         0.920166                         1.136561   \n",
       "3                              NaN                              NaN   \n",
       "4                         1.293624                         1.134890   \n",
       "5                              NaN                              NaN   \n",
       "\n",
       "   quarter_starting_03/31/1991_roi  quarter_starting_06/30/1991_roi  \\\n",
       "1                              NaN                              NaN   \n",
       "2                         1.030534                          0.94637   \n",
       "3                              NaN                              NaN   \n",
       "4                         0.857143                          0.92800   \n",
       "5                              NaN                              NaN   \n",
       "\n",
       "   quarter_starting_09/30/1991_roi               ...                 \\\n",
       "1                              NaN               ...                  \n",
       "2                         1.007827               ...                  \n",
       "3                              NaN               ...                  \n",
       "4                         0.981801               ...                  \n",
       "5                              NaN               ...                  \n",
       "\n",
       "   quarter_starting_06/30/2002_roi  quarter_starting_09/30/2002_roi  \\\n",
       "1                         0.552220                         1.375191   \n",
       "2                         0.582202                         1.180311   \n",
       "3                              NaN                              NaN   \n",
       "4                              NaN                              NaN   \n",
       "5                              NaN                              NaN   \n",
       "\n",
       "   quarter_starting_12/31/2002_roi  quarter_starting_03/31/2003_roi  \\\n",
       "1                         0.732183                         1.486692   \n",
       "2                         0.850746                         1.315789   \n",
       "3                              NaN                              NaN   \n",
       "4                              NaN                              NaN   \n",
       "5                              NaN                              NaN   \n",
       "\n",
       "   quarter_starting_06/30/2003_roi  quarter_starting_09/30/2003_roi  \\\n",
       "1                         1.130946                         1.322479   \n",
       "2                         1.025882                         1.452599   \n",
       "3                              NaN                              NaN   \n",
       "4                              NaN                              NaN   \n",
       "5                              NaN                              NaN   \n",
       "\n",
       "   quarter_starting_12/31/2003_roi  quarter_starting_03/31/2004_roi  \\\n",
       "1                         1.081737                         0.925703   \n",
       "2                         0.912895                         0.952148   \n",
       "3                              NaN                              NaN   \n",
       "4                              NaN                              NaN   \n",
       "5                              NaN                              NaN   \n",
       "\n",
       "   quarter_starting_06/30/2004_roi  quarter_starting_09/30/2004_roi  \n",
       "1                         0.736680                         1.117293  \n",
       "2                         1.016954                         0.935397  \n",
       "3                              NaN                              NaN  \n",
       "4                              NaN                              NaN  \n",
       "5                              NaN                              NaN  \n",
       "\n",
       "[5 rows x 62 columns]"
      ]
     },
     "execution_count": 9,
     "metadata": {},
     "output_type": "execute_result"
    }
   ],
   "source": [
    "def quarter_return(start, end):\n",
    "    if start == 0 or end == 0:\n",
    "        return 0\n",
    "    return end / start\n",
    "\n",
    "#WARNING: This has to go column by column because the sequence in time matters.\n",
    "#Such an iterative operation takes longer than async-per-column pandas operations.\n",
    "#Expect this block of code to take several seconds to run.\n",
    "raw_stock_prices = result\n",
    "returns_df = raw_stock_prices[['Ticker', 'Company Name']]\n",
    "\n",
    "#We cannot easily index the columsn by name\n",
    "#because the column names are datetimes rather than strings,\n",
    "#so we use column index instead.\n",
    "for column_name in raw_stock_prices.iloc[:,2:]:\n",
    "    loc = raw_stock_prices.columns.get_loc(column_name)\n",
    "    this_column = raw_stock_prices.iloc[:,loc]\n",
    "    next_col = loc + 1\n",
    "    try:\n",
    "        next_column = raw_stock_prices.iloc[:, next_col]\n",
    "\n",
    "        temp_df = pd.concat([this_column, next_column], axis=1)\n",
    "        temp_df.columns = ['a', 'b']\n",
    "    \n",
    "        returns_df['quarter_starting_' + column_name.strftime('%m/%d/%Y') + '_roi'] = (\n",
    "        temp_df.apply(lambda row: quarter_return(row['a'], row['b']), axis=1))\n",
    "    except:\n",
    "        print('End of dataframe reached')\n",
    "\n",
    "returns_df.head()"
   ]
  },
  {
   "cell_type": "markdown",
   "metadata": {},
   "source": [
    "### Fourth, we combine the data into one dataframe.\n",
    "\n",
    "We find all the companies for which we have both stock price data and ESG data, and we put the information together."
   ]
  },
  {
   "cell_type": "code",
   "execution_count": 10,
   "metadata": {
    "collapsed": false
   },
   "outputs": [
    {
     "data": {
      "text/html": [
       "<div>\n",
       "<table border=\"1\" class=\"dataframe\">\n",
       "  <thead>\n",
       "    <tr style=\"text-align: right;\">\n",
       "      <th></th>\n",
       "      <th>Ticker</th>\n",
       "      <th>emp_str_sum</th>\n",
       "      <th>emp_con_sum</th>\n",
       "      <th>env_str_sum</th>\n",
       "      <th>env_con_sum</th>\n",
       "      <th>alc_con_sum</th>\n",
       "      <th>cgov_str_sum</th>\n",
       "      <th>cgov_con_sum</th>\n",
       "      <th>com_str_sum</th>\n",
       "      <th>com_con_sum</th>\n",
       "      <th>div_str_sum</th>\n",
       "      <th>div_con_sum</th>\n",
       "    </tr>\n",
       "  </thead>\n",
       "  <tbody>\n",
       "    <tr>\n",
       "      <th>0</th>\n",
       "      <td>A</td>\n",
       "      <td>16</td>\n",
       "      <td>16</td>\n",
       "      <td>0</td>\n",
       "      <td>0</td>\n",
       "      <td>0</td>\n",
       "      <td>3</td>\n",
       "      <td>5</td>\n",
       "      <td>8</td>\n",
       "      <td>0</td>\n",
       "      <td>19</td>\n",
       "      <td>0</td>\n",
       "    </tr>\n",
       "    <tr>\n",
       "      <th>1</th>\n",
       "      <td>AA</td>\n",
       "      <td>48</td>\n",
       "      <td>2</td>\n",
       "      <td>30</td>\n",
       "      <td>80</td>\n",
       "      <td>0</td>\n",
       "      <td>10</td>\n",
       "      <td>8</td>\n",
       "      <td>18</td>\n",
       "      <td>0</td>\n",
       "      <td>8</td>\n",
       "      <td>0</td>\n",
       "    </tr>\n",
       "    <tr>\n",
       "      <th>2</th>\n",
       "      <td>AAL</td>\n",
       "      <td>2</td>\n",
       "      <td>0</td>\n",
       "      <td>0</td>\n",
       "      <td>0</td>\n",
       "      <td>0</td>\n",
       "      <td>1</td>\n",
       "      <td>4</td>\n",
       "      <td>6</td>\n",
       "      <td>0</td>\n",
       "      <td>0</td>\n",
       "      <td>2</td>\n",
       "    </tr>\n",
       "    <tr>\n",
       "      <th>3</th>\n",
       "      <td>AAPL</td>\n",
       "      <td>16</td>\n",
       "      <td>14</td>\n",
       "      <td>4</td>\n",
       "      <td>0</td>\n",
       "      <td>0</td>\n",
       "      <td>4</td>\n",
       "      <td>7</td>\n",
       "      <td>22</td>\n",
       "      <td>8</td>\n",
       "      <td>38</td>\n",
       "      <td>8</td>\n",
       "    </tr>\n",
       "    <tr>\n",
       "      <th>4</th>\n",
       "      <td>ABC</td>\n",
       "      <td>0</td>\n",
       "      <td>2</td>\n",
       "      <td>0</td>\n",
       "      <td>0</td>\n",
       "      <td>0</td>\n",
       "      <td>0</td>\n",
       "      <td>2</td>\n",
       "      <td>0</td>\n",
       "      <td>0</td>\n",
       "      <td>2</td>\n",
       "      <td>0</td>\n",
       "    </tr>\n",
       "  </tbody>\n",
       "</table>\n",
       "</div>"
      ],
      "text/plain": [
       "  Ticker  emp_str_sum  emp_con_sum  env_str_sum  env_con_sum  alc_con_sum  \\\n",
       "0      A           16           16            0            0            0   \n",
       "1     AA           48            2           30           80            0   \n",
       "2    AAL            2            0            0            0            0   \n",
       "3   AAPL           16           14            4            0            0   \n",
       "4    ABC            0            2            0            0            0   \n",
       "\n",
       "   cgov_str_sum  cgov_con_sum  com_str_sum  com_con_sum  div_str_sum  \\\n",
       "0             3             5            8            0           19   \n",
       "1            10             8           18            0            8   \n",
       "2             1             4            6            0            0   \n",
       "3             4             7           22            8           38   \n",
       "4             0             2            0            0            2   \n",
       "\n",
       "   div_con_sum  \n",
       "0            0  \n",
       "1            0  \n",
       "2            2  \n",
       "3            8  \n",
       "4            0  "
      ]
     },
     "execution_count": 10,
     "metadata": {},
     "output_type": "execute_result"
    }
   ],
   "source": [
    "tickers = list(esg_marker_data[\"Ticker\"]) #get all the company tickers for which we have esg data\n",
    "prices_for_esg_companies = returns_df[returns_df[\"Ticker\"].isin(tickers)] #get the stock data from companies in that list\n",
    "esg_marker_data.head()"
   ]
  },
  {
   "cell_type": "code",
   "execution_count": 11,
   "metadata": {
    "collapsed": false
   },
   "outputs": [
    {
     "data": {
      "text/plain": [
       "array([16, 48,  2,  0, 22, 12, 18,  8,  6,  4, 28, 10, 20, 14, 36, 26, 30,\n",
       "       24,  1, 42, 32, 11, 44, 52, 38, 13, 43, 54,  9, 72, 55,  7, 34, 40,\n",
       "       60,  5, 25, 46, 58, 33, 50, 29,  3, 70, 62])"
      ]
     },
     "execution_count": 11,
     "metadata": {},
     "output_type": "execute_result"
    }
   ],
   "source": [
    "relevant_esgs = esg_marker_data[esg_marker_data[\"Ticker\"].isin(tickers)]\n",
    "relevant_esgs = relevant_esgs.fillna(0.0) #no esg score to zero esg score\n",
    "relevant_esgs['emp_str_sum'].unique()"
   ]
  },
  {
   "cell_type": "code",
   "execution_count": 12,
   "metadata": {
    "collapsed": false
   },
   "outputs": [],
   "source": [
    "all_data = pd.concat([relevant_esgs, prices_for_esg_companies.iloc[:,1:]], axis = 1) #put the esg and stock data in one dataframe\n",
    "all_data = all_data[np.isfinite(all_data['emp_str_sum'])]"
   ]
  },
  {
   "cell_type": "code",
   "execution_count": 13,
   "metadata": {
    "collapsed": false
   },
   "outputs": [
    {
     "data": {
      "text/plain": [
       "array([ 16.,  48.,   2.,   0.,  22.,  12.,  18.,   8.,   6.,   4.,  28.,\n",
       "        10.,  20.,  14.,  36.,  26.,  30.,  24.,   1.,  42.,  32.,  11.,\n",
       "        44.,  52.,  38.,  13.,  43.,  54.,   9.,  72.,  55.,   7.,  34.,\n",
       "        40.,  60.,   5.,  25.,  46.,  58.,  33.,  50.,  29.,   3.,  70.,\n",
       "        62.])"
      ]
     },
     "execution_count": 13,
     "metadata": {},
     "output_type": "execute_result"
    }
   ],
   "source": [
    "all_data['emp_str_sum'].unique() #making sure the list of EMP-str-sum values is the same before and after concatenation to ensure that all the esg data made it over"
   ]
  },
  {
   "cell_type": "markdown",
   "metadata": {},
   "source": [
    "### Fifth, we look at the data."
   ]
  },
  {
   "cell_type": "code",
   "execution_count": 14,
   "metadata": {
    "collapsed": false
   },
   "outputs": [],
   "source": [
    "import matplotlib.pyplot as plt\n",
    "import random\n",
    "import seaborn as sns\n",
    "import math\n",
    "from scipy.stats import t\n",
    "import numpy as np\n",
    "\n",
    "%matplotlib inline  "
   ]
  },
  {
   "cell_type": "markdown",
   "metadata": {},
   "source": [
    "Our research question, recall, is this: do companies with low aggregated ESG scores have better stock performance than companies with high aggregated ESG scores? \n",
    "\n",
    "We have so far calculated the return on investment of every stock, every quarter. We're not ready to use that data, though. If we use each return individually, we'll end up comparing each example (that is, each company) _multiple times_. Multiple comparisons in statistics gives you more opportunities to end up with false positives because it gives you more cracks at hitting that 5% probability lottery (if p-0.05) of your results being a fluke.\n",
    "\n",
    "Instead, we want a way to generalize over all of its quarterly returns for those quarters in which each stock had a return.\n",
    "\n",
    "Easy! Take an average, right? Well, not quite. \n",
    "\n",
    "First of all, an average skews toward big outliers. If most quarters showed an ROI of 1.01 and then one quarter has an ROI of 2, the average will skew much higher than 1.01.\n",
    "\n",
    "Pursuant to that, smaller numbers of measurements skew toward the extremes. So if a company only has three returns, each individual return affects the average a lot. That means, if one of the three is super high, the whole average will be super high. Comparatively, if a company has 200 returns and one of them is an outlier, it won't drag the average nearly as far. In datasets where examples possess a different number of measurements, the highest and lowest values for the target variable often come from samples with few measurements.\n",
    "\n",
    "We are in a prime position to encounter that gotcha, because some of these companies are much more measured (many more quarterly returns) than others. \n",
    "\n",
    "So instead, we're going to do something that might look a little weird.\n",
    "\n",
    "#### Confidence Intervals\n",
    "\n",
    "Instead of going off the _average_ of our set of returns, we'll take the confidence interval for it. A confidence interval attempts to take into account the fact that our data doesn't quite match the real world: it samples the real world such that we can attempt to represent the real world in studies. So the \"true average\" of something might not look like the average of our measurements of it, and the fewer measurements we have the less sure we can be of the discrepancy. A confidence interval takes our average and says 'based on this average, the _true_ average lies between this number and this number with this probability.' \n",
    "\n",
    "So, for our stock return measurements, we'll get the confidence interval for each company. For companies with few measurements, that confidence interval will be wide. For companies with many measurements, it will be more narrow. We'll then sample that _pessimistically_ and compare the _bottoms_ of all the companies' confidence intervals. \n",
    "\n",
    "It's worth noting that this is going to give us a very low number for companies with few returns and _without_ a high outlier. We'll address that as well."
   ]
  },
  {
   "cell_type": "code",
   "execution_count": 15,
   "metadata": {
    "collapsed": false
   },
   "outputs": [
    {
     "data": {
      "text/html": [
       "<div>\n",
       "<table border=\"1\" class=\"dataframe\">\n",
       "  <thead>\n",
       "    <tr style=\"text-align: right;\">\n",
       "      <th></th>\n",
       "      <th>alc_con_sum</th>\n",
       "      <th>cgov_con_sum</th>\n",
       "      <th>cgov_str_sum</th>\n",
       "      <th>com_con_sum</th>\n",
       "      <th>com_str_sum</th>\n",
       "      <th>div_con_sum</th>\n",
       "      <th>quarter_starting_03/31/1990_roi</th>\n",
       "      <th>quarter_starting_03/31/1991_roi</th>\n",
       "      <th>quarter_starting_03/31/1992_roi</th>\n",
       "      <th>quarter_starting_03/31/1993_roi</th>\n",
       "      <th>...</th>\n",
       "      <th>quarter_starting_12/31/1994_roi</th>\n",
       "      <th>quarter_starting_12/31/1995_roi</th>\n",
       "      <th>quarter_starting_12/31/1996_roi</th>\n",
       "      <th>quarter_starting_12/31/1997_roi</th>\n",
       "      <th>quarter_starting_12/31/1998_roi</th>\n",
       "      <th>quarter_starting_12/31/1999_roi</th>\n",
       "      <th>quarter_starting_12/31/2000_roi</th>\n",
       "      <th>quarter_starting_12/31/2001_roi</th>\n",
       "      <th>quarter_starting_12/31/2002_roi</th>\n",
       "      <th>quarter_starting_12/31/2003_roi</th>\n",
       "    </tr>\n",
       "  </thead>\n",
       "  <tbody>\n",
       "    <tr>\n",
       "      <th>0</th>\n",
       "      <td>0.0</td>\n",
       "      <td>5.0</td>\n",
       "      <td>3.0</td>\n",
       "      <td>0.0</td>\n",
       "      <td>8.0</td>\n",
       "      <td>0.0</td>\n",
       "      <td>NaN</td>\n",
       "      <td>NaN</td>\n",
       "      <td>NaN</td>\n",
       "      <td>NaN</td>\n",
       "      <td>...</td>\n",
       "      <td>NaN</td>\n",
       "      <td>NaN</td>\n",
       "      <td>NaN</td>\n",
       "      <td>NaN</td>\n",
       "      <td>NaN</td>\n",
       "      <td>NaN</td>\n",
       "      <td>NaN</td>\n",
       "      <td>NaN</td>\n",
       "      <td>NaN</td>\n",
       "      <td>NaN</td>\n",
       "    </tr>\n",
       "    <tr>\n",
       "      <th>1</th>\n",
       "      <td>0.0</td>\n",
       "      <td>8.0</td>\n",
       "      <td>10.0</td>\n",
       "      <td>0.0</td>\n",
       "      <td>18.0</td>\n",
       "      <td>0.0</td>\n",
       "      <td>NaN</td>\n",
       "      <td>NaN</td>\n",
       "      <td>NaN</td>\n",
       "      <td>NaN</td>\n",
       "      <td>...</td>\n",
       "      <td>NaN</td>\n",
       "      <td>NaN</td>\n",
       "      <td>NaN</td>\n",
       "      <td>NaN</td>\n",
       "      <td>NaN</td>\n",
       "      <td>NaN</td>\n",
       "      <td>0.561279</td>\n",
       "      <td>1.226236</td>\n",
       "      <td>0.732183</td>\n",
       "      <td>1.081737</td>\n",
       "    </tr>\n",
       "    <tr>\n",
       "      <th>2</th>\n",
       "      <td>0.0</td>\n",
       "      <td>4.0</td>\n",
       "      <td>1.0</td>\n",
       "      <td>0.0</td>\n",
       "      <td>6.0</td>\n",
       "      <td>2.0</td>\n",
       "      <td>0.984556</td>\n",
       "      <td>1.030534</td>\n",
       "      <td>1.076312</td>\n",
       "      <td>1.085271</td>\n",
       "      <td>...</td>\n",
       "      <td>0.479049</td>\n",
       "      <td>1.18438</td>\n",
       "      <td>1.066667</td>\n",
       "      <td>0.977693</td>\n",
       "      <td>0.552441</td>\n",
       "      <td>0.846386</td>\n",
       "      <td>1.073134</td>\n",
       "      <td>1.061603</td>\n",
       "      <td>0.850746</td>\n",
       "      <td>0.912895</td>\n",
       "    </tr>\n",
       "    <tr>\n",
       "      <th>3</th>\n",
       "      <td>0.0</td>\n",
       "      <td>7.0</td>\n",
       "      <td>4.0</td>\n",
       "      <td>8.0</td>\n",
       "      <td>22.0</td>\n",
       "      <td>8.0</td>\n",
       "      <td>NaN</td>\n",
       "      <td>NaN</td>\n",
       "      <td>NaN</td>\n",
       "      <td>NaN</td>\n",
       "      <td>...</td>\n",
       "      <td>NaN</td>\n",
       "      <td>NaN</td>\n",
       "      <td>NaN</td>\n",
       "      <td>NaN</td>\n",
       "      <td>NaN</td>\n",
       "      <td>NaN</td>\n",
       "      <td>NaN</td>\n",
       "      <td>NaN</td>\n",
       "      <td>NaN</td>\n",
       "      <td>NaN</td>\n",
       "    </tr>\n",
       "    <tr>\n",
       "      <th>4</th>\n",
       "      <td>0.0</td>\n",
       "      <td>2.0</td>\n",
       "      <td>0.0</td>\n",
       "      <td>0.0</td>\n",
       "      <td>0.0</td>\n",
       "      <td>0.0</td>\n",
       "      <td>NaN</td>\n",
       "      <td>NaN</td>\n",
       "      <td>NaN</td>\n",
       "      <td>NaN</td>\n",
       "      <td>...</td>\n",
       "      <td>NaN</td>\n",
       "      <td>NaN</td>\n",
       "      <td>NaN</td>\n",
       "      <td>NaN</td>\n",
       "      <td>NaN</td>\n",
       "      <td>NaN</td>\n",
       "      <td>NaN</td>\n",
       "      <td>NaN</td>\n",
       "      <td>NaN</td>\n",
       "      <td>NaN</td>\n",
       "    </tr>\n",
       "  </tbody>\n",
       "</table>\n",
       "<p>5 rows × 66 columns</p>\n",
       "</div>"
      ],
      "text/plain": [
       "   alc_con_sum  cgov_con_sum  cgov_str_sum  com_con_sum  com_str_sum  \\\n",
       "0          0.0           5.0           3.0          0.0          8.0   \n",
       "1          0.0           8.0          10.0          0.0         18.0   \n",
       "2          0.0           4.0           1.0          0.0          6.0   \n",
       "3          0.0           7.0           4.0          8.0         22.0   \n",
       "4          0.0           2.0           0.0          0.0          0.0   \n",
       "\n",
       "   div_con_sum  quarter_starting_03/31/1990_roi  \\\n",
       "0          0.0                              NaN   \n",
       "1          0.0                              NaN   \n",
       "2          2.0                         0.984556   \n",
       "3          8.0                              NaN   \n",
       "4          0.0                              NaN   \n",
       "\n",
       "   quarter_starting_03/31/1991_roi  quarter_starting_03/31/1992_roi  \\\n",
       "0                              NaN                              NaN   \n",
       "1                              NaN                              NaN   \n",
       "2                         1.030534                         1.076312   \n",
       "3                              NaN                              NaN   \n",
       "4                              NaN                              NaN   \n",
       "\n",
       "   quarter_starting_03/31/1993_roi               ...                 \\\n",
       "0                              NaN               ...                  \n",
       "1                              NaN               ...                  \n",
       "2                         1.085271               ...                  \n",
       "3                              NaN               ...                  \n",
       "4                              NaN               ...                  \n",
       "\n",
       "   quarter_starting_12/31/1994_roi  quarter_starting_12/31/1995_roi  \\\n",
       "0                              NaN                              NaN   \n",
       "1                              NaN                              NaN   \n",
       "2                         0.479049                          1.18438   \n",
       "3                              NaN                              NaN   \n",
       "4                              NaN                              NaN   \n",
       "\n",
       "   quarter_starting_12/31/1996_roi  quarter_starting_12/31/1997_roi  \\\n",
       "0                              NaN                              NaN   \n",
       "1                              NaN                              NaN   \n",
       "2                         1.066667                         0.977693   \n",
       "3                              NaN                              NaN   \n",
       "4                              NaN                              NaN   \n",
       "\n",
       "   quarter_starting_12/31/1998_roi  quarter_starting_12/31/1999_roi  \\\n",
       "0                              NaN                              NaN   \n",
       "1                              NaN                              NaN   \n",
       "2                         0.552441                         0.846386   \n",
       "3                              NaN                              NaN   \n",
       "4                              NaN                              NaN   \n",
       "\n",
       "   quarter_starting_12/31/2000_roi  quarter_starting_12/31/2001_roi  \\\n",
       "0                              NaN                              NaN   \n",
       "1                         0.561279                         1.226236   \n",
       "2                         1.073134                         1.061603   \n",
       "3                              NaN                              NaN   \n",
       "4                              NaN                              NaN   \n",
       "\n",
       "   quarter_starting_12/31/2002_roi  quarter_starting_12/31/2003_roi  \n",
       "0                              NaN                              NaN  \n",
       "1                         0.732183                         1.081737  \n",
       "2                         0.850746                         0.912895  \n",
       "3                              NaN                              NaN  \n",
       "4                              NaN                              NaN  \n",
       "\n",
       "[5 rows x 66 columns]"
      ]
     },
     "execution_count": 15,
     "metadata": {},
     "output_type": "execute_result"
    }
   ],
   "source": [
    "# Calculate average roi\n",
    "returns = all_data[all_data.columns.difference(['emp_str_sum', 'emp_con_sum', 'env_str_sum', 'env_con_sum', 'div_str_sum', 'Ticker','Company Name'])]\n",
    "returns.head()"
   ]
  },
  {
   "cell_type": "code",
   "execution_count": 16,
   "metadata": {
    "collapsed": true
   },
   "outputs": [],
   "source": [
    "def confidence_interval_for(samples=[], confidence=0.95):\n",
    "    sample_size = len(samples)\n",
    "    degrees_freedom = sample_size - 1\n",
    "    outlier_tails = (1.0 - confidence) / 2.0\n",
    "    t_distribution_number = -1 * t.ppf(outlier_tails, degrees_freedom)\n",
    "\n",
    "    step_1 = np.std(samples)/math.sqrt(sample_size) \n",
    "    step_2 = step_1 * t_distribution_number\n",
    "    \n",
    "    low_end = np.mean(samples) - step_2\n",
    "    high_end = np.mean(samples) + step_2\n",
    "\n",
    "    return low_end, high_end"
   ]
  },
  {
   "cell_type": "code",
   "execution_count": 17,
   "metadata": {
    "collapsed": false
   },
   "outputs": [],
   "source": [
    "lower_conf_intervals = []\n",
    "upper_conf_intervals = []\n",
    "\n",
    "for (idx, row) in returns.iterrows():\n",
    "    maybe_measurements = row.tolist()\n",
    "    measurements = [float(x) for x in maybe_measurements if (math.isnan(float(x)) == False)]\n",
    "    bottom, top = confidence_interval_for(measurements)\n",
    "    lower_conf_intervals.append(bottom)\n",
    "    upper_conf_intervals.append(top)"
   ]
  },
  {
   "cell_type": "code",
   "execution_count": 18,
   "metadata": {
    "collapsed": false
   },
   "outputs": [
    {
     "data": {
      "text/html": [
       "<div>\n",
       "<table border=\"1\" class=\"dataframe\">\n",
       "  <thead>\n",
       "    <tr style=\"text-align: right;\">\n",
       "      <th></th>\n",
       "      <th>Ticker</th>\n",
       "      <th>emp_str_sum</th>\n",
       "      <th>emp_con_sum</th>\n",
       "      <th>env_str_sum</th>\n",
       "      <th>env_con_sum</th>\n",
       "      <th>alc_con_sum</th>\n",
       "      <th>cgov_str_sum</th>\n",
       "      <th>cgov_con_sum</th>\n",
       "      <th>com_str_sum</th>\n",
       "      <th>com_con_sum</th>\n",
       "      <th>...</th>\n",
       "      <th>quarter_starting_06/30/2003_roi</th>\n",
       "      <th>quarter_starting_09/30/2003_roi</th>\n",
       "      <th>quarter_starting_12/31/2003_roi</th>\n",
       "      <th>quarter_starting_03/31/2004_roi</th>\n",
       "      <th>quarter_starting_06/30/2004_roi</th>\n",
       "      <th>quarter_starting_09/30/2004_roi</th>\n",
       "      <th>avg_quarterly_roi</th>\n",
       "      <th>num_measurements</th>\n",
       "      <th>lower_conf_interval</th>\n",
       "      <th>upper_conf_interval</th>\n",
       "    </tr>\n",
       "  </thead>\n",
       "  <tbody>\n",
       "    <tr>\n",
       "      <th>0</th>\n",
       "      <td>A</td>\n",
       "      <td>16.0</td>\n",
       "      <td>16.0</td>\n",
       "      <td>0.0</td>\n",
       "      <td>0.0</td>\n",
       "      <td>0.0</td>\n",
       "      <td>3.0</td>\n",
       "      <td>5.0</td>\n",
       "      <td>8.0</td>\n",
       "      <td>0.0</td>\n",
       "      <td>...</td>\n",
       "      <td>NaN</td>\n",
       "      <td>NaN</td>\n",
       "      <td>NaN</td>\n",
       "      <td>NaN</td>\n",
       "      <td>NaN</td>\n",
       "      <td>NaN</td>\n",
       "      <td>2.666667</td>\n",
       "      <td>6</td>\n",
       "      <td>-0.520271</td>\n",
       "      <td>5.853605</td>\n",
       "    </tr>\n",
       "    <tr>\n",
       "      <th>1</th>\n",
       "      <td>AA</td>\n",
       "      <td>48.0</td>\n",
       "      <td>2.0</td>\n",
       "      <td>30.0</td>\n",
       "      <td>80.0</td>\n",
       "      <td>0.0</td>\n",
       "      <td>10.0</td>\n",
       "      <td>8.0</td>\n",
       "      <td>18.0</td>\n",
       "      <td>0.0</td>\n",
       "      <td>...</td>\n",
       "      <td>1.130946</td>\n",
       "      <td>1.322479</td>\n",
       "      <td>1.081737</td>\n",
       "      <td>0.925703</td>\n",
       "      <td>0.736680</td>\n",
       "      <td>1.117293</td>\n",
       "      <td>2.242704</td>\n",
       "      <td>24</td>\n",
       "      <td>0.547832</td>\n",
       "      <td>3.937575</td>\n",
       "    </tr>\n",
       "    <tr>\n",
       "      <th>2</th>\n",
       "      <td>AAL</td>\n",
       "      <td>2.0</td>\n",
       "      <td>0.0</td>\n",
       "      <td>0.0</td>\n",
       "      <td>0.0</td>\n",
       "      <td>0.0</td>\n",
       "      <td>1.0</td>\n",
       "      <td>4.0</td>\n",
       "      <td>6.0</td>\n",
       "      <td>0.0</td>\n",
       "      <td>...</td>\n",
       "      <td>1.025882</td>\n",
       "      <td>1.452599</td>\n",
       "      <td>0.912895</td>\n",
       "      <td>0.952148</td>\n",
       "      <td>1.016954</td>\n",
       "      <td>0.935397</td>\n",
       "      <td>1.113084</td>\n",
       "      <td>66</td>\n",
       "      <td>0.925537</td>\n",
       "      <td>1.300631</td>\n",
       "    </tr>\n",
       "    <tr>\n",
       "      <th>3</th>\n",
       "      <td>AAPL</td>\n",
       "      <td>16.0</td>\n",
       "      <td>14.0</td>\n",
       "      <td>4.0</td>\n",
       "      <td>0.0</td>\n",
       "      <td>0.0</td>\n",
       "      <td>4.0</td>\n",
       "      <td>7.0</td>\n",
       "      <td>22.0</td>\n",
       "      <td>8.0</td>\n",
       "      <td>...</td>\n",
       "      <td>NaN</td>\n",
       "      <td>NaN</td>\n",
       "      <td>NaN</td>\n",
       "      <td>NaN</td>\n",
       "      <td>NaN</td>\n",
       "      <td>NaN</td>\n",
       "      <td>8.166667</td>\n",
       "      <td>6</td>\n",
       "      <td>1.038311</td>\n",
       "      <td>15.295023</td>\n",
       "    </tr>\n",
       "    <tr>\n",
       "      <th>4</th>\n",
       "      <td>ABC</td>\n",
       "      <td>0.0</td>\n",
       "      <td>2.0</td>\n",
       "      <td>0.0</td>\n",
       "      <td>0.0</td>\n",
       "      <td>0.0</td>\n",
       "      <td>0.0</td>\n",
       "      <td>2.0</td>\n",
       "      <td>0.0</td>\n",
       "      <td>0.0</td>\n",
       "      <td>...</td>\n",
       "      <td>NaN</td>\n",
       "      <td>NaN</td>\n",
       "      <td>NaN</td>\n",
       "      <td>NaN</td>\n",
       "      <td>NaN</td>\n",
       "      <td>NaN</td>\n",
       "      <td>0.333333</td>\n",
       "      <td>6</td>\n",
       "      <td>-0.448870</td>\n",
       "      <td>1.115536</td>\n",
       "    </tr>\n",
       "    <tr>\n",
       "      <th>5</th>\n",
       "      <td>ABI</td>\n",
       "      <td>22.0</td>\n",
       "      <td>2.0</td>\n",
       "      <td>0.0</td>\n",
       "      <td>0.0</td>\n",
       "      <td>0.0</td>\n",
       "      <td>0.0</td>\n",
       "      <td>4.0</td>\n",
       "      <td>0.0</td>\n",
       "      <td>0.0</td>\n",
       "      <td>...</td>\n",
       "      <td>NaN</td>\n",
       "      <td>NaN</td>\n",
       "      <td>NaN</td>\n",
       "      <td>NaN</td>\n",
       "      <td>NaN</td>\n",
       "      <td>NaN</td>\n",
       "      <td>0.666667</td>\n",
       "      <td>6</td>\n",
       "      <td>-0.897740</td>\n",
       "      <td>2.231073</td>\n",
       "    </tr>\n",
       "    <tr>\n",
       "      <th>6</th>\n",
       "      <td>ABK</td>\n",
       "      <td>12.0</td>\n",
       "      <td>0.0</td>\n",
       "      <td>0.0</td>\n",
       "      <td>0.0</td>\n",
       "      <td>0.0</td>\n",
       "      <td>0.0</td>\n",
       "      <td>2.0</td>\n",
       "      <td>0.0</td>\n",
       "      <td>0.0</td>\n",
       "      <td>...</td>\n",
       "      <td>1.087093</td>\n",
       "      <td>1.031371</td>\n",
       "      <td>1.265325</td>\n",
       "      <td>1.203402</td>\n",
       "      <td>1.190842</td>\n",
       "      <td>1.661935</td>\n",
       "      <td>0.994680</td>\n",
       "      <td>66</td>\n",
       "      <td>0.887836</td>\n",
       "      <td>1.101523</td>\n",
       "    </tr>\n",
       "    <tr>\n",
       "      <th>7</th>\n",
       "      <td>ABS</td>\n",
       "      <td>18.0</td>\n",
       "      <td>29.0</td>\n",
       "      <td>0.0</td>\n",
       "      <td>0.0</td>\n",
       "      <td>0.0</td>\n",
       "      <td>0.0</td>\n",
       "      <td>11.0</td>\n",
       "      <td>0.0</td>\n",
       "      <td>0.0</td>\n",
       "      <td>...</td>\n",
       "      <td>NaN</td>\n",
       "      <td>NaN</td>\n",
       "      <td>NaN</td>\n",
       "      <td>NaN</td>\n",
       "      <td>NaN</td>\n",
       "      <td>NaN</td>\n",
       "      <td>3.833333</td>\n",
       "      <td>6</td>\n",
       "      <td>-1.863877</td>\n",
       "      <td>9.530544</td>\n",
       "    </tr>\n",
       "    <tr>\n",
       "      <th>8</th>\n",
       "      <td>ABT</td>\n",
       "      <td>0.0</td>\n",
       "      <td>2.0</td>\n",
       "      <td>2.0</td>\n",
       "      <td>38.0</td>\n",
       "      <td>0.0</td>\n",
       "      <td>2.0</td>\n",
       "      <td>9.0</td>\n",
       "      <td>4.0</td>\n",
       "      <td>0.0</td>\n",
       "      <td>...</td>\n",
       "      <td>0.779380</td>\n",
       "      <td>1.038853</td>\n",
       "      <td>0.973820</td>\n",
       "      <td>1.093270</td>\n",
       "      <td>0.898461</td>\n",
       "      <td>1.092534</td>\n",
       "      <td>1.786700</td>\n",
       "      <td>19</td>\n",
       "      <td>0.740532</td>\n",
       "      <td>2.832867</td>\n",
       "    </tr>\n",
       "    <tr>\n",
       "      <th>9</th>\n",
       "      <td>ABX</td>\n",
       "      <td>8.0</td>\n",
       "      <td>6.0</td>\n",
       "      <td>0.0</td>\n",
       "      <td>6.0</td>\n",
       "      <td>0.0</td>\n",
       "      <td>7.0</td>\n",
       "      <td>1.0</td>\n",
       "      <td>15.0</td>\n",
       "      <td>0.0</td>\n",
       "      <td>...</td>\n",
       "      <td>NaN</td>\n",
       "      <td>NaN</td>\n",
       "      <td>NaN</td>\n",
       "      <td>NaN</td>\n",
       "      <td>NaN</td>\n",
       "      <td>NaN</td>\n",
       "      <td>5.000000</td>\n",
       "      <td>6</td>\n",
       "      <td>-0.651384</td>\n",
       "      <td>10.651384</td>\n",
       "    </tr>\n",
       "  </tbody>\n",
       "</table>\n",
       "<p>10 rows × 77 columns</p>\n",
       "</div>"
      ],
      "text/plain": [
       "  Ticker  emp_str_sum  emp_con_sum  env_str_sum  env_con_sum  alc_con_sum  \\\n",
       "0      A         16.0         16.0          0.0          0.0          0.0   \n",
       "1     AA         48.0          2.0         30.0         80.0          0.0   \n",
       "2    AAL          2.0          0.0          0.0          0.0          0.0   \n",
       "3   AAPL         16.0         14.0          4.0          0.0          0.0   \n",
       "4    ABC          0.0          2.0          0.0          0.0          0.0   \n",
       "5    ABI         22.0          2.0          0.0          0.0          0.0   \n",
       "6    ABK         12.0          0.0          0.0          0.0          0.0   \n",
       "7    ABS         18.0         29.0          0.0          0.0          0.0   \n",
       "8    ABT          0.0          2.0          2.0         38.0          0.0   \n",
       "9    ABX          8.0          6.0          0.0          6.0          0.0   \n",
       "\n",
       "   cgov_str_sum  cgov_con_sum  com_str_sum  com_con_sum         ...           \\\n",
       "0           3.0           5.0          8.0          0.0         ...            \n",
       "1          10.0           8.0         18.0          0.0         ...            \n",
       "2           1.0           4.0          6.0          0.0         ...            \n",
       "3           4.0           7.0         22.0          8.0         ...            \n",
       "4           0.0           2.0          0.0          0.0         ...            \n",
       "5           0.0           4.0          0.0          0.0         ...            \n",
       "6           0.0           2.0          0.0          0.0         ...            \n",
       "7           0.0          11.0          0.0          0.0         ...            \n",
       "8           2.0           9.0          4.0          0.0         ...            \n",
       "9           7.0           1.0         15.0          0.0         ...            \n",
       "\n",
       "   quarter_starting_06/30/2003_roi  quarter_starting_09/30/2003_roi  \\\n",
       "0                              NaN                              NaN   \n",
       "1                         1.130946                         1.322479   \n",
       "2                         1.025882                         1.452599   \n",
       "3                              NaN                              NaN   \n",
       "4                              NaN                              NaN   \n",
       "5                              NaN                              NaN   \n",
       "6                         1.087093                         1.031371   \n",
       "7                              NaN                              NaN   \n",
       "8                         0.779380                         1.038853   \n",
       "9                              NaN                              NaN   \n",
       "\n",
       "  quarter_starting_12/31/2003_roi  quarter_starting_03/31/2004_roi  \\\n",
       "0                             NaN                              NaN   \n",
       "1                        1.081737                         0.925703   \n",
       "2                        0.912895                         0.952148   \n",
       "3                             NaN                              NaN   \n",
       "4                             NaN                              NaN   \n",
       "5                             NaN                              NaN   \n",
       "6                        1.265325                         1.203402   \n",
       "7                             NaN                              NaN   \n",
       "8                        0.973820                         1.093270   \n",
       "9                             NaN                              NaN   \n",
       "\n",
       "   quarter_starting_06/30/2004_roi  quarter_starting_09/30/2004_roi  \\\n",
       "0                              NaN                              NaN   \n",
       "1                         0.736680                         1.117293   \n",
       "2                         1.016954                         0.935397   \n",
       "3                              NaN                              NaN   \n",
       "4                              NaN                              NaN   \n",
       "5                              NaN                              NaN   \n",
       "6                         1.190842                         1.661935   \n",
       "7                              NaN                              NaN   \n",
       "8                         0.898461                         1.092534   \n",
       "9                              NaN                              NaN   \n",
       "\n",
       "   avg_quarterly_roi  num_measurements  lower_conf_interval  \\\n",
       "0           2.666667                 6            -0.520271   \n",
       "1           2.242704                24             0.547832   \n",
       "2           1.113084                66             0.925537   \n",
       "3           8.166667                 6             1.038311   \n",
       "4           0.333333                 6            -0.448870   \n",
       "5           0.666667                 6            -0.897740   \n",
       "6           0.994680                66             0.887836   \n",
       "7           3.833333                 6            -1.863877   \n",
       "8           1.786700                19             0.740532   \n",
       "9           5.000000                 6            -0.651384   \n",
       "\n",
       "   upper_conf_interval  \n",
       "0             5.853605  \n",
       "1             3.937575  \n",
       "2             1.300631  \n",
       "3            15.295023  \n",
       "4             1.115536  \n",
       "5             2.231073  \n",
       "6             1.101523  \n",
       "7             9.530544  \n",
       "8             2.832867  \n",
       "9            10.651384  \n",
       "\n",
       "[10 rows x 77 columns]"
      ]
     },
     "execution_count": 18,
     "metadata": {},
     "output_type": "execute_result"
    }
   ],
   "source": [
    "all_data['avg_quarterly_roi'] = returns.mean(axis=1, skipna=True)\n",
    "all_data['num_measurements'] = returns.count(axis=1)\n",
    "all_data['lower_conf_interval'] = lower_conf_intervals\n",
    "all_data['upper_conf_interval'] = upper_conf_intervals\n",
    "\n",
    "all_data.head(10)"
   ]
  },
  {
   "cell_type": "markdown",
   "metadata": {},
   "source": [
    "Before we go on, let's talk statistical power.\n",
    "\n",
    "The statistical power of a dataset describes the likelihood that you will be able to _detect_ a meaningful difference with this data given that the difference _is there_. It's an important precursor step to data analysis because it determines your ability to find the effect you're looking for.\n",
    "\n",
    "Calculating statistical power is a little complicated, and it's generally a good idea to get someone who knows what they're doing to help you. I'm not confident in my ability to evaluate statistical power calculation strategies yet, but I figured I'd start with the all-around method and used [this online calculator](https://www.dssresearch.com/KnowledgeCenter/toolkitcalculators/statisticalpowercalculators.aspx).\n",
    "\n",
    "I performed a one-tail statistical power test. For this we will need the following data:"
   ]
  },
  {
   "cell_type": "code",
   "execution_count": 19,
   "metadata": {
    "collapsed": false
   },
   "outputs": [
    {
     "data": {
      "text/plain": [
       "count    925.000000\n",
       "mean      -0.221716\n",
       "std        1.515036\n",
       "min      -16.108048\n",
       "25%       -0.688611\n",
       "50%        0.228662\n",
       "75%        0.799898\n",
       "max        3.885452\n",
       "Name: lower_conf_interval, dtype: float64"
      ]
     },
     "execution_count": 19,
     "metadata": {},
     "output_type": "execute_result"
    }
   ],
   "source": [
    "all_data['lower_conf_interval'].describe()"
   ]
  },
  {
   "cell_type": "markdown",
   "metadata": {},
   "source": [
    "I took the mean of the bottom end of confidence intervals on stock returns—0.92. Suppose this were only the mean for companies with favorable ESG scores, and suppose that companies with unfavorable ESG scores had a higher quarterly return of 1 standard deviation higher—0.934. So 0.92 is my sample average and 0.934 is my test value.\n",
    "\n",
    "In calculating your statistical power, you have two variables under your control: the number of examples in your data and your effect size. The more examples you have, the smaller effect size you can reliably detect. This means that, if you have already collected your data (as we have), to have a statistically powerful study, the effect size you're seeking needs to be large enough that the number of examples you have could reliably detect it. The bigger the effect size, the less data you need to detect it. For small effect sizes, you may need thousands of examples. But if we had only ten stock examples (5 with a low ESG aggregate score, 5 with a high one) and the 5 with low ESG aggregate scores showed triple the returns of the high ones, that effect size is _huge_, so our tiny study could still reliably detect it. (to check this, I plugged it into the power calculator with an absurdly high standard deviation of 1. My power was 100%). \n",
    "\n",
    "Anyway, back to our real data. The sample size is how many examples we have..."
   ]
  },
  {
   "cell_type": "code",
   "execution_count": 20,
   "metadata": {
    "collapsed": false
   },
   "outputs": [
    {
     "data": {
      "text/plain": [
       "(925, 77)"
      ]
     },
     "execution_count": 20,
     "metadata": {},
     "output_type": "execute_result"
    }
   ],
   "source": [
    "all_data.shape"
   ]
  },
  {
   "cell_type": "markdown",
   "metadata": {},
   "source": [
    "...925.\n",
    "\n",
    "Our standard deviation for sample is 0.14. so we plug that in.\n",
    "\n",
    "I left the confidence level at 5% and ran the calculator.\n",
    "\n",
    "My result: 91.9%\n",
    "\n",
    "That's the probability, if there is a 1.4 percentage point difference or more between stock returns for companies with favorable and unfavorable ESG scores, we have a 91.9% chance of detecting it. Statistical power expectations vary, but a rule of thumb (and standard practice at some more rigorous scientific journals) is to expect a statistical power of 80% or higher to take a study seriously. \n"
   ]
  },
  {
   "cell_type": "markdown",
   "metadata": {},
   "source": [
    "OK, time to make some pictures! Let's plot our ESG score sums against average roi and see if we notice any trends."
   ]
  },
  {
   "cell_type": "code",
   "execution_count": 21,
   "metadata": {
    "collapsed": false
   },
   "outputs": [
    {
     "data": {
      "text/plain": [
       "(925, 77)"
      ]
     },
     "execution_count": 21,
     "metadata": {},
     "output_type": "execute_result"
    },
    {
     "data": {
      "image/png": "[encoded data removed]",
      "text/plain": [
       "<matplotlib.figure.Figure at 0x1154dd9e8>"
      ]
     },
     "metadata": {},
     "output_type": "display_data"
    }
   ],
   "source": [
    "f, ((ax1, ax2), (ax3, ax4)) = plt.subplots(2, 2, sharex='col', sharey='row', figsize=(20, 10))\n",
    "f.suptitle('ESG Sums Plotted Against Returns')\n",
    "ax1.scatter(x=all_data['emp_str_sum'], y=all_data['lower_conf_interval'])\n",
    "ax2.scatter(x=all_data['emp_con_sum'], y=all_data['lower_conf_interval'])\n",
    "ax3.scatter(x=all_data['env_str_sum'], y=all_data['lower_conf_interval'])\n",
    "ax4.scatter(x=all_data['env_con_sum'], y=all_data['lower_conf_interval'])\n",
    "all_data.shape"
   ]
  },
  {
   "cell_type": "markdown",
   "metadata": {},
   "source": [
    "We have a couple of really low ones on those charts. Let's look at them:"
   ]
  },
  {
   "cell_type": "code",
   "execution_count": 22,
   "metadata": {
    "collapsed": false
   },
   "outputs": [
    {
     "name": "stderr",
     "output_type": "stream",
     "text": [
      "//anaconda/lib/python3.6/site-packages/ipykernel/__main__.py:1: FutureWarning: sort(columns=....) is deprecated, use sort_values(by=.....)\n",
      "  if __name__ == '__main__':\n"
     ]
    },
    {
     "data": {
      "text/html": [
       "<div>\n",
       "<table border=\"1\" class=\"dataframe\">\n",
       "  <thead>\n",
       "    <tr style=\"text-align: right;\">\n",
       "      <th></th>\n",
       "      <th>Company Name</th>\n",
       "      <th>lower_conf_interval</th>\n",
       "      <th>num_measurements</th>\n",
       "    </tr>\n",
       "  </thead>\n",
       "  <tbody>\n",
       "    <tr>\n",
       "      <th>768</th>\n",
       "      <td>NaN</td>\n",
       "      <td>-16.108048</td>\n",
       "      <td>6</td>\n",
       "    </tr>\n",
       "    <tr>\n",
       "      <th>373</th>\n",
       "      <td>NaN</td>\n",
       "      <td>-12.950150</td>\n",
       "      <td>6</td>\n",
       "    </tr>\n",
       "    <tr>\n",
       "      <th>889</th>\n",
       "      <td>NaN</td>\n",
       "      <td>-8.698689</td>\n",
       "      <td>6</td>\n",
       "    </tr>\n",
       "    <tr>\n",
       "      <th>616</th>\n",
       "      <td>NaN</td>\n",
       "      <td>-7.937033</td>\n",
       "      <td>6</td>\n",
       "    </tr>\n",
       "    <tr>\n",
       "      <th>450</th>\n",
       "      <td>NaN</td>\n",
       "      <td>-7.851837</td>\n",
       "      <td>6</td>\n",
       "    </tr>\n",
       "    <tr>\n",
       "      <th>497</th>\n",
       "      <td>NaN</td>\n",
       "      <td>-7.185177</td>\n",
       "      <td>6</td>\n",
       "    </tr>\n",
       "    <tr>\n",
       "      <th>338</th>\n",
       "      <td>NaN</td>\n",
       "      <td>-7.147846</td>\n",
       "      <td>6</td>\n",
       "    </tr>\n",
       "    <tr>\n",
       "      <th>837</th>\n",
       "      <td>NaN</td>\n",
       "      <td>-6.547796</td>\n",
       "      <td>6</td>\n",
       "    </tr>\n",
       "    <tr>\n",
       "      <th>755</th>\n",
       "      <td>NaN</td>\n",
       "      <td>-6.405443</td>\n",
       "      <td>6</td>\n",
       "    </tr>\n",
       "    <tr>\n",
       "      <th>659</th>\n",
       "      <td>NaN</td>\n",
       "      <td>-5.944303</td>\n",
       "      <td>6</td>\n",
       "    </tr>\n",
       "  </tbody>\n",
       "</table>\n",
       "</div>"
      ],
      "text/plain": [
       "    Company Name  lower_conf_interval  num_measurements\n",
       "768          NaN           -16.108048                 6\n",
       "373          NaN           -12.950150                 6\n",
       "889          NaN            -8.698689                 6\n",
       "616          NaN            -7.937033                 6\n",
       "450          NaN            -7.851837                 6\n",
       "497          NaN            -7.185177                 6\n",
       "338          NaN            -7.147846                 6\n",
       "837          NaN            -6.547796                 6\n",
       "755          NaN            -6.405443                 6\n",
       "659          NaN            -5.944303                 6"
      ]
     },
     "execution_count": 22,
     "metadata": {},
     "output_type": "execute_result"
    }
   ],
   "source": [
    "all_data[['Company Name','lower_conf_interval', 'num_measurements']].sort('lower_conf_interval').head(10)"
   ]
  },
  {
   "cell_type": "markdown",
   "metadata": {},
   "source": [
    "We spoke a little bit earlier about the way our measuring strategy would especially penalize companies with only a few measurements. We're seeing that here. Out of these bottom 10 scores for the lower end of stock return confidence intervals, only one has more than 7 data points. Compare this to the mean number of measurements:"
   ]
  },
  {
   "cell_type": "code",
   "execution_count": 23,
   "metadata": {
    "collapsed": false
   },
   "outputs": [
    {
     "data": {
      "text/plain": [
       "25.932972972972973"
      ]
     },
     "execution_count": 23,
     "metadata": {},
     "output_type": "execute_result"
    }
   ],
   "source": [
    "all_data['num_measurements'].mean()"
   ]
  },
  {
   "cell_type": "markdown",
   "metadata": {},
   "source": [
    "But there's another thing to note about this data: five of the values are _negative_. These scores are low, yes, but a negative value for a stock return does not make sense. The value of a stock can drop to zero, but it does not turn into debt to the company owed by the stockholders. The lowest a stock price can drop is to zero. To accurately represent that, we'll clip these values at zero."
   ]
  },
  {
   "cell_type": "code",
   "execution_count": 24,
   "metadata": {
    "collapsed": true
   },
   "outputs": [],
   "source": [
    "all_data['lower_conf_interval'] = all_data['lower_conf_interval'].clip_lower(0)"
   ]
  },
  {
   "cell_type": "markdown",
   "metadata": {},
   "source": [
    "Let's check the means too to make sure we don't have negative values in the means:"
   ]
  },
  {
   "cell_type": "code",
   "execution_count": 25,
   "metadata": {
    "collapsed": false
   },
   "outputs": [
    {
     "name": "stderr",
     "output_type": "stream",
     "text": [
      "//anaconda/lib/python3.6/site-packages/ipykernel/__main__.py:1: FutureWarning: sort(columns=....) is deprecated, use sort_values(by=.....)\n",
      "  if __name__ == '__main__':\n"
     ]
    },
    {
     "data": {
      "text/html": [
       "<div>\n",
       "<table border=\"1\" class=\"dataframe\">\n",
       "  <thead>\n",
       "    <tr style=\"text-align: right;\">\n",
       "      <th></th>\n",
       "      <th>Company Name</th>\n",
       "      <th>avg_quarterly_roi</th>\n",
       "      <th>num_measurements</th>\n",
       "    </tr>\n",
       "  </thead>\n",
       "  <tbody>\n",
       "    <tr>\n",
       "      <th>85</th>\n",
       "      <td>NaN</td>\n",
       "      <td>0.0</td>\n",
       "      <td>6</td>\n",
       "    </tr>\n",
       "    <tr>\n",
       "      <th>580</th>\n",
       "      <td>NaN</td>\n",
       "      <td>0.0</td>\n",
       "      <td>6</td>\n",
       "    </tr>\n",
       "    <tr>\n",
       "      <th>305</th>\n",
       "      <td>NaN</td>\n",
       "      <td>0.0</td>\n",
       "      <td>6</td>\n",
       "    </tr>\n",
       "    <tr>\n",
       "      <th>839</th>\n",
       "      <td>NaN</td>\n",
       "      <td>0.0</td>\n",
       "      <td>6</td>\n",
       "    </tr>\n",
       "    <tr>\n",
       "      <th>601</th>\n",
       "      <td>NaN</td>\n",
       "      <td>0.0</td>\n",
       "      <td>6</td>\n",
       "    </tr>\n",
       "    <tr>\n",
       "      <th>619</th>\n",
       "      <td>NaN</td>\n",
       "      <td>0.0</td>\n",
       "      <td>6</td>\n",
       "    </tr>\n",
       "    <tr>\n",
       "      <th>413</th>\n",
       "      <td>NaN</td>\n",
       "      <td>0.0</td>\n",
       "      <td>6</td>\n",
       "    </tr>\n",
       "    <tr>\n",
       "      <th>802</th>\n",
       "      <td>NaN</td>\n",
       "      <td>0.0</td>\n",
       "      <td>6</td>\n",
       "    </tr>\n",
       "    <tr>\n",
       "      <th>223</th>\n",
       "      <td>Crown Castle Int'l Corp.</td>\n",
       "      <td>0.0</td>\n",
       "      <td>6</td>\n",
       "    </tr>\n",
       "    <tr>\n",
       "      <th>651</th>\n",
       "      <td>NaN</td>\n",
       "      <td>0.0</td>\n",
       "      <td>6</td>\n",
       "    </tr>\n",
       "  </tbody>\n",
       "</table>\n",
       "</div>"
      ],
      "text/plain": [
       "                 Company Name  avg_quarterly_roi  num_measurements\n",
       "85                        NaN                0.0                 6\n",
       "580                       NaN                0.0                 6\n",
       "305                       NaN                0.0                 6\n",
       "839                       NaN                0.0                 6\n",
       "601                       NaN                0.0                 6\n",
       "619                       NaN                0.0                 6\n",
       "413                       NaN                0.0                 6\n",
       "802                       NaN                0.0                 6\n",
       "223  Crown Castle Int'l Corp.                0.0                 6\n",
       "651                       NaN                0.0                 6"
      ]
     },
     "execution_count": 25,
     "metadata": {},
     "output_type": "execute_result"
    }
   ],
   "source": [
    "all_data[['Company Name','avg_quarterly_roi', 'num_measurements']].sort('avg_quarterly_roi').head(10)"
   ]
  },
  {
   "cell_type": "markdown",
   "metadata": {},
   "source": [
    "Cool: we don't. This means that none of the upper ends of the confidence intervals will have negative values either, as the upper end of the confidence interval is always higher than the mean on which it is based."
   ]
  },
  {
   "cell_type": "markdown",
   "metadata": {},
   "source": [
    "Let's check out our plot again with those adjustments:"
   ]
  },
  {
   "cell_type": "code",
   "execution_count": 26,
   "metadata": {
    "collapsed": false
   },
   "outputs": [
    {
     "data": {
      "text/plain": [
       "<matplotlib.collections.PathCollection at 0x11a3ee278>"
      ]
     },
     "execution_count": 26,
     "metadata": {},
     "output_type": "execute_result"
    },
    {
     "data": {
      "image/png": "[encoded data removed]",
      "text/plain": [
       "<matplotlib.figure.Figure at 0x116124160>"
      ]
     },
     "metadata": {},
     "output_type": "display_data"
    }
   ],
   "source": [
    "f, ((ax1, ax2), (ax3, ax4)) = plt.subplots(2, 2, sharex='col', sharey='row', figsize=(20, 10))\n",
    "f.suptitle('ESG Sums Plotted Against Returns')\n",
    "ax1.scatter(x=all_data['emp_str_sum'], y=all_data['lower_conf_interval'])\n",
    "ax2.scatter(x=all_data['emp_con_sum'], y=all_data['lower_conf_interval'])\n",
    "ax3.scatter(x=all_data['env_str_sum'], y=all_data['lower_conf_interval'])\n",
    "ax4.scatter(x=all_data['env_con_sum'], y=all_data['lower_conf_interval'])"
   ]
  },
  {
   "cell_type": "markdown",
   "metadata": {},
   "source": [
    "Let's look at the general trends of the returns. They look pretty flat to me: I don't see an upward or downward trend in quarterly ROI based on any of the 4 ESG metrics.\n",
    "\n",
    "Let's dig a little deeper and see if the numbers themselves support that."
   ]
  },
  {
   "cell_type": "code",
   "execution_count": 27,
   "metadata": {
    "collapsed": false
   },
   "outputs": [
    {
     "data": {
      "text/plain": [
       "(925, 77)"
      ]
     },
     "execution_count": 27,
     "metadata": {},
     "output_type": "execute_result"
    },
    {
     "data": {
      "image/png": "[encoded data removed]",
      "text/plain": [
       "<matplotlib.figure.Figure at 0x116157a20>"
      ]
     },
     "metadata": {},
     "output_type": "display_data"
    }
   ],
   "source": [
    "f, ((ax1, ax2), (ax3, ax4)) = plt.subplots(2, 2, sharex='col', sharey='row', figsize=(20, 10))\n",
    "f.suptitle('Histograms of Aggregated ESG Scores')\n",
    "ax1.hist(x=all_data['emp_str_sum'])\n",
    "ax2.hist(x=all_data['emp_con_sum'])\n",
    "ax3.hist(x=all_data['env_str_sum'])\n",
    "ax4.hist(x=all_data['env_con_sum'])\n",
    "all_data.shape"
   ]
  },
  {
   "cell_type": "markdown",
   "metadata": {},
   "source": [
    "The thing about a lot of our data is that it skews heavily toward low ESG sums. For example, there are a lot more companies with low employment policy strength scores than high ones. How do we account for this when we do our aggregations? \n",
    "\n",
    "Well, we'll look at the individual ESG scores first. But later we'll bucket those ESG scores by fives so that we have small groups of scores, and then we'll look at the confidence intervals around those (which will, of course, be wider for smaller groups). \n",
    "\n",
    "Here's a question though—why do buckets at all? Why not stick to a linear regressor?\n",
    "\n",
    "Good question! A regressor can frequently be a preferable option to drawing arbitrary distinctions in continuous data. This isn't exaclty continuous data as the ESG aggregations are all natural numbers, _but_ that is not the reason for the buckets. The reason for the buckets is to have some kind of aggregate at each stage across our data examples, so our data is not so broken up by a single ESG score with no examples, or just one example. If we run a regressor, the bottom of the regressor represents a ton of data points, and as we go higher it represents fewer and fewer data points such that the expected value up there means very little. \n",
    "\n",
    "I'd be very concerned to artificially divide this data into only _two_ buckets such that points close to the arbitrary division get lumped in with very different means. But breaking it up by fives gives us several buckets such that each bucket of data points contains data points that are roughly similar to one another in their ESG scores."
   ]
  },
  {
   "cell_type": "code",
   "execution_count": 28,
   "metadata": {
    "collapsed": false
   },
   "outputs": [],
   "source": [
    "all_data['emp_str_buckets'] = all_data.apply(lambda row: int(row['emp_str_sum'] / 5), axis=1)\n",
    "all_data['emp_con_buckets'] = all_data.apply(lambda row: int(row['emp_con_sum'] / 5), axis=1)\n",
    "all_data['env_str_buckets'] = all_data.apply(lambda row: int(row['env_str_sum'] / 5), axis=1)\n",
    "all_data['env_con_buckets'] = all_data.apply(lambda row: int(row['env_con_sum'] / 5), axis=1)"
   ]
  },
  {
   "cell_type": "code",
   "execution_count": 29,
   "metadata": {
    "collapsed": false
   },
   "outputs": [
    {
     "data": {
      "text/plain": [
       "[<matplotlib.lines.Line2D at 0x11aa53518>]"
      ]
     },
     "execution_count": 29,
     "metadata": {},
     "output_type": "execute_result"
    },
    {
     "data": {
      "image/png": "[encoded data removed]",
      "text/plain": [
       "<matplotlib.figure.Figure at 0x11a9b77b8>"
      ]
     },
     "metadata": {},
     "output_type": "display_data"
    }
   ],
   "source": [
    "def get_grouping_for(esg_metric, dataframe):\n",
    "    return dataframe.groupby(esg_metric).agg({'lower_conf_interval': ['count','mean','std']}).reset_index()\n",
    "\n",
    "emp_str_sum_group = get_grouping_for('emp_str_sum', all_data)\n",
    "emp_con_sum_group = get_grouping_for('emp_con_sum', all_data)\n",
    "env_str_sum_group = get_grouping_for('env_str_sum', all_data)\n",
    "env_con_sum_group = get_grouping_for('env_con_sum', all_data)\n",
    "\n",
    "f, ((ax1, ax2), (ax3, ax4)) = plt.subplots(2, 2, sharex='col', sharey='row', figsize=(20, 10))\n",
    "f.suptitle('ESG Sums Plotted Against Returns')\n",
    "ax1.plot(emp_str_sum_group['emp_str_sum'], emp_str_sum_group['lower_conf_interval']['mean'])\n",
    "ax2.plot(emp_con_sum_group['emp_con_sum'], emp_con_sum_group['lower_conf_interval']['mean'])\n",
    "ax3.plot(env_str_sum_group['env_str_sum'], env_str_sum_group['lower_conf_interval']['mean'])\n",
    "ax4.plot(env_con_sum_group['env_con_sum'], env_con_sum_group['lower_conf_interval']['mean'])"
   ]
  },
  {
   "cell_type": "markdown",
   "metadata": {},
   "source": [
    "Hmm. I'm not sure I see much of a trend here. Let's see if any of these ESG sums correlate with their mean lower confidence interval return."
   ]
  },
  {
   "cell_type": "code",
   "execution_count": 30,
   "metadata": {
    "collapsed": false
   },
   "outputs": [
    {
     "data": {
      "text/html": [
       "<div>\n",
       "<table border=\"1\" class=\"dataframe\">\n",
       "  <thead>\n",
       "    <tr style=\"text-align: right;\">\n",
       "      <th></th>\n",
       "      <th>emp_str_sum</th>\n",
       "      <th>emp_con_sum</th>\n",
       "      <th>env_str_sum</th>\n",
       "      <th>env_con_sum</th>\n",
       "      <th>lower_conf_interval</th>\n",
       "    </tr>\n",
       "  </thead>\n",
       "  <tbody>\n",
       "    <tr>\n",
       "      <th>emp_str_sum</th>\n",
       "      <td>1.000000</td>\n",
       "      <td>0.213114</td>\n",
       "      <td>0.342342</td>\n",
       "      <td>0.321241</td>\n",
       "      <td>0.055385</td>\n",
       "    </tr>\n",
       "    <tr>\n",
       "      <th>emp_con_sum</th>\n",
       "      <td>0.213114</td>\n",
       "      <td>1.000000</td>\n",
       "      <td>0.201488</td>\n",
       "      <td>0.415433</td>\n",
       "      <td>0.036110</td>\n",
       "    </tr>\n",
       "    <tr>\n",
       "      <th>env_str_sum</th>\n",
       "      <td>0.342342</td>\n",
       "      <td>0.201488</td>\n",
       "      <td>1.000000</td>\n",
       "      <td>0.486349</td>\n",
       "      <td>0.082377</td>\n",
       "    </tr>\n",
       "    <tr>\n",
       "      <th>env_con_sum</th>\n",
       "      <td>0.321241</td>\n",
       "      <td>0.415433</td>\n",
       "      <td>0.486349</td>\n",
       "      <td>1.000000</td>\n",
       "      <td>0.116089</td>\n",
       "    </tr>\n",
       "    <tr>\n",
       "      <th>lower_conf_interval</th>\n",
       "      <td>0.055385</td>\n",
       "      <td>0.036110</td>\n",
       "      <td>0.082377</td>\n",
       "      <td>0.116089</td>\n",
       "      <td>1.000000</td>\n",
       "    </tr>\n",
       "  </tbody>\n",
       "</table>\n",
       "</div>"
      ],
      "text/plain": [
       "                     emp_str_sum  emp_con_sum  env_str_sum  env_con_sum  \\\n",
       "emp_str_sum             1.000000     0.213114     0.342342     0.321241   \n",
       "emp_con_sum             0.213114     1.000000     0.201488     0.415433   \n",
       "env_str_sum             0.342342     0.201488     1.000000     0.486349   \n",
       "env_con_sum             0.321241     0.415433     0.486349     1.000000   \n",
       "lower_conf_interval     0.055385     0.036110     0.082377     0.116089   \n",
       "\n",
       "                     lower_conf_interval  \n",
       "emp_str_sum                     0.055385  \n",
       "emp_con_sum                     0.036110  \n",
       "env_str_sum                     0.082377  \n",
       "env_con_sum                     0.116089  \n",
       "lower_conf_interval             1.000000  "
      ]
     },
     "execution_count": 30,
     "metadata": {},
     "output_type": "execute_result"
    }
   ],
   "source": [
    "all_data[['emp_str_sum', 'emp_con_sum', 'env_str_sum', 'env_con_sum', 'lower_conf_interval']].corr()"
   ]
  },
  {
   "cell_type": "markdown",
   "metadata": {},
   "source": [
    "We're interested in the correlations between the esg sums on the left and the lower_conf_interval (last column). These are all very small correlations. A perfect direct correlation is 1. A perfect inverse correlation is -1. Zero means no correlation whatsoever. These correlation numbers arepretty darn close to zero.\n",
    "\n",
    "We'll have to dig deeper into the data."
   ]
  },
  {
   "cell_type": "markdown",
   "metadata": {
    "collapsed": true
   },
   "source": [
    "### Sixth, we determine what our results could mean."
   ]
  },
  {
   "cell_type": "markdown",
   "metadata": {},
   "source": [
    "OK friends, it's time to figure out what our data means, or rather, whether it means anything at all with respect to our question: do companies with higher str ESG scores and lower con ESG scores have lower stock returns than companies that perform more poorly on ESG metrics?"
   ]
  },
  {
   "cell_type": "markdown",
   "metadata": {},
   "source": [
    "First, let's calculate our confidence intervals for stock performance and determine if the stock performances for companies low ESG scores fall outside the confidence intervals for the stock performance of companies with high ESG scores."
   ]
  },
  {
   "cell_type": "code",
   "execution_count": 31,
   "metadata": {
    "collapsed": true
   },
   "outputs": [],
   "source": [
    "import math \n",
    "from scipy.stats import t\n",
    "import numpy as np"
   ]
  },
  {
   "cell_type": "markdown",
   "metadata": {},
   "source": [
    "First, let's make ourselves a method to get confidence intervals from summary statistics. That way, we can make interpretable groupings for all of our esg scores and get the confidence intervals on those scores based on how many companies had each esg score."
   ]
  },
  {
   "cell_type": "code",
   "execution_count": 32,
   "metadata": {
    "collapsed": true
   },
   "outputs": [],
   "source": [
    "def confidence_interval_for_collection(sample_size=[], standard_deviation=[], mean=[], confidence=0.95):\n",
    "    degrees_freedom = [count - 1 for count in sample_size] \n",
    "    outlier_tails = (1.0 - confidence) / 2.0\n",
    "    confidence_collection = [outlier_tails for _ in sample_size]\n",
    "    t_distribution_number = [-1 * t.ppf(tails, df) for tails, df in zip(confidence_collection, degrees_freedom)]\n",
    "\n",
    "    step_1 = [std/math.sqrt(count) for std, count in zip(standard_deviation, sample_size)]\n",
    "    step_2 = [step * t for step, t in zip(step_1, t_distribution_number)]\n",
    "\n",
    "    low_end = [mean_num - step_num for mean_num, step_num in zip(mean, step_2)]\n",
    "    high_end = [mean_num + step_num for mean_num, step_num in zip(mean, step_2)]\n",
    "\n",
    "    return low_end, high_end"
   ]
  },
  {
   "cell_type": "markdown",
   "metadata": {},
   "source": [
    "Now let's make ourselves some convenience methods to wrhangle our data. One of them will create the grouping we talked about before, aggregating each ESG metric to tell us a) how many companies had each score on the ESG metric, b) the mean return in that group of companies, and c) the standard deviation on returns in that group of companies. \n",
    "\n",
    "We'll use that data to get a lower limit and an upper limit on a _confidence interval_ around those returns based on how many measurements we have at each score.\n",
    "\n",
    "Finally, we'll make a method to plot the results of these groupings so we can eyeball our results."
   ]
  },
  {
   "cell_type": "code",
   "execution_count": 33,
   "metadata": {
    "collapsed": true
   },
   "outputs": [],
   "source": [
    "def prepare_confidence_data_for(esg_metric, grouping):\n",
    "    labels=grouping[esg_metric] \n",
    "    sample_size = grouping['lower_conf_interval']['count']\n",
    "    standard_deviation = grouping['lower_conf_interval']['std']\n",
    "    mean = mean = grouping['lower_conf_interval']['mean']\n",
    "    \n",
    "    low_end, high_end = confidence_interval_for_collection(sample_size, standard_deviation, mean)\n",
    "    df_with_confidence_limits = pd.concat([labels, sample_size, standard_deviation, mean], axis=1)\n",
    "    df_with_confidence_limits['.95 confidence level min'] = low_end\n",
    "    df_with_confidence_limits['.95 confidence level max'] = high_end\n",
    "    return df_with_confidence_limits\n",
    "    \n",
    "def plot_grouping(group_name, grouping, axes):\n",
    "    mini = axes.plot(grouping['.95 confidence level max'], color='r', label=\"Max of 0.95 Confidence Interval\")\n",
    "    mean = axes.plot(grouping['mean'], color='g', label=\"Mean\")\n",
    "    maxi = axes.plot(grouping['.95 confidence level min'], color='b', label=\"Min of 0.95 Confidence Interval\")\n",
    "    \n",
    "    legend = axes.legend(loc='upper right', shadow=True) "
   ]
  },
  {
   "cell_type": "markdown",
   "metadata": {},
   "source": [
    "Let's eyeball some charts!"
   ]
  },
  {
   "cell_type": "code",
   "execution_count": 34,
   "metadata": {
    "collapsed": false
   },
   "outputs": [
    {
     "data": {
      "image/png": "[encoded data removed]",
      "text/plain": [
       "<matplotlib.figure.Figure at 0x11a995048>"
      ]
     },
     "metadata": {},
     "output_type": "display_data"
    }
   ],
   "source": [
    "emp_str_confidence_interval_data = prepare_confidence_data_for('emp_str_sum', emp_str_sum_group)\n",
    "emp_con_confidence_interval_data = prepare_confidence_data_for('emp_con_sum', emp_con_sum_group)\n",
    "env_str_confidence_interval_data = prepare_confidence_data_for('env_str_sum', env_str_sum_group)\n",
    "env_con_confidence_interval_data = prepare_confidence_data_for('env_con_sum', env_con_sum_group)\n",
    "\n",
    "f, ((ax1, ax2), (ax3, ax4)) = plt.subplots(2, 2, sharex='col', sharey='row', figsize=(20, 10))\n",
    "f.suptitle('ESG Sums Plotted Against Returns')\n",
    "plot_grouping('Employment Strength Sums', emp_str_confidence_interval_data, ax1)\n",
    "plot_grouping('Employment Concern Sums', emp_con_confidence_interval_data, ax2)\n",
    "plot_grouping('Environmental Strength Sums', env_str_confidence_interval_data, ax3)\n",
    "plot_grouping('Emnvironmental Concern Sums', env_con_confidence_interval_data, ax4)"
   ]
  },
  {
   "cell_type": "markdown",
   "metadata": {},
   "source": [
    "Worth noting: You can tell from the cart the rough relative number of data points that we had for a given ESG score. Where you see no red, blue, or green lines, we had no data points for that ESG score. Where there is a green line but no red or blue lines, we had only one data point for that ESG score. Where there are red and blue lines and they are far apart, we had a few data points, but a small enough number that the confidence interval is still very wide. Where the red and blue lines flank the green line very closely, we had a _lot_ of data: the confidence interval for these is very close to the mean.\n",
    "\n",
    "This is a little hard to read with the skips in it. Let's bucket the scores and see how that looks:"
   ]
  },
  {
   "cell_type": "code",
   "execution_count": 35,
   "metadata": {
    "collapsed": false
   },
   "outputs": [
    {
     "data": {
      "image/png": "[encoded data removed]",
      "text/plain": [
       "<matplotlib.figure.Figure at 0x11b2b2b38>"
      ]
     },
     "metadata": {},
     "output_type": "display_data"
    }
   ],
   "source": [
    "emp_str_bucket_group = get_grouping_for('emp_str_buckets', all_data)\n",
    "emp_con_bucket_group = get_grouping_for('emp_con_buckets', all_data)\n",
    "env_str_bucket_group = get_grouping_for('env_str_buckets', all_data)\n",
    "env_con_bucket_group = get_grouping_for('env_con_buckets', all_data)\n",
    "\n",
    "emp_str_bucket_data = prepare_confidence_data_for('emp_str_buckets', emp_str_bucket_group)\n",
    "emp_con_bucket_data = prepare_confidence_data_for('emp_con_buckets', emp_con_bucket_group)\n",
    "env_str_bucket_data = prepare_confidence_data_for('env_str_buckets', env_str_bucket_group)\n",
    "env_con_bucket_data = prepare_confidence_data_for('env_con_buckets', env_con_bucket_group)\n",
    "\n",
    "f, ((ax1, ax2), (ax3, ax4)) = plt.subplots(2, 2, sharex='col', sharey='row', figsize=(20, 10))\n",
    "f.suptitle('ESG Sums Plotted Against Returns')\n",
    "plot_grouping('Bucketed Employment Strength Sums', emp_str_bucket_data, ax1)\n",
    "plot_grouping('Bucketed Employment Concern Sums', emp_con_bucket_data, ax2)\n",
    "plot_grouping('Bucketed Environmental Strength Sums', env_str_bucket_data, ax3)\n",
    "plot_grouping('BucketedEmnvironmental Concern Sums', env_con_bucket_data, ax4)"
   ]
  },
  {
   "cell_type": "markdown",
   "metadata": {},
   "source": [
    "Check out those widening confidence intervals as we get to the higher point ranges! You can practicelly see the number of exaxmples falling off.\n",
    "\n",
    "*So what am I looking for here?* I'm looking to see if the highest point on the _bottom_ of the confidence intervals on either side of the graph is higher than the _top_ of the confidence intervals on the other side. This break in overlap between the confidence intervals would provide a leading indication of a strong and meaningful difference in stock returns for companies with high versus low scores in any of these ESG metrics.\n",
    "\n",
    "I don't see that happen in any of these charts. The confidence intervals overlap significantly all the way across. So we can't be confident at all that stocks from the high ESG score groups will have higher or lower returns than the stocks from the low ESG score groups."
   ]
  },
  {
   "cell_type": "markdown",
   "metadata": {},
   "source": [
    "But wait! That doesn't necessarily mean that there is no meaningful difference. The confidence intervals can overlap for two series of points whose data _still_ has a meaningful difference. To determine whether it does, we need to perform additional significance testing—in this case, a _t test_. \n",
    "\n",
    "[How to do the independent samples t test](https://www.youtube.com/watch?v=jyoO4i8yUag)"
   ]
  },
  {
   "cell_type": "code",
   "execution_count": 36,
   "metadata": {
    "collapsed": true
   },
   "outputs": [],
   "source": [
    "def t_test_for(num_samples_1, standard_deviatcion_1, mean1, num_samples_2, standard_deviation_2, mean2, confidence=0.95, num_comparisons=1):\n",
    "  alpha = (1 - confidence)/float(num_comparisons)\n",
    "  total_degrees_freedom = num_samples_1 + num_samples_2 - 2\n",
    "\n",
    "  t_distribution_number = -1 * t.ppf(alpha, total_degrees_freedom)\n",
    "\n",
    "  degrees_freedom_1 = num_samples_1 - 1\n",
    "  degrees_freedom_2 = num_samples_2 - 1\n",
    "  sum_of_squares_1 = (standard_deviation_1 ** 2) * degrees_freedom_1\n",
    "  sum_of_squares_2 = (standard_deviation_2 ** 2) * degrees_freedom_2\n",
    "\n",
    "  combined_variance = (sum_of_squares_1 + sum_of_squares_2) / (degrees_freedom_1 + degrees_freedom_2)\n",
    "  first_dividend_addend = combined_variance/float(num_samples_1)\n",
    "  second_dividend_addend = combined_variance/float(num_samples_2)\n",
    "\n",
    "  denominator = math.sqrt(first_dividend_addend + second_dividend_addend)\n",
    "  numerator = mean1 - mean2\n",
    "  t_value = float(numerator)/float(denominator)\n",
    "\n",
    "  accept_null_hypothesis = abs(t_value) < abs(t_distribution_number) #results are not significant\n",
    "\n",
    "  return accept_null_hypothesis, t_value           "
   ]
  },
  {
   "cell_type": "markdown",
   "metadata": {
    "collapsed": false
   },
   "source": [
    "We have written a method that will tell us, firstly, whether to accept or reject the _null hypothesis_, which assumes no meaningful difference between the two sets of data we want to compare. I have named that output 'accept_null_hypothesis' because I don't love the ubiquitous use of the confounding phrase 'reject the null hypothesis' in scientifi inquiry. It's a double negative (_reject_ the _absence_ of meaningful difference), which adds an unnecessary additional piece of mental acrobatics to the (already frequently herculean) task of determining what, exactly, the scientists are trying to say in their conclusion paragraph.\n",
    "\n",
    "We are going with _accept_ the _absence of_ meaningful difference as the variable name for two reasons. First of all, we remove the double negative this way. Second of all, accepting the null hypothesis is (or should be) the outcome of  the vast majority of scientific inquiry. Scientists, collectively, test a _whole bunch_ of stuff to see what has an effect. Most of the things tried, it turns out, don't have that effect. So our `accept_null_hypothesis` value will usually be true. When it's false, we should sit up and pay attention."
   ]
  },
  {
   "cell_type": "code",
   "execution_count": 37,
   "metadata": {
    "collapsed": false
   },
   "outputs": [
    {
     "name": "stdout",
     "output_type": "stream",
     "text": [
      "True\n",
      "0.9045209709738401\n"
     ]
    },
    {
     "name": "stderr",
     "output_type": "stream",
     "text": [
      "//anaconda/lib/python3.6/site-packages/ipykernel/__main__.py:1: FutureWarning: sort(columns=....) is deprecated, use sort_values(by=.....)\n",
      "  if __name__ == '__main__':\n",
      "//anaconda/lib/python3.6/site-packages/ipykernel/__main__.py:2: FutureWarning: sort(columns=....) is deprecated, use sort_values(by=.....)\n",
      "  from ipykernel import kernelapp as app\n",
      "//anaconda/lib/python3.6/site-packages/ipykernel/__main__.py:4: FutureWarning: sort(columns=....) is deprecated, use sort_values(by=.....)\n",
      "//anaconda/lib/python3.6/site-packages/ipykernel/__main__.py:5: FutureWarning: sort(columns=....) is deprecated, use sort_values(by=.....)\n"
     ]
    }
   ],
   "source": [
    "mean1 = all_data.sort('emp_str_sum', ascending=False).iloc[0:20, :]['lower_conf_interval'].mean()\n",
    "std1 = all_data.sort('emp_str_sum', ascending=False).iloc[0:20, :]['lower_conf_interval'].std()\n",
    "\n",
    "mean2 = all_data.sort('emp_str_sum').iloc[0:20, :]['lower_conf_interval'].mean()\n",
    "std2 = all_data.sort('emp_str_sum').iloc[0:20, :]['lower_conf_interval'].std()\n",
    "\n",
    "n1 = 20\n",
    "n2 = 20\n",
    "\n",
    "accept_null_hypothesis, t_value = t_test_for(n1, std1, mean1, n2, std2, mean2)\n",
    "print(accept_null_hypothesis)\n",
    "print(t_value)"
   ]
  },
  {
   "cell_type": "code",
   "execution_count": 38,
   "metadata": {
    "collapsed": false
   },
   "outputs": [
    {
     "name": "stdout",
     "output_type": "stream",
     "text": [
      "True\n",
      "0.8148459441345176\n"
     ]
    },
    {
     "name": "stderr",
     "output_type": "stream",
     "text": [
      "//anaconda/lib/python3.6/site-packages/ipykernel/__main__.py:1: FutureWarning: sort(columns=....) is deprecated, use sort_values(by=.....)\n",
      "  if __name__ == '__main__':\n",
      "//anaconda/lib/python3.6/site-packages/ipykernel/__main__.py:2: FutureWarning: sort(columns=....) is deprecated, use sort_values(by=.....)\n",
      "  from ipykernel import kernelapp as app\n",
      "//anaconda/lib/python3.6/site-packages/ipykernel/__main__.py:4: FutureWarning: sort(columns=....) is deprecated, use sort_values(by=.....)\n",
      "//anaconda/lib/python3.6/site-packages/ipykernel/__main__.py:5: FutureWarning: sort(columns=....) is deprecated, use sort_values(by=.....)\n"
     ]
    }
   ],
   "source": [
    "mean1 = all_data.sort('emp_con_sum', ascending=False).iloc[0:20, :]['lower_conf_interval'].mean()\n",
    "std1 = all_data.sort('emp_con_sum', ascending=False).iloc[0:20, :]['lower_conf_interval'].std()\n",
    "\n",
    "mean2 = all_data.sort('emp_con_sum').iloc[0:20, :]['lower_conf_interval'].mean()\n",
    "std2 = all_data.sort('emp_con_sum').iloc[0:20, :]['lower_conf_interval'].std()\n",
    "\n",
    "n1 = 20\n",
    "n2 = 20\n",
    "\n",
    "accept_null_hypothesis, t_value = t_test_for(n1, std1, mean1, n2, std2, mean2)\n",
    "print(accept_null_hypothesis)\n",
    "print(t_value)"
   ]
  },
  {
   "cell_type": "code",
   "execution_count": 39,
   "metadata": {
    "collapsed": false
   },
   "outputs": [
    {
     "name": "stdout",
     "output_type": "stream",
     "text": [
      "True\n",
      "0.5527330264232702\n"
     ]
    },
    {
     "name": "stderr",
     "output_type": "stream",
     "text": [
      "//anaconda/lib/python3.6/site-packages/ipykernel/__main__.py:1: FutureWarning: sort(columns=....) is deprecated, use sort_values(by=.....)\n",
      "  if __name__ == '__main__':\n",
      "//anaconda/lib/python3.6/site-packages/ipykernel/__main__.py:2: FutureWarning: sort(columns=....) is deprecated, use sort_values(by=.....)\n",
      "  from ipykernel import kernelapp as app\n",
      "//anaconda/lib/python3.6/site-packages/ipykernel/__main__.py:4: FutureWarning: sort(columns=....) is deprecated, use sort_values(by=.....)\n",
      "//anaconda/lib/python3.6/site-packages/ipykernel/__main__.py:5: FutureWarning: sort(columns=....) is deprecated, use sort_values(by=.....)\n"
     ]
    }
   ],
   "source": [
    "mean1 = all_data.sort('env_str_sum', ascending=False).iloc[0:20, :]['lower_conf_interval'].mean()\n",
    "std1 = all_data.sort('env_str_sum', ascending=False).iloc[0:20, :]['lower_conf_interval'].std()\n",
    "\n",
    "mean2 = all_data.sort('env_str_sum').iloc[0:20, :]['lower_conf_interval'].mean()\n",
    "std2 = all_data.sort('env_str_sum').iloc[0:20, :]['lower_conf_interval'].std()\n",
    "\n",
    "n1 = 20\n",
    "n2 = 20\n",
    "\n",
    "\n",
    "accept_null_hypothesis, t_value = t_test_for(n1, std1, mean1, n2, std2, mean2)\n",
    "print(accept_null_hypothesis)\n",
    "print(t_value)"
   ]
  },
  {
   "cell_type": "code",
   "execution_count": 40,
   "metadata": {
    "collapsed": false
   },
   "outputs": [
    {
     "name": "stdout",
     "output_type": "stream",
     "text": [
      "True\n",
      "1.637305984889984\n"
     ]
    },
    {
     "name": "stderr",
     "output_type": "stream",
     "text": [
      "//anaconda/lib/python3.6/site-packages/ipykernel/__main__.py:1: FutureWarning: sort(columns=....) is deprecated, use sort_values(by=.....)\n",
      "  if __name__ == '__main__':\n",
      "//anaconda/lib/python3.6/site-packages/ipykernel/__main__.py:2: FutureWarning: sort(columns=....) is deprecated, use sort_values(by=.....)\n",
      "  from ipykernel import kernelapp as app\n",
      "//anaconda/lib/python3.6/site-packages/ipykernel/__main__.py:4: FutureWarning: sort(columns=....) is deprecated, use sort_values(by=.....)\n",
      "//anaconda/lib/python3.6/site-packages/ipykernel/__main__.py:5: FutureWarning: sort(columns=....) is deprecated, use sort_values(by=.....)\n"
     ]
    }
   ],
   "source": [
    "mean1 = all_data.sort('env_con_sum', ascending=False).iloc[0:20, :]['lower_conf_interval'].mean()\n",
    "std1 = all_data.sort('env_con_sum', ascending=False).iloc[0:20, :]['lower_conf_interval'].std()\n",
    "\n",
    "mean2 = all_data.sort('env_con_sum').iloc[0:20, :]['lower_conf_interval'].mean()\n",
    "std2 = all_data.sort('env_con_sum').iloc[0:20, :]['lower_conf_interval'].std()\n",
    "\n",
    "n1 = 20\n",
    "n2 = 20\n",
    "\n",
    "accept_null_hypothesis, t_value = t_test_for(n1, std1, mean1, n2, std2, mean2)\n",
    "print(accept_null_hypothesis)\n",
    "print(t_value)"
   ]
  },
  {
   "cell_type": "markdown",
   "metadata": {},
   "source": [
    "How about that! So far, accepting the null hypothesis everywhere. It appears that we cannot meaninfgully separate the stock performance of companies on either end of the spectrum for each of their employment policy ESG scores."
   ]
  },
  {
   "cell_type": "markdown",
   "metadata": {
    "collapsed": true
   },
   "source": [
    "#### Conclusion\n",
    "\n",
    "On this pass, we have taken a much more thorough look at our data with respect to how well it approximates the real world and how certain we are about that approximation. \n",
    "\n",
    "This did not mean tacking on a test for statistical significance at the end: it meant rethinking our analysis from the very beginning, including _what our target variable would be_ (previously extrapolated annual roi, now back to mean quarterly roi) and also _how we would represent it_ (with the bottom end of the confidence interval instead of the mean itself). \n",
    "\n",
    "It also meant checking our results more thoroughly along the way, identifying unrealistic values in the data, understanding why those values were what they were, and replacing them with values that better approximate reality. \n",
    "\n",
    "Finally, it meant conducting a t test rather than eyeballing the results. \n",
    "\n",
    "The result here provides an excellent example of the difference between how data might be interpreted or perceived versus what it really represents. When we use the bottom of the confidence intervals, we're looking at a _lot_ of _losses_ in shareholder value. It's important to note that this isn't really what happened. It is, more accurately, a statistically derived worst-case scenario for a company that did everything that a given example company did, based on the metrics we have about how that company actually did. That is _not useful_ for predicting what the stock returns for the example company will be in the future (fun fact: trying to predict stock returns in general is not that useful, as straight-up index matching outperforms the vast majority of shrewder, prediction-based investment strategies in the long term. I don't miss our loss of predictive value because there wasn't much demonstrated value there to begin with.)\n",
    "\n",
    "At any rate, what it _is_ useful for is accurately representing the fact that there is a lot we do not know and attempting to account for that in a comparison of stock returns relative to ESG ratings. We're not trying to predict returns by company: we're trying to determine if companies with favorable ESG scores, in aggregate, underperform on the stock market relative to companies with unfavorable ESG scores. For this, our data is useful.\n",
    "\n",
    "And, as we've established, we don't see in this analysis a meaningful difference in any of our cases. This bodes well for the _application_ question—can I create a socially conscious investment portfolio without sacrificing returns on my investment?\n",
    "\n",
    "There's more to look at to get a more definitive answer to this question. But so far, what we're seeing points to _yes_. "
   ]
  },
  {
   "cell_type": "markdown",
   "metadata": {},
   "source": [
    "#### Additional Notes\n",
    "\n",
    "While I am much happier with our process in this run of the notebook, I am highly dissatisfied with the state of the code. It's very scripty, parts of it feel repetitive, and it all has to be run in order because I reused variable names. I would call the work up to this point an _exploration phase_. If I were to ship this work for any kind of reuse, I'd like it to look nothing like this. Maybe we'll make that a follow-up post later about this notebook, or maybe we'll focus more on that in our next note book series."
   ]
  },
  {
   "cell_type": "code",
   "execution_count": 60,
   "metadata": {
    "collapsed": true
   },
   "outputs": [],
   "source": [
    "import scipy.stats as stats\n",
    "\n",
    "def p_value_for(num_samples_1, standard_deviation_1, mean1, num_samples_2, standard_deviation_2, mean2, confidence=0.95, num_comparisons=1):\n",
    "  alpha = (1 - confidence)/num_comparisons\n",
    "  total_degrees_freedom = num_samples_1 + num_samples_2 - 2\n",
    "\n",
    "  degrees_freedom_1 = num_samples_1 - 1\n",
    "  degrees_freedom_2 = num_samples_2 - 1\n",
    "  combined_degrees_freedom = degrees_freedom_1 + degrees_freedom_2\n",
    "\n",
    "  variance_1 = (standard_deviation_1 ** 2)\n",
    "  variance_2 = (standard_deviation_2 ** 2)\n",
    "\n",
    "  combined_variance_1 = (variance_1 / num_samples_1)\n",
    "  combined_variance_2 = (variance_2 / num_samples_2)\n",
    "  mean_standard_error = math.sqrt(combined_variance_1 + combined_variance_2)\n",
    "    \n",
    "  t_statistic = float(mean1 - mean2)/float(mean_standard_error)\n",
    "    \n",
    "  p_value = stats.t.sf(np.abs(t_statistic), combined_degrees_freedom) * 2  # two-sided p value = probability abs(t) > tt)\n",
    "  comparison_adjusted_p_value = p_value/float(num_comparisons)\n",
    "  return comparison_adjusted_p_value"
   ]
  },
  {
   "cell_type": "code",
   "execution_count": 111,
   "metadata": {
    "collapsed": false
   },
   "outputs": [],
   "source": [
    "class EsgMetricAnalysis():\n",
    "    def __init__(self, name):\n",
    "        self.name = name\n",
    "        \n",
    "        self.low_esg_metric_mean = 0\n",
    "        self.low_esg_metric_std = 0\n",
    "        self.low_esg_metric_num_examples = 0\n",
    "    \n",
    "        self.high_esg_metric_mean = 0\n",
    "        self.high_esg_metric_std = 0\n",
    "        self.high_esg_metric_num_examples = 0\n",
    "    \n",
    "        self.esg_marker_sum_grouping = {}\n",
    "        self.esg_marker_confidence_interval_data = {}\n",
    "        self.esg_marker_bucket_group = {}\n",
    "        self.esg_marker_bucket_data = {}\n",
    "    \n",
    "    def plots(self):\n",
    "        f, ((ax1, ax2), (ax3, ax4), (ax5, ax6)) = plt.subplots(3, 2, sharex='col', sharey='row', figsize=(30, 20))\n",
    "        f.suptitle('ESG Sums Plotted Against Returns')\n",
    "        ax1.scatter(x=all_data[self.name + '_sum'], y=all_data['lower_conf_interval'])\n",
    "        ax2.hist(x=all_data[self.name + '_sum'])\n",
    "        ax3.plot(self.esg_marker_sum_grouping[self.name + '_sum'], self.esg_marker_sum_grouping['lower_conf_interval']['mean'])\n",
    "        plot_grouping('Employment Strength Sums', self.esg_marker_confidence_interval_data, ax4)\n",
    "        plot_grouping('Bucketed Employment Strength Sums', self.esg_marker_bucket_data, ax5)"
   ]
  },
  {
   "cell_type": "code",
   "execution_count": 112,
   "metadata": {
    "collapsed": true
   },
   "outputs": [],
   "source": [
    "def do_the_whole_dance_with(esg_metric=None, num_comparisons=1):\n",
    "    analysis = EsgMetricAnalysis(esg_metric)\n",
    "    \n",
    "    esg_marker_data[esg_metric + '_sum'] = sum_scores_for(aggregate_data, esg_metric + '_sum')[esg_metric + '_sum']\n",
    "    all_data[esg_metric + '_buckets'] = all_data.apply(lambda row: int(row[esg_metric + '_sum'] / 5), axis=1)\n",
    "    \n",
    "    analysis.esg_marker_sum_grouping = get_grouping_for(esg_metric + '_sum', all_data)\n",
    "    #####\n",
    "    analysis.esg_marker_confidence_interval_data = prepare_confidence_data_for(esg_metric + '_sum', analysis.esg_marker_sum_grouping)\n",
    "    analysis.esg_marker_bucket_group = get_grouping_for(esg_metric + '_buckets', all_data)\n",
    "    ######\n",
    "    analysis.esg_marker_bucket_data = prepare_confidence_data_for(esg_metric + '_buckets', analysis.esg_marker_bucket_group)\n",
    "\n",
    "    analysis.low_esg_metric_mean = all_data.sort_values(by=esg_metric + '_sum', ascending=False).iloc[0:20, :]['lower_conf_interval'].mean()\n",
    "    analysis.low_esg_metric_std = all_data.sort_values(by=esg_metric + '_sum', ascending=False).iloc[0:20, :]['lower_conf_interval'].std()\n",
    "\n",
    "    analysis.high_esg_metric_mean = all_data.sort_values(by=esg_metric + '_sum').iloc[0:20, :]['lower_conf_interval'].mean()\n",
    "    analysis.high_esg_metric_std = all_data.sort_values(by=esg_metric + '_sum').iloc[0:20, :]['lower_conf_interval'].std()\n",
    "\n",
    "    analysis.low_esg_metric_num_examples = 20\n",
    "    analysis.high_esg_metric_num_examples = 20\n",
    "\n",
    "    accept_null_hypothesis, t_value = t_test_for(\n",
    "        analysis.low_esg_metric_num_examples, \n",
    "        analysis.low_esg_metric_std, \n",
    "        analysis.low_esg_metric_mean, \n",
    "        analysis.high_esg_metric_num_examples, \n",
    "        analysis.high_esg_metric_std, \n",
    "        analysis.high_esg_metric_mean, \n",
    "        num_comparisons=num_comparisons\n",
    "    )\n",
    "    print(accept_null_hypothesis)\n",
    "    print(t_value)\n",
    "    \n",
    "    pval = p_value_for(\n",
    "        analysis.low_esg_metric_num_examples, \n",
    "        analysis.low_esg_metric_std, \n",
    "        analysis.low_esg_metric_mean, \n",
    "        analysis.high_esg_metric_num_examples, \n",
    "        analysis.high_esg_metric_std, \n",
    "        analysis.high_esg_metric_mean, \n",
    "        num_comparisons=num_comparisons\n",
    "    )\n",
    "    print('p value = %6.4f' % (pval))\n",
    "\n",
    "    return analysis"
   ]
  },
  {
   "cell_type": "code",
   "execution_count": 113,
   "metadata": {
    "collapsed": false
   },
   "outputs": [
    {
     "name": "stdout",
     "output_type": "stream",
     "text": [
      "False\n",
      "1.7617497429924716\n",
      "p value = 0.0862\n"
     ]
    },
    {
     "data": {
      "image/png": "[encoded data removed]",
      "text/plain": [
       "<matplotlib.figure.Figure at 0x125dedba8>"
      ]
     },
     "metadata": {},
     "output_type": "display_data"
    }
   ],
   "source": [
    "analysis = do_the_whole_dance_with('div_str')\n",
    "analysis.plots()"
   ]
  },
  {
   "cell_type": "markdown",
   "metadata": {},
   "source": [
    "Now that we have created a way to run our analysis quickly on several ESG metrics, let's try it on several of them at one time.\n",
    "\n",
    "Ah! But when we do this, there's something we have to watch out for: multiple comparisons! For each individual ESG metric, we are comparing the same examples. Remember that, if we test enough variables about our companies, eventually some of them will demonstrate a meaningful-looking effect by pure chance. A p-value of 0.05 _still means_ a 5% probability of just such a chance occurrence, and when you do 100 comparisons the probability of at least one such false positive rises to...99%.\n",
    "\n",
    "We are not making 99 comparisons, but we are making 11. For 11 comparisons at a p value of 0.05, the probability of a meaningful-looking result occurring by chance is..."
   ]
  },
  {
   "cell_type": "code",
   "execution_count": 50,
   "metadata": {
    "collapsed": false
   },
   "outputs": [
    {
     "data": {
      "text/plain": [
       "0.43119990772354033"
      ]
     },
     "execution_count": 50,
     "metadata": {},
     "output_type": "execute_result"
    }
   ],
   "source": [
    "1-(0.95**11)"
   ]
  },
  {
   "cell_type": "markdown",
   "metadata": {},
   "source": [
    "...0.43. That is, there's a 43% chance we get a false positive. That's a fairly high probability. \n",
    "\n",
    "There are a few ways to adjust our calculations for multiple comparisons. The most hamfisted of these, the Bonferroni Correction, adjusts by dividing our starting p value by the number of comparisons we make and using that as the working p-value. So in this case, our working p value would be... "
   ]
  },
  {
   "cell_type": "code",
   "execution_count": 52,
   "metadata": {
    "collapsed": false
   },
   "outputs": [
    {
     "data": {
      "text/plain": [
       "0.004545454545454546"
      ]
     },
     "execution_count": 52,
     "metadata": {},
     "output_type": "execute_result"
    }
   ],
   "source": [
    "0.05 /11"
   ]
  },
  {
   "cell_type": "markdown",
   "metadata": {},
   "source": [
    "...0.004. Very, very tiny. \n",
    "\n",
    "Unsurprisingly, when we run our analysis with the Bonferroni correction, we do not find a single statistically significant difference in stock prices among the lot. Check it out:"
   ]
  },
  {
   "cell_type": "code",
   "execution_count": 68,
   "metadata": {
    "collapsed": false,
    "scrolled": true
   },
   "outputs": [
    {
     "name": "stdout",
     "output_type": "stream",
     "text": [
      "True\n",
      "0.9045209709738401\n",
      "p value = 0.0338\n"
     ]
    },
    {
     "name": "stderr",
     "output_type": "stream",
     "text": [
      "//anaconda/lib/python3.6/site-packages/ipykernel/__main__.py:12: FutureWarning: sort(columns=....) is deprecated, use sort_values(by=.....)\n",
      "//anaconda/lib/python3.6/site-packages/ipykernel/__main__.py:13: FutureWarning: sort(columns=....) is deprecated, use sort_values(by=.....)\n",
      "//anaconda/lib/python3.6/site-packages/ipykernel/__main__.py:15: FutureWarning: sort(columns=....) is deprecated, use sort_values(by=.....)\n",
      "//anaconda/lib/python3.6/site-packages/ipykernel/__main__.py:16: FutureWarning: sort(columns=....) is deprecated, use sort_values(by=.....)\n"
     ]
    },
    {
     "ename": "KeyError",
     "evalue": "'emp_con_sum'",
     "output_type": "error",
     "traceback": [
      "\u001b[0;31m---------------------------------------------------------------------------\u001b[0m",
      "\u001b[0;31mKeyError\u001b[0m                                  Traceback (most recent call last)",
      "\u001b[0;32m//anaconda/lib/python3.6/site-packages/pandas/indexes/base.py\u001b[0m in \u001b[0;36mget_loc\u001b[0;34m(self, key, method, tolerance)\u001b[0m\n\u001b[1;32m   2133\u001b[0m             \u001b[0;32mtry\u001b[0m\u001b[0;34m:\u001b[0m\u001b[0;34m\u001b[0m\u001b[0m\n\u001b[0;32m-> 2134\u001b[0;31m                 \u001b[0;32mreturn\u001b[0m \u001b[0mself\u001b[0m\u001b[0;34m.\u001b[0m\u001b[0m_engine\u001b[0m\u001b[0;34m.\u001b[0m\u001b[0mget_loc\u001b[0m\u001b[0;34m(\u001b[0m\u001b[0mkey\u001b[0m\u001b[0;34m)\u001b[0m\u001b[0;34m\u001b[0m\u001b[0m\n\u001b[0m\u001b[1;32m   2135\u001b[0m             \u001b[0;32mexcept\u001b[0m \u001b[0mKeyError\u001b[0m\u001b[0;34m:\u001b[0m\u001b[0;34m\u001b[0m\u001b[0m\n",
      "\u001b[0;32mpandas/index.pyx\u001b[0m in \u001b[0;36mpandas.index.IndexEngine.get_loc (pandas/index.c:4433)\u001b[0;34m()\u001b[0m\n",
      "\u001b[0;32mpandas/index.pyx\u001b[0m in \u001b[0;36mpandas.index.IndexEngine.get_loc (pandas/index.c:4279)\u001b[0;34m()\u001b[0m\n",
      "\u001b[0;32mpandas/src/hashtable_class_helper.pxi\u001b[0m in \u001b[0;36mpandas.hashtable.PyObjectHashTable.get_item (pandas/hashtable.c:13742)\u001b[0;34m()\u001b[0m\n",
      "\u001b[0;32mpandas/src/hashtable_class_helper.pxi\u001b[0m in \u001b[0;36mpandas.hashtable.PyObjectHashTable.get_item (pandas/hashtable.c:13696)\u001b[0;34m()\u001b[0m\n",
      "\u001b[0;31mKeyError\u001b[0m: 'emp_con_sum'",
      "\nDuring handling of the above exception, another exception occurred:\n",
      "\u001b[0;31mKeyError\u001b[0m                                  Traceback (most recent call last)",
      "\u001b[0;32m<ipython-input-68-d81f5a61e5a8>\u001b[0m in \u001b[0;36m<module>\u001b[0;34m()\u001b[0m\n\u001b[1;32m     14\u001b[0m \u001b[0;34m\u001b[0m\u001b[0m\n\u001b[1;32m     15\u001b[0m \u001b[0;32mfor\u001b[0m \u001b[0mesg\u001b[0m \u001b[0;32min\u001b[0m \u001b[0mesgs\u001b[0m\u001b[0;34m:\u001b[0m\u001b[0;34m\u001b[0m\u001b[0m\n\u001b[0;32m---> 16\u001b[0;31m     \u001b[0mdo_the_whole_dance_with\u001b[0m\u001b[0;34m(\u001b[0m\u001b[0mesg\u001b[0m\u001b[0;34m,\u001b[0m \u001b[0mnum_comparisons\u001b[0m\u001b[0;34m=\u001b[0m\u001b[0;36m11\u001b[0m\u001b[0;34m)\u001b[0m\u001b[0;34m\u001b[0m\u001b[0m\n\u001b[0m",
      "\u001b[0;32m<ipython-input-67-b92dd6e4dc64>\u001b[0m in \u001b[0;36mdo_the_whole_dance_with\u001b[0;34m(esg_metric, num_comparisons)\u001b[0m\n\u001b[1;32m      6\u001b[0m \u001b[0;34m\u001b[0m\u001b[0m\n\u001b[1;32m      7\u001b[0m     \u001b[0manalysis\u001b[0m\u001b[0;34m.\u001b[0m\u001b[0mesg_marker_sum_grouping\u001b[0m \u001b[0;34m=\u001b[0m \u001b[0mget_grouping_for\u001b[0m\u001b[0;34m(\u001b[0m\u001b[0mesg_metric\u001b[0m \u001b[0;34m+\u001b[0m \u001b[0;34m'_sum'\u001b[0m\u001b[0;34m,\u001b[0m \u001b[0mall_data\u001b[0m\u001b[0;34m)\u001b[0m\u001b[0;34m\u001b[0m\u001b[0m\n\u001b[0;32m----> 8\u001b[0;31m     \u001b[0manalysis\u001b[0m\u001b[0;34m.\u001b[0m\u001b[0mesg_marker_confidence_interval_data\u001b[0m \u001b[0;34m=\u001b[0m \u001b[0mprepare_confidence_data_for\u001b[0m\u001b[0;34m(\u001b[0m\u001b[0mesg_metric\u001b[0m \u001b[0;34m+\u001b[0m \u001b[0;34m'_sum'\u001b[0m\u001b[0;34m,\u001b[0m \u001b[0memp_str_sum_group\u001b[0m\u001b[0;34m)\u001b[0m\u001b[0;34m\u001b[0m\u001b[0m\n\u001b[0m\u001b[1;32m      9\u001b[0m     \u001b[0manalysis\u001b[0m\u001b[0;34m.\u001b[0m\u001b[0mesg_marker_bucket_group\u001b[0m \u001b[0;34m=\u001b[0m \u001b[0mget_grouping_for\u001b[0m\u001b[0;34m(\u001b[0m\u001b[0mesg_metric\u001b[0m \u001b[0;34m+\u001b[0m \u001b[0;34m'_buckets'\u001b[0m\u001b[0;34m,\u001b[0m \u001b[0mall_data\u001b[0m\u001b[0;34m)\u001b[0m\u001b[0;34m\u001b[0m\u001b[0m\n\u001b[1;32m     10\u001b[0m     \u001b[0manalysis\u001b[0m\u001b[0;34m.\u001b[0m\u001b[0mesg_marker_bucket_data\u001b[0m \u001b[0;34m=\u001b[0m \u001b[0mprepare_confidence_data_for\u001b[0m\u001b[0;34m(\u001b[0m\u001b[0mesg_metric\u001b[0m \u001b[0;34m+\u001b[0m \u001b[0;34m'_buckets'\u001b[0m\u001b[0;34m,\u001b[0m \u001b[0memp_str_bucket_group\u001b[0m\u001b[0;34m)\u001b[0m\u001b[0;34m\u001b[0m\u001b[0m\n",
      "\u001b[0;32m<ipython-input-33-d305ddf513be>\u001b[0m in \u001b[0;36mprepare_confidence_data_for\u001b[0;34m(esg_metric, grouping)\u001b[0m\n\u001b[1;32m      1\u001b[0m \u001b[0;32mdef\u001b[0m \u001b[0mprepare_confidence_data_for\u001b[0m\u001b[0;34m(\u001b[0m\u001b[0mesg_metric\u001b[0m\u001b[0;34m,\u001b[0m \u001b[0mgrouping\u001b[0m\u001b[0;34m)\u001b[0m\u001b[0;34m:\u001b[0m\u001b[0;34m\u001b[0m\u001b[0m\n\u001b[0;32m----> 2\u001b[0;31m     \u001b[0mlabels\u001b[0m\u001b[0;34m=\u001b[0m\u001b[0mgrouping\u001b[0m\u001b[0;34m[\u001b[0m\u001b[0mesg_metric\u001b[0m\u001b[0;34m]\u001b[0m\u001b[0;34m\u001b[0m\u001b[0m\n\u001b[0m\u001b[1;32m      3\u001b[0m     \u001b[0msample_size\u001b[0m \u001b[0;34m=\u001b[0m \u001b[0mgrouping\u001b[0m\u001b[0;34m[\u001b[0m\u001b[0;34m'lower_conf_interval'\u001b[0m\u001b[0;34m]\u001b[0m\u001b[0;34m[\u001b[0m\u001b[0;34m'count'\u001b[0m\u001b[0;34m]\u001b[0m\u001b[0;34m\u001b[0m\u001b[0m\n\u001b[1;32m      4\u001b[0m     \u001b[0mstandard_deviation\u001b[0m \u001b[0;34m=\u001b[0m \u001b[0mgrouping\u001b[0m\u001b[0;34m[\u001b[0m\u001b[0;34m'lower_conf_interval'\u001b[0m\u001b[0;34m]\u001b[0m\u001b[0;34m[\u001b[0m\u001b[0;34m'std'\u001b[0m\u001b[0;34m]\u001b[0m\u001b[0;34m\u001b[0m\u001b[0m\n\u001b[1;32m      5\u001b[0m     \u001b[0mmean\u001b[0m \u001b[0;34m=\u001b[0m \u001b[0mmean\u001b[0m \u001b[0;34m=\u001b[0m \u001b[0mgrouping\u001b[0m\u001b[0;34m[\u001b[0m\u001b[0;34m'lower_conf_interval'\u001b[0m\u001b[0;34m]\u001b[0m\u001b[0;34m[\u001b[0m\u001b[0;34m'mean'\u001b[0m\u001b[0;34m]\u001b[0m\u001b[0;34m\u001b[0m\u001b[0m\n",
      "\u001b[0;32m//anaconda/lib/python3.6/site-packages/pandas/core/frame.py\u001b[0m in \u001b[0;36m__getitem__\u001b[0;34m(self, key)\u001b[0m\n\u001b[1;32m   2055\u001b[0m             \u001b[0;32mreturn\u001b[0m \u001b[0mself\u001b[0m\u001b[0;34m.\u001b[0m\u001b[0m_getitem_frame\u001b[0m\u001b[0;34m(\u001b[0m\u001b[0mkey\u001b[0m\u001b[0;34m)\u001b[0m\u001b[0;34m\u001b[0m\u001b[0m\n\u001b[1;32m   2056\u001b[0m         \u001b[0;32melif\u001b[0m \u001b[0mis_mi_columns\u001b[0m\u001b[0;34m:\u001b[0m\u001b[0;34m\u001b[0m\u001b[0m\n\u001b[0;32m-> 2057\u001b[0;31m             \u001b[0;32mreturn\u001b[0m \u001b[0mself\u001b[0m\u001b[0;34m.\u001b[0m\u001b[0m_getitem_multilevel\u001b[0m\u001b[0;34m(\u001b[0m\u001b[0mkey\u001b[0m\u001b[0;34m)\u001b[0m\u001b[0;34m\u001b[0m\u001b[0m\n\u001b[0m\u001b[1;32m   2058\u001b[0m         \u001b[0;32melse\u001b[0m\u001b[0;34m:\u001b[0m\u001b[0;34m\u001b[0m\u001b[0m\n\u001b[1;32m   2059\u001b[0m             \u001b[0;32mreturn\u001b[0m \u001b[0mself\u001b[0m\u001b[0;34m.\u001b[0m\u001b[0m_getitem_column\u001b[0m\u001b[0;34m(\u001b[0m\u001b[0mkey\u001b[0m\u001b[0;34m)\u001b[0m\u001b[0;34m\u001b[0m\u001b[0m\n",
      "\u001b[0;32m//anaconda/lib/python3.6/site-packages/pandas/core/frame.py\u001b[0m in \u001b[0;36m_getitem_multilevel\u001b[0;34m(self, key)\u001b[0m\n\u001b[1;32m   2099\u001b[0m \u001b[0;34m\u001b[0m\u001b[0m\n\u001b[1;32m   2100\u001b[0m     \u001b[0;32mdef\u001b[0m \u001b[0m_getitem_multilevel\u001b[0m\u001b[0;34m(\u001b[0m\u001b[0mself\u001b[0m\u001b[0;34m,\u001b[0m \u001b[0mkey\u001b[0m\u001b[0;34m)\u001b[0m\u001b[0;34m:\u001b[0m\u001b[0;34m\u001b[0m\u001b[0m\n\u001b[0;32m-> 2101\u001b[0;31m         \u001b[0mloc\u001b[0m \u001b[0;34m=\u001b[0m \u001b[0mself\u001b[0m\u001b[0;34m.\u001b[0m\u001b[0mcolumns\u001b[0m\u001b[0;34m.\u001b[0m\u001b[0mget_loc\u001b[0m\u001b[0;34m(\u001b[0m\u001b[0mkey\u001b[0m\u001b[0;34m)\u001b[0m\u001b[0;34m\u001b[0m\u001b[0m\n\u001b[0m\u001b[1;32m   2102\u001b[0m         \u001b[0;32mif\u001b[0m \u001b[0misinstance\u001b[0m\u001b[0;34m(\u001b[0m\u001b[0mloc\u001b[0m\u001b[0;34m,\u001b[0m \u001b[0;34m(\u001b[0m\u001b[0mslice\u001b[0m\u001b[0;34m,\u001b[0m \u001b[0mSeries\u001b[0m\u001b[0;34m,\u001b[0m \u001b[0mnp\u001b[0m\u001b[0;34m.\u001b[0m\u001b[0mndarray\u001b[0m\u001b[0;34m,\u001b[0m \u001b[0mIndex\u001b[0m\u001b[0;34m)\u001b[0m\u001b[0;34m)\u001b[0m\u001b[0;34m:\u001b[0m\u001b[0;34m\u001b[0m\u001b[0m\n\u001b[1;32m   2103\u001b[0m             \u001b[0mnew_columns\u001b[0m \u001b[0;34m=\u001b[0m \u001b[0mself\u001b[0m\u001b[0;34m.\u001b[0m\u001b[0mcolumns\u001b[0m\u001b[0;34m[\u001b[0m\u001b[0mloc\u001b[0m\u001b[0;34m]\u001b[0m\u001b[0;34m\u001b[0m\u001b[0m\n",
      "\u001b[0;32m//anaconda/lib/python3.6/site-packages/pandas/indexes/multi.py\u001b[0m in \u001b[0;36mget_loc\u001b[0;34m(self, key, method)\u001b[0m\n\u001b[1;32m   1641\u001b[0m \u001b[0;34m\u001b[0m\u001b[0m\n\u001b[1;32m   1642\u001b[0m         \u001b[0;32mif\u001b[0m \u001b[0;32mnot\u001b[0m \u001b[0misinstance\u001b[0m\u001b[0;34m(\u001b[0m\u001b[0mkey\u001b[0m\u001b[0;34m,\u001b[0m \u001b[0mtuple\u001b[0m\u001b[0;34m)\u001b[0m\u001b[0;34m:\u001b[0m\u001b[0;34m\u001b[0m\u001b[0m\n\u001b[0;32m-> 1643\u001b[0;31m             \u001b[0mloc\u001b[0m \u001b[0;34m=\u001b[0m \u001b[0mself\u001b[0m\u001b[0;34m.\u001b[0m\u001b[0m_get_level_indexer\u001b[0m\u001b[0;34m(\u001b[0m\u001b[0mkey\u001b[0m\u001b[0;34m,\u001b[0m \u001b[0mlevel\u001b[0m\u001b[0;34m=\u001b[0m\u001b[0;36m0\u001b[0m\u001b[0;34m)\u001b[0m\u001b[0;34m\u001b[0m\u001b[0m\n\u001b[0m\u001b[1;32m   1644\u001b[0m             \u001b[0;32mreturn\u001b[0m \u001b[0m_maybe_to_slice\u001b[0m\u001b[0;34m(\u001b[0m\u001b[0mloc\u001b[0m\u001b[0;34m)\u001b[0m\u001b[0;34m\u001b[0m\u001b[0m\n\u001b[1;32m   1645\u001b[0m \u001b[0;34m\u001b[0m\u001b[0m\n",
      "\u001b[0;32m//anaconda/lib/python3.6/site-packages/pandas/indexes/multi.py\u001b[0m in \u001b[0;36m_get_level_indexer\u001b[0;34m(self, key, level, indexer)\u001b[0m\n\u001b[1;32m   1903\u001b[0m         \u001b[0;32melse\u001b[0m\u001b[0;34m:\u001b[0m\u001b[0;34m\u001b[0m\u001b[0m\n\u001b[1;32m   1904\u001b[0m \u001b[0;34m\u001b[0m\u001b[0m\n\u001b[0;32m-> 1905\u001b[0;31m             \u001b[0mloc\u001b[0m \u001b[0;34m=\u001b[0m \u001b[0mlevel_index\u001b[0m\u001b[0;34m.\u001b[0m\u001b[0mget_loc\u001b[0m\u001b[0;34m(\u001b[0m\u001b[0mkey\u001b[0m\u001b[0;34m)\u001b[0m\u001b[0;34m\u001b[0m\u001b[0m\n\u001b[0m\u001b[1;32m   1906\u001b[0m             \u001b[0;32mif\u001b[0m \u001b[0mlevel\u001b[0m \u001b[0;34m>\u001b[0m \u001b[0;36m0\u001b[0m \u001b[0;32mor\u001b[0m \u001b[0mself\u001b[0m\u001b[0;34m.\u001b[0m\u001b[0mlexsort_depth\u001b[0m \u001b[0;34m==\u001b[0m \u001b[0;36m0\u001b[0m\u001b[0;34m:\u001b[0m\u001b[0;34m\u001b[0m\u001b[0m\n\u001b[1;32m   1907\u001b[0m                 \u001b[0;32mreturn\u001b[0m \u001b[0mnp\u001b[0m\u001b[0;34m.\u001b[0m\u001b[0marray\u001b[0m\u001b[0;34m(\u001b[0m\u001b[0mlabels\u001b[0m \u001b[0;34m==\u001b[0m \u001b[0mloc\u001b[0m\u001b[0;34m,\u001b[0m \u001b[0mdtype\u001b[0m\u001b[0;34m=\u001b[0m\u001b[0mbool\u001b[0m\u001b[0;34m)\u001b[0m\u001b[0;34m\u001b[0m\u001b[0m\n",
      "\u001b[0;32m//anaconda/lib/python3.6/site-packages/pandas/indexes/base.py\u001b[0m in \u001b[0;36mget_loc\u001b[0;34m(self, key, method, tolerance)\u001b[0m\n\u001b[1;32m   2134\u001b[0m                 \u001b[0;32mreturn\u001b[0m \u001b[0mself\u001b[0m\u001b[0;34m.\u001b[0m\u001b[0m_engine\u001b[0m\u001b[0;34m.\u001b[0m\u001b[0mget_loc\u001b[0m\u001b[0;34m(\u001b[0m\u001b[0mkey\u001b[0m\u001b[0;34m)\u001b[0m\u001b[0;34m\u001b[0m\u001b[0m\n\u001b[1;32m   2135\u001b[0m             \u001b[0;32mexcept\u001b[0m \u001b[0mKeyError\u001b[0m\u001b[0;34m:\u001b[0m\u001b[0;34m\u001b[0m\u001b[0m\n\u001b[0;32m-> 2136\u001b[0;31m                 \u001b[0;32mreturn\u001b[0m \u001b[0mself\u001b[0m\u001b[0;34m.\u001b[0m\u001b[0m_engine\u001b[0m\u001b[0;34m.\u001b[0m\u001b[0mget_loc\u001b[0m\u001b[0;34m(\u001b[0m\u001b[0mself\u001b[0m\u001b[0;34m.\u001b[0m\u001b[0m_maybe_cast_indexer\u001b[0m\u001b[0;34m(\u001b[0m\u001b[0mkey\u001b[0m\u001b[0;34m)\u001b[0m\u001b[0;34m)\u001b[0m\u001b[0;34m\u001b[0m\u001b[0m\n\u001b[0m\u001b[1;32m   2137\u001b[0m \u001b[0;34m\u001b[0m\u001b[0m\n\u001b[1;32m   2138\u001b[0m         \u001b[0mindexer\u001b[0m \u001b[0;34m=\u001b[0m \u001b[0mself\u001b[0m\u001b[0;34m.\u001b[0m\u001b[0mget_indexer\u001b[0m\u001b[0;34m(\u001b[0m\u001b[0;34m[\u001b[0m\u001b[0mkey\u001b[0m\u001b[0;34m]\u001b[0m\u001b[0;34m,\u001b[0m \u001b[0mmethod\u001b[0m\u001b[0;34m=\u001b[0m\u001b[0mmethod\u001b[0m\u001b[0;34m,\u001b[0m \u001b[0mtolerance\u001b[0m\u001b[0;34m=\u001b[0m\u001b[0mtolerance\u001b[0m\u001b[0;34m)\u001b[0m\u001b[0;34m\u001b[0m\u001b[0m\n",
      "\u001b[0;32mpandas/index.pyx\u001b[0m in \u001b[0;36mpandas.index.IndexEngine.get_loc (pandas/index.c:4433)\u001b[0;34m()\u001b[0m\n",
      "\u001b[0;32mpandas/index.pyx\u001b[0m in \u001b[0;36mpandas.index.IndexEngine.get_loc (pandas/index.c:4279)\u001b[0;34m()\u001b[0m\n",
      "\u001b[0;32mpandas/src/hashtable_class_helper.pxi\u001b[0m in \u001b[0;36mpandas.hashtable.PyObjectHashTable.get_item (pandas/hashtable.c:13742)\u001b[0;34m()\u001b[0m\n",
      "\u001b[0;32mpandas/src/hashtable_class_helper.pxi\u001b[0m in \u001b[0;36mpandas.hashtable.PyObjectHashTable.get_item (pandas/hashtable.c:13696)\u001b[0;34m()\u001b[0m\n",
      "\u001b[0;31mKeyError\u001b[0m: 'emp_con_sum'"
     ]
    }
   ],
   "source": [
    "esgs = [\n",
    "    'emp_str', \n",
    "    'emp_con', \n",
    "    'env_str', \n",
    "    'env_con', \n",
    "    'alc_con', \n",
    "    'cgov_str', \n",
    "    'cgov_con', \n",
    "    'com_str',\n",
    "    'com_con',\n",
    "    'div_str',\n",
    "    'div_con'\n",
    "] \n",
    "\n",
    "for esg in esgs:\n",
    "    do_the_whole_dance_with(esg, num_comparisons=11)"
   ]
  },
  {
   "cell_type": "markdown",
   "metadata": {},
   "source": [
    "That is a lot of 'true'values for accepting the null hypothesis. \n",
    "\n",
    "We can also check our resuts with the Benjamini-Hochberg procedure. "
   ]
  },
  {
   "cell_type": "code",
   "execution_count": null,
   "metadata": {
    "collapsed": true
   },
   "outputs": [],
   "source": []
  }
 ],
 "metadata": {
  "kernelspec": {
   "display_name": "Python 3",
   "language": "python",
   "name": "python3"
  },
  "language_info": {
   "codemirror_mode": {
    "name": "ipython",
    "version": 3
   },
   "file_extension": ".py",
   "mimetype": "text/x-python",
   "name": "python",
   "nbconvert_exporter": "python",
   "pygments_lexer": "ipython3",
   "version": "3.6.1"
  }
 },
 "nbformat": 4,
 "nbformat_minor": 2
}
